{
  "nbformat": 4,
  "nbformat_minor": 0,
  "metadata": {
    "colab": {
      "name": "ddos-withoutCorrelation.ipynb",
      "provenance": [],
      "collapsed_sections": []
    },
    "kernelspec": {
      "name": "python3",
      "display_name": "Python 3"
    },
    "language_info": {
      "name": "python"
    }
  },
  "cells": [
    {
      "cell_type": "code",
      "metadata": {
        "id": "u-hZN36fmyho"
      },
      "source": [
        "# Load libraries\n",
        "import pandas as pd\n",
        "import numpy as np\n",
        "from sklearn.tree import DecisionTreeClassifier # Import Decision Tree Classifier\n",
        "from sklearn.model_selection import train_test_split # Import train_test_split function\n",
        "from sklearn import metrics #Import scikit-learn metrics module for accuracy calculation\n",
        "import matplotlib.pyplot as plt"
      ],
      "execution_count": null,
      "outputs": []
    },
    {
      "cell_type": "code",
      "metadata": {
        "colab": {
          "base_uri": "https://localhost:8080/"
        },
        "id": "02pBKNxLm211",
        "outputId": "942f6f7e-cee8-465b-eab0-22a5bd01026c"
      },
      "source": [
        "df= pd.read_csv(\"/content/Train.csv\")"
      ],
      "execution_count": null,
      "outputs": [
        {
          "output_type": "stream",
          "text": [
            "/usr/local/lib/python3.7/dist-packages/IPython/core/interactiveshell.py:2718: DtypeWarning: Columns (85) have mixed types.Specify dtype option on import or set low_memory=False.\n",
            "  interactivity=interactivity, compiler=compiler, result=result)\n"
          ],
          "name": "stderr"
        }
      ]
    },
    {
      "cell_type": "code",
      "metadata": {
        "colab": {
          "base_uri": "https://localhost:8080/",
          "height": 494
        },
        "id": "IqqT61Fpm3Qk",
        "outputId": "4cb58c9e-d818-49a9-fa58-7cfc3a50b00b"
      },
      "source": [
        "df.head()"
      ],
      "execution_count": null,
      "outputs": [
        {
          "output_type": "execute_result",
          "data": {
            "text/html": [
              "<div>\n",
              "<style scoped>\n",
              "    .dataframe tbody tr th:only-of-type {\n",
              "        vertical-align: middle;\n",
              "    }\n",
              "\n",
              "    .dataframe tbody tr th {\n",
              "        vertical-align: top;\n",
              "    }\n",
              "\n",
              "    .dataframe thead th {\n",
              "        text-align: right;\n",
              "    }\n",
              "</style>\n",
              "<table border=\"1\" class=\"dataframe\">\n",
              "  <thead>\n",
              "    <tr style=\"text-align: right;\">\n",
              "      <th></th>\n",
              "      <th>Unnamed..0</th>\n",
              "      <th>Flow.ID</th>\n",
              "      <th>Source.IP</th>\n",
              "      <th>Source.Port</th>\n",
              "      <th>Destination.IP</th>\n",
              "      <th>Destination.Port</th>\n",
              "      <th>Protocol</th>\n",
              "      <th>Timestamp</th>\n",
              "      <th>Flow.Duration</th>\n",
              "      <th>Total.Fwd.Packets</th>\n",
              "      <th>Total.Backward.Packets</th>\n",
              "      <th>Total.Length.of.Fwd.Packets</th>\n",
              "      <th>Total.Length.of.Bwd.Packets</th>\n",
              "      <th>Fwd.Packet.Length.Max</th>\n",
              "      <th>Fwd.Packet.Length.Min</th>\n",
              "      <th>Fwd.Packet.Length.Mean</th>\n",
              "      <th>Fwd.Packet.Length.Std</th>\n",
              "      <th>Bwd.Packet.Length.Max</th>\n",
              "      <th>Bwd.Packet.Length.Min</th>\n",
              "      <th>Bwd.Packet.Length.Mean</th>\n",
              "      <th>Bwd.Packet.Length.Std</th>\n",
              "      <th>Flow.Bytes.s</th>\n",
              "      <th>Flow.Packets.s</th>\n",
              "      <th>Flow.IAT.Mean</th>\n",
              "      <th>Flow.IAT.Std</th>\n",
              "      <th>Flow.IAT.Max</th>\n",
              "      <th>Flow.IAT.Min</th>\n",
              "      <th>Fwd.IAT.Total</th>\n",
              "      <th>Fwd.IAT.Mean</th>\n",
              "      <th>Fwd.IAT.Std</th>\n",
              "      <th>Fwd.IAT.Max</th>\n",
              "      <th>Fwd.IAT.Min</th>\n",
              "      <th>Bwd.IAT.Total</th>\n",
              "      <th>Bwd.IAT.Mean</th>\n",
              "      <th>Bwd.IAT.Std</th>\n",
              "      <th>Bwd.IAT.Max</th>\n",
              "      <th>Bwd.IAT.Min</th>\n",
              "      <th>Fwd.PSH.Flags</th>\n",
              "      <th>Bwd.PSH.Flags</th>\n",
              "      <th>Fwd.URG.Flags</th>\n",
              "      <th>...</th>\n",
              "      <th>Packet.Length.Std</th>\n",
              "      <th>Packet.Length.Variance</th>\n",
              "      <th>FIN.Flag.Count</th>\n",
              "      <th>SYN.Flag.Count</th>\n",
              "      <th>RST.Flag.Count</th>\n",
              "      <th>PSH.Flag.Count</th>\n",
              "      <th>ACK.Flag.Count</th>\n",
              "      <th>URG.Flag.Count</th>\n",
              "      <th>CWE.Flag.Count</th>\n",
              "      <th>ECE.Flag.Count</th>\n",
              "      <th>Down.Up.Ratio</th>\n",
              "      <th>Average.Packet.Size</th>\n",
              "      <th>Avg.Fwd.Segment.Size</th>\n",
              "      <th>Avg.Bwd.Segment.Size</th>\n",
              "      <th>Fwd.Header.Length.1</th>\n",
              "      <th>Fwd.Avg.Bytes.Bulk</th>\n",
              "      <th>Fwd.Avg.Packets.Bulk</th>\n",
              "      <th>Fwd.Avg.Bulk.Rate</th>\n",
              "      <th>Bwd.Avg.Bytes.Bulk</th>\n",
              "      <th>Bwd.Avg.Packets.Bulk</th>\n",
              "      <th>Bwd.Avg.Bulk.Rate</th>\n",
              "      <th>Subflow.Fwd.Packets</th>\n",
              "      <th>Subflow.Fwd.Bytes</th>\n",
              "      <th>Subflow.Bwd.Packets</th>\n",
              "      <th>Subflow.Bwd.Bytes</th>\n",
              "      <th>Init_Win_bytes_forward</th>\n",
              "      <th>Init_Win_bytes_backward</th>\n",
              "      <th>act_data_pkt_fwd</th>\n",
              "      <th>min_seg_size_forward</th>\n",
              "      <th>Active.Mean</th>\n",
              "      <th>Active.Std</th>\n",
              "      <th>Active.Max</th>\n",
              "      <th>Active.Min</th>\n",
              "      <th>Idle.Mean</th>\n",
              "      <th>Idle.Std</th>\n",
              "      <th>Idle.Max</th>\n",
              "      <th>Idle.Min</th>\n",
              "      <th>SimillarHTTP</th>\n",
              "      <th>Inbound</th>\n",
              "      <th>Label</th>\n",
              "    </tr>\n",
              "  </thead>\n",
              "  <tbody>\n",
              "    <tr>\n",
              "      <th>0</th>\n",
              "      <td>1110</td>\n",
              "      <td>172.16.0.5-192.168.50.1-872-45984-17</td>\n",
              "      <td>172.16.0.5</td>\n",
              "      <td>872</td>\n",
              "      <td>192.168.50.1</td>\n",
              "      <td>45984</td>\n",
              "      <td>17</td>\n",
              "      <td>29:44.0</td>\n",
              "      <td>2</td>\n",
              "      <td>2</td>\n",
              "      <td>0</td>\n",
              "      <td>2944</td>\n",
              "      <td>0</td>\n",
              "      <td>1472</td>\n",
              "      <td>1472</td>\n",
              "      <td>1472.0</td>\n",
              "      <td>0.0</td>\n",
              "      <td>0</td>\n",
              "      <td>0</td>\n",
              "      <td>0.0</td>\n",
              "      <td>0.0</td>\n",
              "      <td>1.470000e+09</td>\n",
              "      <td>1.000000e+06</td>\n",
              "      <td>2.0</td>\n",
              "      <td>0.0</td>\n",
              "      <td>2.0</td>\n",
              "      <td>2</td>\n",
              "      <td>2</td>\n",
              "      <td>2.0</td>\n",
              "      <td>0.0</td>\n",
              "      <td>2</td>\n",
              "      <td>2</td>\n",
              "      <td>0</td>\n",
              "      <td>0.0</td>\n",
              "      <td>0.0</td>\n",
              "      <td>0.0</td>\n",
              "      <td>0</td>\n",
              "      <td>0</td>\n",
              "      <td>0</td>\n",
              "      <td>0</td>\n",
              "      <td>...</td>\n",
              "      <td>0.0</td>\n",
              "      <td>0.0</td>\n",
              "      <td>0</td>\n",
              "      <td>0</td>\n",
              "      <td>0</td>\n",
              "      <td>0</td>\n",
              "      <td>0</td>\n",
              "      <td>0</td>\n",
              "      <td>0</td>\n",
              "      <td>0</td>\n",
              "      <td>0</td>\n",
              "      <td>2208.0</td>\n",
              "      <td>1472.0</td>\n",
              "      <td>0.0</td>\n",
              "      <td>0.0</td>\n",
              "      <td>0</td>\n",
              "      <td>0</td>\n",
              "      <td>0</td>\n",
              "      <td>0</td>\n",
              "      <td>0</td>\n",
              "      <td>0</td>\n",
              "      <td>2</td>\n",
              "      <td>2944</td>\n",
              "      <td>0</td>\n",
              "      <td>0</td>\n",
              "      <td>-1</td>\n",
              "      <td>-1</td>\n",
              "      <td>1</td>\n",
              "      <td>0</td>\n",
              "      <td>0.0</td>\n",
              "      <td>0.0</td>\n",
              "      <td>0</td>\n",
              "      <td>0</td>\n",
              "      <td>0.0</td>\n",
              "      <td>0.0</td>\n",
              "      <td>0.0</td>\n",
              "      <td>0.0</td>\n",
              "      <td>0</td>\n",
              "      <td>1</td>\n",
              "      <td>DrDoS_LDAP</td>\n",
              "    </tr>\n",
              "    <tr>\n",
              "      <th>1</th>\n",
              "      <td>25998</td>\n",
              "      <td>172.16.0.5-192.168.50.1-867-39632-17</td>\n",
              "      <td>172.16.0.5</td>\n",
              "      <td>867</td>\n",
              "      <td>192.168.50.1</td>\n",
              "      <td>39632</td>\n",
              "      <td>17</td>\n",
              "      <td>31:01.1</td>\n",
              "      <td>43</td>\n",
              "      <td>2</td>\n",
              "      <td>0</td>\n",
              "      <td>2944</td>\n",
              "      <td>0</td>\n",
              "      <td>1472</td>\n",
              "      <td>1472</td>\n",
              "      <td>1472.0</td>\n",
              "      <td>0.0</td>\n",
              "      <td>0</td>\n",
              "      <td>0</td>\n",
              "      <td>0.0</td>\n",
              "      <td>0.0</td>\n",
              "      <td>6.846512e+07</td>\n",
              "      <td>4.651163e+04</td>\n",
              "      <td>43.0</td>\n",
              "      <td>0.0</td>\n",
              "      <td>43.0</td>\n",
              "      <td>43</td>\n",
              "      <td>43</td>\n",
              "      <td>43.0</td>\n",
              "      <td>0.0</td>\n",
              "      <td>43</td>\n",
              "      <td>43</td>\n",
              "      <td>0</td>\n",
              "      <td>0.0</td>\n",
              "      <td>0.0</td>\n",
              "      <td>0.0</td>\n",
              "      <td>0</td>\n",
              "      <td>0</td>\n",
              "      <td>0</td>\n",
              "      <td>0</td>\n",
              "      <td>...</td>\n",
              "      <td>0.0</td>\n",
              "      <td>0.0</td>\n",
              "      <td>0</td>\n",
              "      <td>0</td>\n",
              "      <td>0</td>\n",
              "      <td>0</td>\n",
              "      <td>0</td>\n",
              "      <td>0</td>\n",
              "      <td>0</td>\n",
              "      <td>0</td>\n",
              "      <td>0</td>\n",
              "      <td>2208.0</td>\n",
              "      <td>1472.0</td>\n",
              "      <td>0.0</td>\n",
              "      <td>0.0</td>\n",
              "      <td>0</td>\n",
              "      <td>0</td>\n",
              "      <td>0</td>\n",
              "      <td>0</td>\n",
              "      <td>0</td>\n",
              "      <td>0</td>\n",
              "      <td>2</td>\n",
              "      <td>2944</td>\n",
              "      <td>0</td>\n",
              "      <td>0</td>\n",
              "      <td>-1</td>\n",
              "      <td>-1</td>\n",
              "      <td>1</td>\n",
              "      <td>0</td>\n",
              "      <td>0.0</td>\n",
              "      <td>0.0</td>\n",
              "      <td>0</td>\n",
              "      <td>0</td>\n",
              "      <td>0.0</td>\n",
              "      <td>0.0</td>\n",
              "      <td>0.0</td>\n",
              "      <td>0.0</td>\n",
              "      <td>0</td>\n",
              "      <td>1</td>\n",
              "      <td>DrDoS_LDAP</td>\n",
              "    </tr>\n",
              "    <tr>\n",
              "      <th>2</th>\n",
              "      <td>10751</td>\n",
              "      <td>172.16.0.5-192.168.50.1-818-826-17</td>\n",
              "      <td>172.16.0.5</td>\n",
              "      <td>818</td>\n",
              "      <td>192.168.50.1</td>\n",
              "      <td>826</td>\n",
              "      <td>17</td>\n",
              "      <td>24:38.4</td>\n",
              "      <td>1</td>\n",
              "      <td>2</td>\n",
              "      <td>0</td>\n",
              "      <td>2944</td>\n",
              "      <td>0</td>\n",
              "      <td>1472</td>\n",
              "      <td>1472</td>\n",
              "      <td>1472.0</td>\n",
              "      <td>0.0</td>\n",
              "      <td>0</td>\n",
              "      <td>0</td>\n",
              "      <td>0.0</td>\n",
              "      <td>0.0</td>\n",
              "      <td>2.940000e+09</td>\n",
              "      <td>2.000000e+06</td>\n",
              "      <td>1.0</td>\n",
              "      <td>0.0</td>\n",
              "      <td>1.0</td>\n",
              "      <td>1</td>\n",
              "      <td>1</td>\n",
              "      <td>1.0</td>\n",
              "      <td>0.0</td>\n",
              "      <td>1</td>\n",
              "      <td>1</td>\n",
              "      <td>0</td>\n",
              "      <td>0.0</td>\n",
              "      <td>0.0</td>\n",
              "      <td>0.0</td>\n",
              "      <td>0</td>\n",
              "      <td>0</td>\n",
              "      <td>0</td>\n",
              "      <td>0</td>\n",
              "      <td>...</td>\n",
              "      <td>0.0</td>\n",
              "      <td>0.0</td>\n",
              "      <td>0</td>\n",
              "      <td>0</td>\n",
              "      <td>0</td>\n",
              "      <td>0</td>\n",
              "      <td>0</td>\n",
              "      <td>0</td>\n",
              "      <td>0</td>\n",
              "      <td>0</td>\n",
              "      <td>0</td>\n",
              "      <td>2208.0</td>\n",
              "      <td>1472.0</td>\n",
              "      <td>0.0</td>\n",
              "      <td>40.0</td>\n",
              "      <td>0</td>\n",
              "      <td>0</td>\n",
              "      <td>0</td>\n",
              "      <td>0</td>\n",
              "      <td>0</td>\n",
              "      <td>0</td>\n",
              "      <td>2</td>\n",
              "      <td>2944</td>\n",
              "      <td>0</td>\n",
              "      <td>0</td>\n",
              "      <td>-1</td>\n",
              "      <td>-1</td>\n",
              "      <td>1</td>\n",
              "      <td>20</td>\n",
              "      <td>0.0</td>\n",
              "      <td>0.0</td>\n",
              "      <td>0</td>\n",
              "      <td>0</td>\n",
              "      <td>0.0</td>\n",
              "      <td>0.0</td>\n",
              "      <td>0.0</td>\n",
              "      <td>0.0</td>\n",
              "      <td>0</td>\n",
              "      <td>1</td>\n",
              "      <td>DrDoS_LDAP</td>\n",
              "    </tr>\n",
              "    <tr>\n",
              "      <th>3</th>\n",
              "      <td>15983</td>\n",
              "      <td>172.16.0.5-192.168.50.1-894-32984-17</td>\n",
              "      <td>172.16.0.5</td>\n",
              "      <td>894</td>\n",
              "      <td>192.168.50.1</td>\n",
              "      <td>32984</td>\n",
              "      <td>17</td>\n",
              "      <td>27:01.5</td>\n",
              "      <td>1</td>\n",
              "      <td>2</td>\n",
              "      <td>0</td>\n",
              "      <td>2944</td>\n",
              "      <td>0</td>\n",
              "      <td>1472</td>\n",
              "      <td>1472</td>\n",
              "      <td>1472.0</td>\n",
              "      <td>0.0</td>\n",
              "      <td>0</td>\n",
              "      <td>0</td>\n",
              "      <td>0.0</td>\n",
              "      <td>0.0</td>\n",
              "      <td>2.940000e+09</td>\n",
              "      <td>2.000000e+06</td>\n",
              "      <td>1.0</td>\n",
              "      <td>0.0</td>\n",
              "      <td>1.0</td>\n",
              "      <td>1</td>\n",
              "      <td>1</td>\n",
              "      <td>1.0</td>\n",
              "      <td>0.0</td>\n",
              "      <td>1</td>\n",
              "      <td>1</td>\n",
              "      <td>0</td>\n",
              "      <td>0.0</td>\n",
              "      <td>0.0</td>\n",
              "      <td>0.0</td>\n",
              "      <td>0</td>\n",
              "      <td>0</td>\n",
              "      <td>0</td>\n",
              "      <td>0</td>\n",
              "      <td>...</td>\n",
              "      <td>0.0</td>\n",
              "      <td>0.0</td>\n",
              "      <td>0</td>\n",
              "      <td>0</td>\n",
              "      <td>0</td>\n",
              "      <td>0</td>\n",
              "      <td>0</td>\n",
              "      <td>0</td>\n",
              "      <td>0</td>\n",
              "      <td>0</td>\n",
              "      <td>0</td>\n",
              "      <td>2208.0</td>\n",
              "      <td>1472.0</td>\n",
              "      <td>0.0</td>\n",
              "      <td>-2.0</td>\n",
              "      <td>0</td>\n",
              "      <td>0</td>\n",
              "      <td>0</td>\n",
              "      <td>0</td>\n",
              "      <td>0</td>\n",
              "      <td>0</td>\n",
              "      <td>2</td>\n",
              "      <td>2944</td>\n",
              "      <td>0</td>\n",
              "      <td>0</td>\n",
              "      <td>-1</td>\n",
              "      <td>-1</td>\n",
              "      <td>1</td>\n",
              "      <td>-1</td>\n",
              "      <td>0.0</td>\n",
              "      <td>0.0</td>\n",
              "      <td>0</td>\n",
              "      <td>0</td>\n",
              "      <td>0.0</td>\n",
              "      <td>0.0</td>\n",
              "      <td>0.0</td>\n",
              "      <td>0.0</td>\n",
              "      <td>0</td>\n",
              "      <td>1</td>\n",
              "      <td>DrDoS_LDAP</td>\n",
              "    </tr>\n",
              "    <tr>\n",
              "      <th>4</th>\n",
              "      <td>29733</td>\n",
              "      <td>172.16.0.5-192.168.50.1-877-12571-17</td>\n",
              "      <td>172.16.0.5</td>\n",
              "      <td>877</td>\n",
              "      <td>192.168.50.1</td>\n",
              "      <td>12571</td>\n",
              "      <td>17</td>\n",
              "      <td>26:58.1</td>\n",
              "      <td>3</td>\n",
              "      <td>2</td>\n",
              "      <td>0</td>\n",
              "      <td>2944</td>\n",
              "      <td>0</td>\n",
              "      <td>1472</td>\n",
              "      <td>1472</td>\n",
              "      <td>1472.0</td>\n",
              "      <td>0.0</td>\n",
              "      <td>0</td>\n",
              "      <td>0</td>\n",
              "      <td>0.0</td>\n",
              "      <td>0.0</td>\n",
              "      <td>9.813333e+08</td>\n",
              "      <td>6.666667e+05</td>\n",
              "      <td>3.0</td>\n",
              "      <td>0.0</td>\n",
              "      <td>3.0</td>\n",
              "      <td>3</td>\n",
              "      <td>3</td>\n",
              "      <td>3.0</td>\n",
              "      <td>0.0</td>\n",
              "      <td>3</td>\n",
              "      <td>3</td>\n",
              "      <td>0</td>\n",
              "      <td>0.0</td>\n",
              "      <td>0.0</td>\n",
              "      <td>0.0</td>\n",
              "      <td>0</td>\n",
              "      <td>0</td>\n",
              "      <td>0</td>\n",
              "      <td>0</td>\n",
              "      <td>...</td>\n",
              "      <td>0.0</td>\n",
              "      <td>0.0</td>\n",
              "      <td>0</td>\n",
              "      <td>0</td>\n",
              "      <td>0</td>\n",
              "      <td>0</td>\n",
              "      <td>0</td>\n",
              "      <td>0</td>\n",
              "      <td>0</td>\n",
              "      <td>0</td>\n",
              "      <td>0</td>\n",
              "      <td>2208.0</td>\n",
              "      <td>1472.0</td>\n",
              "      <td>0.0</td>\n",
              "      <td>0.0</td>\n",
              "      <td>0</td>\n",
              "      <td>0</td>\n",
              "      <td>0</td>\n",
              "      <td>0</td>\n",
              "      <td>0</td>\n",
              "      <td>0</td>\n",
              "      <td>2</td>\n",
              "      <td>2944</td>\n",
              "      <td>0</td>\n",
              "      <td>0</td>\n",
              "      <td>-1</td>\n",
              "      <td>-1</td>\n",
              "      <td>1</td>\n",
              "      <td>0</td>\n",
              "      <td>0.0</td>\n",
              "      <td>0.0</td>\n",
              "      <td>0</td>\n",
              "      <td>0</td>\n",
              "      <td>0.0</td>\n",
              "      <td>0.0</td>\n",
              "      <td>0.0</td>\n",
              "      <td>0.0</td>\n",
              "      <td>0</td>\n",
              "      <td>1</td>\n",
              "      <td>DrDoS_LDAP</td>\n",
              "    </tr>\n",
              "  </tbody>\n",
              "</table>\n",
              "<p>5 rows × 88 columns</p>\n",
              "</div>"
            ],
            "text/plain": [
              "   Unnamed..0                               Flow.ID  ... Inbound       Label\n",
              "0        1110  172.16.0.5-192.168.50.1-872-45984-17  ...       1  DrDoS_LDAP\n",
              "1       25998  172.16.0.5-192.168.50.1-867-39632-17  ...       1  DrDoS_LDAP\n",
              "2       10751    172.16.0.5-192.168.50.1-818-826-17  ...       1  DrDoS_LDAP\n",
              "3       15983  172.16.0.5-192.168.50.1-894-32984-17  ...       1  DrDoS_LDAP\n",
              "4       29733  172.16.0.5-192.168.50.1-877-12571-17  ...       1  DrDoS_LDAP\n",
              "\n",
              "[5 rows x 88 columns]"
            ]
          },
          "metadata": {
            "tags": []
          },
          "execution_count": 3
        }
      ]
    },
    {
      "cell_type": "code",
      "metadata": {
        "colab": {
          "base_uri": "https://localhost:8080/"
        },
        "id": "JtnabgYfm5PB",
        "outputId": "90414bb8-25c7-44cd-f014-e953403e3c26"
      },
      "source": [
        "df.Label.unique()"
      ],
      "execution_count": null,
      "outputs": [
        {
          "output_type": "execute_result",
          "data": {
            "text/plain": [
              "array(['DrDoS_LDAP', 'DrDoS_DNS', 'DrDoS_MSSQL', 'DrDoS_UDP',\n",
              "       'DrDoS_NetBIOS', 'Syn', 'UDP-lag', 'DrDoS_SSDP', 'DrDoS_SNMP',\n",
              "       'DrDoS_NTP', 'TFTP', 'BENIGN'], dtype=object)"
            ]
          },
          "metadata": {
            "tags": []
          },
          "execution_count": 4
        }
      ]
    },
    {
      "cell_type": "code",
      "metadata": {
        "id": "pD31AOBYnExt"
      },
      "source": [
        "df1 = df.replace(to_replace =\"DrDoS_LDAP\", \n",
        "                 value =1.0) \n",
        "df2 = df1.replace(to_replace =\"DrDoS_DNS\", \n",
        "                 value =2.0)\n",
        "df3 = df2.replace(to_replace =\"DrDoS_MSSQL\", \n",
        "                 value =3.0)\n",
        "df4 = df3.replace(to_replace =\"DrDoS_UDP\", \n",
        "                 value =4.0)\n",
        "df5 = df4.replace(to_replace =\"DrDoS_NetBIOS\", \n",
        "                 value =5.0)\n",
        "df6 = df5.replace(to_replace =\"Syn\", \n",
        "                 value =6.0)\n",
        "df7 = df6.replace(to_replace =\"UDP-lag\", \n",
        "                 value =7.0)\n",
        "df8 = df7.replace(to_replace =\"DrDoS_SSDP\", \n",
        "                 value =8.0)\n",
        "df9 = df8.replace(to_replace =\"DrDoS_SNMP\", \n",
        "                 value =9.0)\n",
        "df10 = df9.replace(to_replace =\"DrDoS_NTP\", \n",
        "                 value =10.0)\n",
        "df11 = df10.replace(to_replace =\"TFTP\", \n",
        "                 value =11.0)\n",
        "df12 = df11.replace(to_replace =\"BENIGN\", \n",
        "                 value =0.0)"
      ],
      "execution_count": null,
      "outputs": []
    },
    {
      "cell_type": "code",
      "metadata": {
        "colab": {
          "base_uri": "https://localhost:8080/"
        },
        "id": "DvDEpQHjnFOf",
        "outputId": "a1fdf4b4-d366-4c47-b4a2-f3a1291717da"
      },
      "source": [
        "df12.Label.unique()"
      ],
      "execution_count": null,
      "outputs": [
        {
          "output_type": "execute_result",
          "data": {
            "text/plain": [
              "array([ 1.,  2.,  3.,  4.,  5.,  6.,  7.,  8.,  9., 10., 11.,  0.])"
            ]
          },
          "metadata": {
            "tags": []
          },
          "execution_count": 6
        }
      ]
    },
    {
      "cell_type": "code",
      "metadata": {
        "id": "U3_dDhLHnHE0"
      },
      "source": [
        "df12[\"Flow.ID\"] = df12[\"Flow.ID\"].str.replace(r'\\D', '')\n",
        "df12[\"Source.IP\"] = df12[\"Source.IP\"].str.replace(r'\\D', '')\n",
        "df12[\"Destination.IP\"] = df12[\"Destination.IP\"].str.replace(r'\\D', '')\n",
        "df12[\"Timestamp\"] = df12[\"Timestamp\"].str.replace(r'\\D', '')\n",
        "df13 = df12.drop(columns=['SimillarHTTP'])\n",
        "df14 =  df13.replace([np.inf, -np.inf], np.nan)\n",
        "df15 = df14.fillna(0)\n"
      ],
      "execution_count": null,
      "outputs": []
    },
    {
      "cell_type": "code",
      "metadata": {
        "colab": {
          "base_uri": "https://localhost:8080/"
        },
        "id": "waJXa4yhnIxI",
        "outputId": "0478d123-44e1-4144-a027-9b17ad5d952b"
      },
      "source": [
        "print(df15.dtypes)"
      ],
      "execution_count": null,
      "outputs": [
        {
          "output_type": "stream",
          "text": [
            "Unnamed..0          int64\n",
            "Flow.ID            object\n",
            "Source.IP          object\n",
            "Source.Port         int64\n",
            "Destination.IP     object\n",
            "                   ...   \n",
            "Idle.Std          float64\n",
            "Idle.Max          float64\n",
            "Idle.Min          float64\n",
            "Inbound             int64\n",
            "Label             float64\n",
            "Length: 87, dtype: object\n"
          ],
          "name": "stdout"
        }
      ]
    },
    {
      "cell_type": "code",
      "metadata": {
        "id": "2XwhCTaWH09B"
      },
      "source": [
        "df16 = df15.astype(float)"
      ],
      "execution_count": null,
      "outputs": []
    },
    {
      "cell_type": "code",
      "metadata": {
        "colab": {
          "base_uri": "https://localhost:8080/"
        },
        "id": "-mqmdRwLIG6V",
        "outputId": "696c0634-c6fe-44b6-cef0-3c0c54c60e42"
      },
      "source": [
        "print(df16.dtypes)"
      ],
      "execution_count": null,
      "outputs": [
        {
          "output_type": "stream",
          "text": [
            "Unnamed..0        float64\n",
            "Flow.ID           float64\n",
            "Source.IP         float64\n",
            "Source.Port       float64\n",
            "Destination.IP    float64\n",
            "                   ...   \n",
            "Idle.Std          float64\n",
            "Idle.Max          float64\n",
            "Idle.Min          float64\n",
            "Inbound           float64\n",
            "Label             float64\n",
            "Length: 87, dtype: object\n"
          ],
          "name": "stdout"
        }
      ]
    },
    {
      "cell_type": "code",
      "metadata": {
        "colab": {
          "base_uri": "https://localhost:8080/"
        },
        "id": "P_QfyKLWnKMJ",
        "outputId": "ef72112a-a1de-4b38-cb3c-20ca7237e95e"
      },
      "source": [
        "df16.isnull().values.any()"
      ],
      "execution_count": null,
      "outputs": [
        {
          "output_type": "execute_result",
          "data": {
            "text/plain": [
              "False"
            ]
          },
          "metadata": {
            "tags": []
          },
          "execution_count": 11
        }
      ]
    },
    {
      "cell_type": "code",
      "metadata": {
        "id": "4T2ulL_jnLt5"
      },
      "source": [
        "a = df16.drop('Label', axis=1)\n",
        "b = df16['Label']"
      ],
      "execution_count": null,
      "outputs": []
    },
    {
      "cell_type": "code",
      "metadata": {
        "id": "Vq4N0-AxnQG3"
      },
      "source": [
        "#Univariate feature selection\n",
        "from sklearn.feature_selection import SelectKBest\n",
        "from sklearn.feature_selection import f_classif\n",
        "from sklearn.feature_selection import chi2"
      ],
      "execution_count": null,
      "outputs": []
    },
    {
      "cell_type": "code",
      "metadata": {
        "colab": {
          "base_uri": "https://localhost:8080/"
        },
        "id": "QXLxnFhanRR4",
        "outputId": "c5b1ef8e-e3c6-4359-cee4-b004c94b1932"
      },
      "source": [
        "bestfeatures = SelectKBest(score_func=f_classif, k=10)\n",
        "fit = bestfeatures.fit(a,b)"
      ],
      "execution_count": null,
      "outputs": [
        {
          "output_type": "stream",
          "text": [
            "/usr/local/lib/python3.7/dist-packages/sklearn/feature_selection/_univariate_selection.py:114: UserWarning: Features [38 39 40 50 53 57 63 64 65 66 67 68] are constant.\n",
            "  UserWarning)\n",
            "/usr/local/lib/python3.7/dist-packages/sklearn/feature_selection/_univariate_selection.py:115: RuntimeWarning: invalid value encountered in true_divide\n",
            "  f = msb / msw\n"
          ],
          "name": "stderr"
        }
      ]
    },
    {
      "cell_type": "code",
      "metadata": {
        "id": "YpoAKjzrnXEy"
      },
      "source": [
        "dfscores = pd.DataFrame(fit.scores_)\n",
        "dfcolumns = pd.DataFrame(a.columns)"
      ],
      "execution_count": null,
      "outputs": []
    },
    {
      "cell_type": "code",
      "metadata": {
        "id": "bNtTHp34ngEp"
      },
      "source": [
        "#concat two dataframes for better visualization \n",
        "featureScores = pd.concat([dfcolumns,dfscores],axis=1)\n",
        "featureScores.columns = ['Specs','Score']  #naming the dataframe columns"
      ],
      "execution_count": null,
      "outputs": []
    },
    {
      "cell_type": "code",
      "metadata": {
        "colab": {
          "base_uri": "https://localhost:8080/",
          "height": 415
        },
        "id": "Y6OzAFotngjJ",
        "outputId": "dcad6604-42eb-4206-b892-780583fa073b"
      },
      "source": [
        "featureScores"
      ],
      "execution_count": null,
      "outputs": [
        {
          "output_type": "execute_result",
          "data": {
            "text/html": [
              "<div>\n",
              "<style scoped>\n",
              "    .dataframe tbody tr th:only-of-type {\n",
              "        vertical-align: middle;\n",
              "    }\n",
              "\n",
              "    .dataframe tbody tr th {\n",
              "        vertical-align: top;\n",
              "    }\n",
              "\n",
              "    .dataframe thead th {\n",
              "        text-align: right;\n",
              "    }\n",
              "</style>\n",
              "<table border=\"1\" class=\"dataframe\">\n",
              "  <thead>\n",
              "    <tr style=\"text-align: right;\">\n",
              "      <th></th>\n",
              "      <th>Specs</th>\n",
              "      <th>Score</th>\n",
              "    </tr>\n",
              "  </thead>\n",
              "  <tbody>\n",
              "    <tr>\n",
              "      <th>0</th>\n",
              "      <td>Unnamed..0</td>\n",
              "      <td>51955.707092</td>\n",
              "    </tr>\n",
              "    <tr>\n",
              "      <th>1</th>\n",
              "      <td>Flow.ID</td>\n",
              "      <td>52.720401</td>\n",
              "    </tr>\n",
              "    <tr>\n",
              "      <th>2</th>\n",
              "      <td>Source.IP</td>\n",
              "      <td>1717.360103</td>\n",
              "    </tr>\n",
              "    <tr>\n",
              "      <th>3</th>\n",
              "      <td>Source.Port</td>\n",
              "      <td>79216.760878</td>\n",
              "    </tr>\n",
              "    <tr>\n",
              "      <th>4</th>\n",
              "      <td>Destination.IP</td>\n",
              "      <td>3533.308104</td>\n",
              "    </tr>\n",
              "    <tr>\n",
              "      <th>...</th>\n",
              "      <td>...</td>\n",
              "      <td>...</td>\n",
              "    </tr>\n",
              "    <tr>\n",
              "      <th>81</th>\n",
              "      <td>Idle.Mean</td>\n",
              "      <td>2475.944810</td>\n",
              "    </tr>\n",
              "    <tr>\n",
              "      <th>82</th>\n",
              "      <td>Idle.Std</td>\n",
              "      <td>1223.552055</td>\n",
              "    </tr>\n",
              "    <tr>\n",
              "      <th>83</th>\n",
              "      <td>Idle.Max</td>\n",
              "      <td>2454.288515</td>\n",
              "    </tr>\n",
              "    <tr>\n",
              "      <th>84</th>\n",
              "      <td>Idle.Min</td>\n",
              "      <td>2337.354451</td>\n",
              "    </tr>\n",
              "    <tr>\n",
              "      <th>85</th>\n",
              "      <td>Inbound</td>\n",
              "      <td>130658.003285</td>\n",
              "    </tr>\n",
              "  </tbody>\n",
              "</table>\n",
              "<p>86 rows × 2 columns</p>\n",
              "</div>"
            ],
            "text/plain": [
              "             Specs          Score\n",
              "0       Unnamed..0   51955.707092\n",
              "1          Flow.ID      52.720401\n",
              "2        Source.IP    1717.360103\n",
              "3      Source.Port   79216.760878\n",
              "4   Destination.IP    3533.308104\n",
              "..             ...            ...\n",
              "81       Idle.Mean    2475.944810\n",
              "82        Idle.Std    1223.552055\n",
              "83        Idle.Max    2454.288515\n",
              "84        Idle.Min    2337.354451\n",
              "85         Inbound  130658.003285\n",
              "\n",
              "[86 rows x 2 columns]"
            ]
          },
          "metadata": {
            "tags": []
          },
          "execution_count": 17
        }
      ]
    },
    {
      "cell_type": "code",
      "metadata": {
        "colab": {
          "base_uri": "https://localhost:8080/"
        },
        "id": "-LTUM1P9o5AI",
        "outputId": "c8a00e7f-2f1c-4790-cfbf-5e41430a60ac"
      },
      "source": [
        "print(featureScores.nlargest(15,'Score'))  #print 15 best features"
      ],
      "execution_count": null,
      "outputs": [
        {
          "output_type": "stream",
          "text": [
            "                     Specs          Score\n",
            "59     Average.Packet.Size  325735.207411\n",
            "45       Min.Packet.Length  318628.599899\n",
            "14   Fwd.Packet.Length.Min  316318.509561\n",
            "15  Fwd.Packet.Length.Mean  316218.336716\n",
            "60    Avg.Fwd.Segment.Size  316218.336716\n",
            "47      Packet.Length.Mean  298842.410780\n",
            "13   Fwd.Packet.Length.Max  186568.966365\n",
            "85                 Inbound  130658.003285\n",
            "54          ACK.Flag.Count  118559.688229\n",
            "6                 Protocol  109661.807224\n",
            "3              Source.Port   79216.760878\n",
            "21            Flow.Bytes.s   67861.143626\n",
            "46       Max.Packet.Length   58679.169921\n",
            "0               Unnamed..0   51955.707092\n",
            "7                Timestamp   38137.974438\n"
          ],
          "name": "stdout"
        }
      ]
    },
    {
      "cell_type": "code",
      "metadata": {
        "id": "83qnlz2rulBT"
      },
      "source": [
        "c = df16.drop('Label', axis=1)\n",
        "d = df16['Label']"
      ],
      "execution_count": null,
      "outputs": []
    },
    {
      "cell_type": "code",
      "metadata": {
        "colab": {
          "base_uri": "https://localhost:8080/"
        },
        "id": "T1Vy12HwujUL",
        "outputId": "a22621e4-474c-4b7e-aca6-91607b971f9a"
      },
      "source": [
        "#Feature_Importance \n",
        "from sklearn.ensemble import ExtraTreesClassifier\n",
        "import matplotlib.pyplot as plt\n",
        "model = ExtraTreesClassifier()\n",
        "model.fit(c,d)"
      ],
      "execution_count": null,
      "outputs": [
        {
          "output_type": "execute_result",
          "data": {
            "text/plain": [
              "ExtraTreesClassifier(bootstrap=False, ccp_alpha=0.0, class_weight=None,\n",
              "                     criterion='gini', max_depth=None, max_features='auto',\n",
              "                     max_leaf_nodes=None, max_samples=None,\n",
              "                     min_impurity_decrease=0.0, min_impurity_split=None,\n",
              "                     min_samples_leaf=1, min_samples_split=2,\n",
              "                     min_weight_fraction_leaf=0.0, n_estimators=100,\n",
              "                     n_jobs=None, oob_score=False, random_state=None, verbose=0,\n",
              "                     warm_start=False)"
            ]
          },
          "metadata": {
            "tags": []
          },
          "execution_count": 20
        }
      ]
    },
    {
      "cell_type": "code",
      "metadata": {
        "colab": {
          "base_uri": "https://localhost:8080/"
        },
        "id": "W6Sq0YQLursQ",
        "outputId": "6e4d445f-555f-40ba-ff24-627b8dc448cb"
      },
      "source": [
        "print(model.feature_importances_) #use inbuilt class feature_importances of tree based classifiers"
      ],
      "execution_count": null,
      "outputs": [
        {
          "output_type": "stream",
          "text": [
            "[5.60187211e-02 1.34719198e-02 4.55959530e-03 6.75452653e-02\n",
            " 9.82581082e-04 1.56023444e-02 1.40627824e-02 2.62081562e-01\n",
            " 6.52062882e-03 4.06795778e-03 9.40167419e-05 1.31009201e-02\n",
            " 1.82236364e-05 2.64483810e-02 3.67180600e-02 4.02254430e-02\n",
            " 3.67079708e-03 4.70670928e-04 7.87054945e-04 5.16892172e-04\n",
            " 4.53980963e-04 2.45981289e-02 2.05923496e-02 7.67143166e-03\n",
            " 5.87317813e-03 7.80542840e-03 2.68987280e-03 6.73330751e-03\n",
            " 5.39169082e-03 7.64554891e-03 7.15053103e-03 2.78001818e-03\n",
            " 5.26517307e-04 1.33982211e-04 1.60796518e-04 1.65036899e-04\n",
            " 1.34772803e-04 1.29906595e-03 0.00000000e+00 0.00000000e+00\n",
            " 0.00000000e+00 5.29837933e-03 1.68047160e-04 1.84183930e-02\n",
            " 2.86298123e-04 5.32381045e-02 1.97699915e-02 3.78044561e-02\n",
            " 2.37540298e-03 1.23633822e-03 0.00000000e+00 2.22521345e-05\n",
            " 1.64852186e-03 0.00000000e+00 3.56168225e-02 8.89012275e-03\n",
            " 3.90115763e-03 0.00000000e+00 2.82337107e-03 3.10642372e-02\n",
            " 3.78647007e-02 3.55206425e-04 5.46681366e-03 0.00000000e+00\n",
            " 0.00000000e+00 0.00000000e+00 0.00000000e+00 0.00000000e+00\n",
            " 0.00000000e+00 5.12369917e-03 8.95195407e-03 1.76592338e-04\n",
            " 3.24385135e-05 6.65754833e-03 5.32614788e-04 4.33015039e-03\n",
            " 5.77202889e-03 5.73208390e-05 6.42317519e-06 7.07414442e-05\n",
            " 6.53103494e-05 2.66480288e-04 2.23082425e-04 4.39737662e-04\n",
            " 4.45513007e-04 3.18302910e-02]\n"
          ],
          "name": "stdout"
        }
      ]
    },
    {
      "cell_type": "code",
      "metadata": {
        "colab": {
          "base_uri": "https://localhost:8080/",
          "height": 265
        },
        "id": "47xV5PapusRr",
        "outputId": "f9d6cdf9-1cae-4e3f-e534-67bd1d0d15c2"
      },
      "source": [
        "#plot graph of feature importances for better visualization\n",
        "feat_importances = pd.Series(model.feature_importances_, index=c.columns)\n",
        "feat_importances.nlargest(15).plot(kind='barh')\n",
        "\n",
        "plt.show()"
      ],
      "execution_count": null,
      "outputs": [
        {
          "output_type": "display_data",
          "data": {
            "image/png": "[encoded data removed]",
            "text/plain": [
              "<Figure size 432x288 with 1 Axes>"
            ]
          },
          "metadata": {
            "tags": [],
            "needs_background": "light"
          }
        }
      ]
    },
    {
      "cell_type": "code",
      "metadata": {
        "colab": {
          "base_uri": "https://localhost:8080/",
          "height": 509
        },
        "id": "21MLysituuWU",
        "outputId": "3b8b460c-8d46-4341-afa2-8490f72798db"
      },
      "source": [
        "feat_importances.nlargest(15).to_frame()\n",
        "ft = feat_importances.nlargest(15).to_frame()\n",
        "ft"
      ],
      "execution_count": null,
      "outputs": [
        {
          "output_type": "execute_result",
          "data": {
            "text/html": [
              "<div>\n",
              "<style scoped>\n",
              "    .dataframe tbody tr th:only-of-type {\n",
              "        vertical-align: middle;\n",
              "    }\n",
              "\n",
              "    .dataframe tbody tr th {\n",
              "        vertical-align: top;\n",
              "    }\n",
              "\n",
              "    .dataframe thead th {\n",
              "        text-align: right;\n",
              "    }\n",
              "</style>\n",
              "<table border=\"1\" class=\"dataframe\">\n",
              "  <thead>\n",
              "    <tr style=\"text-align: right;\">\n",
              "      <th></th>\n",
              "      <th>0</th>\n",
              "    </tr>\n",
              "  </thead>\n",
              "  <tbody>\n",
              "    <tr>\n",
              "      <th>Timestamp</th>\n",
              "      <td>0.262082</td>\n",
              "    </tr>\n",
              "    <tr>\n",
              "      <th>Source.Port</th>\n",
              "      <td>0.067545</td>\n",
              "    </tr>\n",
              "    <tr>\n",
              "      <th>Unnamed..0</th>\n",
              "      <td>0.056019</td>\n",
              "    </tr>\n",
              "    <tr>\n",
              "      <th>Min.Packet.Length</th>\n",
              "      <td>0.053238</td>\n",
              "    </tr>\n",
              "    <tr>\n",
              "      <th>Fwd.Packet.Length.Mean</th>\n",
              "      <td>0.040225</td>\n",
              "    </tr>\n",
              "    <tr>\n",
              "      <th>Avg.Fwd.Segment.Size</th>\n",
              "      <td>0.037865</td>\n",
              "    </tr>\n",
              "    <tr>\n",
              "      <th>Packet.Length.Mean</th>\n",
              "      <td>0.037804</td>\n",
              "    </tr>\n",
              "    <tr>\n",
              "      <th>Fwd.Packet.Length.Min</th>\n",
              "      <td>0.036718</td>\n",
              "    </tr>\n",
              "    <tr>\n",
              "      <th>ACK.Flag.Count</th>\n",
              "      <td>0.035617</td>\n",
              "    </tr>\n",
              "    <tr>\n",
              "      <th>Inbound</th>\n",
              "      <td>0.031830</td>\n",
              "    </tr>\n",
              "    <tr>\n",
              "      <th>Average.Packet.Size</th>\n",
              "      <td>0.031064</td>\n",
              "    </tr>\n",
              "    <tr>\n",
              "      <th>Fwd.Packet.Length.Max</th>\n",
              "      <td>0.026448</td>\n",
              "    </tr>\n",
              "    <tr>\n",
              "      <th>Flow.Bytes.s</th>\n",
              "      <td>0.024598</td>\n",
              "    </tr>\n",
              "    <tr>\n",
              "      <th>Flow.Packets.s</th>\n",
              "      <td>0.020592</td>\n",
              "    </tr>\n",
              "    <tr>\n",
              "      <th>Max.Packet.Length</th>\n",
              "      <td>0.019770</td>\n",
              "    </tr>\n",
              "  </tbody>\n",
              "</table>\n",
              "</div>"
            ],
            "text/plain": [
              "                               0\n",
              "Timestamp               0.262082\n",
              "Source.Port             0.067545\n",
              "Unnamed..0              0.056019\n",
              "Min.Packet.Length       0.053238\n",
              "Fwd.Packet.Length.Mean  0.040225\n",
              "Avg.Fwd.Segment.Size    0.037865\n",
              "Packet.Length.Mean      0.037804\n",
              "Fwd.Packet.Length.Min   0.036718\n",
              "ACK.Flag.Count          0.035617\n",
              "Inbound                 0.031830\n",
              "Average.Packet.Size     0.031064\n",
              "Fwd.Packet.Length.Max   0.026448\n",
              "Flow.Bytes.s            0.024598\n",
              "Flow.Packets.s          0.020592\n",
              "Max.Packet.Length       0.019770"
            ]
          },
          "metadata": {
            "tags": []
          },
          "execution_count": 23
        }
      ]
    },
    {
      "cell_type": "code",
      "metadata": {
        "id": "Wp1UA7GWpONF"
      },
      "source": [
        "#myl = featureScores.nlargest(15,'Score')['Specs']\n",
        "myl = list(ft.index)\n"
      ],
      "execution_count": null,
      "outputs": []
    },
    {
      "cell_type": "code",
      "metadata": {
        "id": "p8ebFROssD7l"
      },
      "source": [
        "X = df16[myl]\n",
        "y = df16['Label']"
      ],
      "execution_count": null,
      "outputs": []
    },
    {
      "cell_type": "code",
      "metadata": {
        "id": "-XMb3Z60ub2n"
      },
      "source": [
        "from sklearn.model_selection import train_test_split\n",
        "X_train, X_test, y_train, y_test = train_test_split(X, y, test_size=0.20)"
      ],
      "execution_count": null,
      "outputs": []
    },
    {
      "cell_type": "code",
      "metadata": {
        "id": "naHfRDcLuk37",
        "colab": {
          "base_uri": "https://localhost:8080/"
        },
        "outputId": "6e8f0dab-9781-4a5a-f876-2d2fb2ffc447"
      },
      "source": [
        "from sklearn.tree import DecisionTreeClassifier\n",
        "classifier = DecisionTreeClassifier()\n",
        "classifier.fit(X_train, y_train)"
      ],
      "execution_count": null,
      "outputs": [
        {
          "output_type": "execute_result",
          "data": {
            "text/plain": [
              "DecisionTreeClassifier(ccp_alpha=0.0, class_weight=None, criterion='gini',\n",
              "                       max_depth=None, max_features=None, max_leaf_nodes=None,\n",
              "                       min_impurity_decrease=0.0, min_impurity_split=None,\n",
              "                       min_samples_leaf=1, min_samples_split=2,\n",
              "                       min_weight_fraction_leaf=0.0, presort='deprecated',\n",
              "                       random_state=None, splitter='best')"
            ]
          },
          "metadata": {
            "tags": []
          },
          "execution_count": 28
        }
      ]
    },
    {
      "cell_type": "code",
      "metadata": {
        "id": "Myw5_3cMunye"
      },
      "source": [
        "y_pred = classifier.predict(X_test)"
      ],
      "execution_count": null,
      "outputs": []
    },
    {
      "cell_type": "code",
      "metadata": {
        "id": "NTHsXWZ0uqk8",
        "colab": {
          "base_uri": "https://localhost:8080/"
        },
        "outputId": "c1328fe1-b6d5-4847-d613-cb00dec3f684"
      },
      "source": [
        "from sklearn.metrics import classification_report, confusion_matrix\n",
        "print(confusion_matrix(y_test, y_pred))\n",
        "print(classification_report(y_test, y_pred))"
      ],
      "execution_count": null,
      "outputs": [
        {
          "output_type": "stream",
          "text": [
            "[[5976    0    0    0    0    1    2    3    1    2    0    0]\n",
            " [   0 5876    0    0    0    0    0    1   12   46    0    0]\n",
            " [   0    0 5855    0    0    0    0    3    1  191    0    0]\n",
            " [   0    0    0 5923    1    0    0    0    0    0    0    3]\n",
            " [   0    1    1    2 5995    1    0    0    0    1    0    0]\n",
            " [   0    0    0    2    3 6116    0    0    0    0    1    0]\n",
            " [   4    0    0    0    0    0 5927    0    0    0    1    0]\n",
            " [   0    0    1    0    0    0    0 5989    0    2    0    0]\n",
            " [   0    5    0    1    1    0    0    0 6006    0    1    0]\n",
            " [   0   39  189    0    0    0    0    2    1 5760    1    0]\n",
            " [   0    2    0    1    0    0    0    0    0    0 6038    0]\n",
            " [   2    0    0    2    0    0    0    0    0    0    2 6003]]\n",
            "              precision    recall  f1-score   support\n",
            "\n",
            "         0.0       1.00      1.00      1.00      5985\n",
            "         1.0       0.99      0.99      0.99      5935\n",
            "         2.0       0.97      0.97      0.97      6050\n",
            "         3.0       1.00      1.00      1.00      5927\n",
            "         4.0       1.00      1.00      1.00      6001\n",
            "         5.0       1.00      1.00      1.00      6122\n",
            "         6.0       1.00      1.00      1.00      5932\n",
            "         7.0       1.00      1.00      1.00      5992\n",
            "         8.0       1.00      1.00      1.00      6014\n",
            "         9.0       0.96      0.96      0.96      5992\n",
            "        10.0       1.00      1.00      1.00      6041\n",
            "        11.0       1.00      1.00      1.00      6009\n",
            "\n",
            "    accuracy                           0.99     72000\n",
            "   macro avg       0.99      0.99      0.99     72000\n",
            "weighted avg       0.99      0.99      0.99     72000\n",
            "\n"
          ],
          "name": "stdout"
        }
      ]
    },
    {
      "cell_type": "code",
      "metadata": {
        "id": "hbCJhc73At8K"
      },
      "source": [
        "#Import Random Forest Model\n",
        "from sklearn.ensemble import RandomForestClassifier\n",
        "\n",
        "#Create a Gaussian Classifier\n",
        "clf=RandomForestClassifier(n_estimators=100)\n",
        "\n",
        "#Train the model using the training sets y_pred=clf.predict(X_test)\n",
        "clf.fit(X_train,y_train)\n",
        "\n",
        "y_pred=clf.predict(X_test)"
      ],
      "execution_count": null,
      "outputs": []
    },
    {
      "cell_type": "code",
      "metadata": {
        "id": "lL3al5onAxPV",
        "colab": {
          "base_uri": "https://localhost:8080/"
        },
        "outputId": "62809ec5-46f5-4e51-d462-a3ecf689bbb7"
      },
      "source": [
        "#Import scikit-learn metrics module for accuracy calculation\n",
        "from sklearn import metrics\n",
        "# Model Accuracy, how often is the classifier correct?\n",
        "print(\"Accuracy:\",metrics.accuracy_score(y_test, y_pred))"
      ],
      "execution_count": null,
      "outputs": [
        {
          "output_type": "stream",
          "text": [
            "Accuracy: 0.9949861111111111\n"
          ],
          "name": "stdout"
        }
      ]
    },
    {
      "cell_type": "code",
      "metadata": {
        "id": "ubAsQZo3Azyi"
      },
      "source": [
        "from sklearn.neighbors import KNeighborsClassifier\n",
        "\n",
        "#Create KNN Classifier\n",
        "knn = KNeighborsClassifier(n_neighbors=10)\n",
        "\n",
        "#Train the model using the training sets\n",
        "knn.fit(X_train, y_train)\n",
        "\n",
        "#Predict the response for test dataset\n",
        "y_pred = knn.predict(X_test)"
      ],
      "execution_count": null,
      "outputs": []
    },
    {
      "cell_type": "code",
      "metadata": {
        "id": "dXZHc2g8A5V6",
        "colab": {
          "base_uri": "https://localhost:8080/"
        },
        "outputId": "d7fc0425-372c-451a-c7c3-c3f2524a49f6"
      },
      "source": [
        "#Import scikit-learn metrics module for accuracy calculation\n",
        "from sklearn import metrics\n",
        "# Model Accuracy, how often is the classifier correct?\n",
        "print(\"Accuracy:\",metrics.accuracy_score(y_test, y_pred))"
      ],
      "execution_count": null,
      "outputs": [
        {
          "output_type": "stream",
          "text": [
            "Accuracy: 0.9170416666666666\n"
          ],
          "name": "stdout"
        }
      ]
    },
    {
      "cell_type": "code",
      "metadata": {
        "id": "mOfsX0e7A8hS"
      },
      "source": [
        "#Import Gaussian Naive Bayes model\n",
        "from sklearn.naive_bayes import GaussianNB\n",
        "\n",
        "#Create a Gaussian Classifier\n",
        "gnb = GaussianNB()\n",
        "\n",
        "#Train the model using the training sets\n",
        "gnb.fit(X_train, y_train)\n",
        "\n",
        "#Predict the response for test dataset\n",
        "y_pred = gnb.predict(X_test)"
      ],
      "execution_count": null,
      "outputs": []
    },
    {
      "cell_type": "code",
      "metadata": {
        "id": "FG1vci5Aa_gX",
        "colab": {
          "base_uri": "https://localhost:8080/"
        },
        "outputId": "be5ad0db-535f-4308-bc04-652e59b8a437"
      },
      "source": [
        "#Import scikit-learn metrics module for accuracy calculation\n",
        "from sklearn import metrics\n",
        "\n",
        "# Model Accuracy, how often is the classifier correct?\n",
        "print(\"Accuracy:\",metrics.accuracy_score(y_test, y_pred))"
      ],
      "execution_count": null,
      "outputs": [
        {
          "output_type": "stream",
          "text": [
            "Accuracy: 0.46852777777777777\n"
          ],
          "name": "stdout"
        }
      ]
    },
    {
      "cell_type": "code",
      "metadata": {
        "id": "XuOgKbmqqLrl"
      },
      "source": [
        ""
      ],
      "execution_count": null,
      "outputs": []
    }
  ]
}