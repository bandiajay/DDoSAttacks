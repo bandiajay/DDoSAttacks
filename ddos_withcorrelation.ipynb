{
  "nbformat": 4,
  "nbformat_minor": 0,
  "metadata": {
    "colab": {
      "name": "ddos-withcorrelation.ipynb",
      "provenance": [],
      "collapsed_sections": []
    },
    "kernelspec": {
      "name": "python3",
      "display_name": "Python 3"
    },
    "language_info": {
      "name": "python"
    }
  },
  "cells": [
    {
      "cell_type": "code",
      "metadata": {
        "id": "QhlJT-fZlH87"
      },
      "source": [
        "# Load libraries\n",
        "import pandas as pd\n",
        "import numpy as np\n",
        "from sklearn.tree import DecisionTreeClassifier # Import Decision Tree Classifier\n",
        "from sklearn.model_selection import train_test_split # Import train_test_split function\n",
        "from sklearn import metrics #Import scikit-learn metrics module for accuracy calculation\n",
        "import matplotlib.pyplot as plt"
      ],
      "execution_count": null,
      "outputs": []
    },
    {
      "cell_type": "code",
      "metadata": {
        "colab": {
          "base_uri": "https://localhost:8080/"
        },
        "id": "m8L08TL5lMn0",
        "outputId": "8ed1510f-9a4c-48cd-f267-e70b90866bc8"
      },
      "source": [
        "df= pd.read_csv(\"/content/Train.csv\")"
      ],
      "execution_count": null,
      "outputs": [
        {
          "output_type": "stream",
          "text": [
            "/usr/local/lib/python3.7/dist-packages/IPython/core/interactiveshell.py:2718: DtypeWarning: Columns (85) have mixed types.Specify dtype option on import or set low_memory=False.\n",
            "  interactivity=interactivity, compiler=compiler, result=result)\n"
          ],
          "name": "stderr"
        }
      ]
    },
    {
      "cell_type": "code",
      "metadata": {
        "colab": {
          "base_uri": "https://localhost:8080/",
          "height": 494
        },
        "id": "QFQBPwDKlOrJ",
        "outputId": "b70508ff-941d-44bd-9348-3d652f7d238e"
      },
      "source": [
        "df.head()"
      ],
      "execution_count": null,
      "outputs": [
        {
          "output_type": "execute_result",
          "data": {
            "text/html": [
              "<div>\n",
              "<style scoped>\n",
              "    .dataframe tbody tr th:only-of-type {\n",
              "        vertical-align: middle;\n",
              "    }\n",
              "\n",
              "    .dataframe tbody tr th {\n",
              "        vertical-align: top;\n",
              "    }\n",
              "\n",
              "    .dataframe thead th {\n",
              "        text-align: right;\n",
              "    }\n",
              "</style>\n",
              "<table border=\"1\" class=\"dataframe\">\n",
              "  <thead>\n",
              "    <tr style=\"text-align: right;\">\n",
              "      <th></th>\n",
              "      <th>Unnamed..0</th>\n",
              "      <th>Flow.ID</th>\n",
              "      <th>Source.IP</th>\n",
              "      <th>Source.Port</th>\n",
              "      <th>Destination.IP</th>\n",
              "      <th>Destination.Port</th>\n",
              "      <th>Protocol</th>\n",
              "      <th>Timestamp</th>\n",
              "      <th>Flow.Duration</th>\n",
              "      <th>Total.Fwd.Packets</th>\n",
              "      <th>Total.Backward.Packets</th>\n",
              "      <th>Total.Length.of.Fwd.Packets</th>\n",
              "      <th>Total.Length.of.Bwd.Packets</th>\n",
              "      <th>Fwd.Packet.Length.Max</th>\n",
              "      <th>Fwd.Packet.Length.Min</th>\n",
              "      <th>Fwd.Packet.Length.Mean</th>\n",
              "      <th>Fwd.Packet.Length.Std</th>\n",
              "      <th>Bwd.Packet.Length.Max</th>\n",
              "      <th>Bwd.Packet.Length.Min</th>\n",
              "      <th>Bwd.Packet.Length.Mean</th>\n",
              "      <th>Bwd.Packet.Length.Std</th>\n",
              "      <th>Flow.Bytes.s</th>\n",
              "      <th>Flow.Packets.s</th>\n",
              "      <th>Flow.IAT.Mean</th>\n",
              "      <th>Flow.IAT.Std</th>\n",
              "      <th>Flow.IAT.Max</th>\n",
              "      <th>Flow.IAT.Min</th>\n",
              "      <th>Fwd.IAT.Total</th>\n",
              "      <th>Fwd.IAT.Mean</th>\n",
              "      <th>Fwd.IAT.Std</th>\n",
              "      <th>Fwd.IAT.Max</th>\n",
              "      <th>Fwd.IAT.Min</th>\n",
              "      <th>Bwd.IAT.Total</th>\n",
              "      <th>Bwd.IAT.Mean</th>\n",
              "      <th>Bwd.IAT.Std</th>\n",
              "      <th>Bwd.IAT.Max</th>\n",
              "      <th>Bwd.IAT.Min</th>\n",
              "      <th>Fwd.PSH.Flags</th>\n",
              "      <th>Bwd.PSH.Flags</th>\n",
              "      <th>Fwd.URG.Flags</th>\n",
              "      <th>...</th>\n",
              "      <th>Packet.Length.Std</th>\n",
              "      <th>Packet.Length.Variance</th>\n",
              "      <th>FIN.Flag.Count</th>\n",
              "      <th>SYN.Flag.Count</th>\n",
              "      <th>RST.Flag.Count</th>\n",
              "      <th>PSH.Flag.Count</th>\n",
              "      <th>ACK.Flag.Count</th>\n",
              "      <th>URG.Flag.Count</th>\n",
              "      <th>CWE.Flag.Count</th>\n",
              "      <th>ECE.Flag.Count</th>\n",
              "      <th>Down.Up.Ratio</th>\n",
              "      <th>Average.Packet.Size</th>\n",
              "      <th>Avg.Fwd.Segment.Size</th>\n",
              "      <th>Avg.Bwd.Segment.Size</th>\n",
              "      <th>Fwd.Header.Length.1</th>\n",
              "      <th>Fwd.Avg.Bytes.Bulk</th>\n",
              "      <th>Fwd.Avg.Packets.Bulk</th>\n",
              "      <th>Fwd.Avg.Bulk.Rate</th>\n",
              "      <th>Bwd.Avg.Bytes.Bulk</th>\n",
              "      <th>Bwd.Avg.Packets.Bulk</th>\n",
              "      <th>Bwd.Avg.Bulk.Rate</th>\n",
              "      <th>Subflow.Fwd.Packets</th>\n",
              "      <th>Subflow.Fwd.Bytes</th>\n",
              "      <th>Subflow.Bwd.Packets</th>\n",
              "      <th>Subflow.Bwd.Bytes</th>\n",
              "      <th>Init_Win_bytes_forward</th>\n",
              "      <th>Init_Win_bytes_backward</th>\n",
              "      <th>act_data_pkt_fwd</th>\n",
              "      <th>min_seg_size_forward</th>\n",
              "      <th>Active.Mean</th>\n",
              "      <th>Active.Std</th>\n",
              "      <th>Active.Max</th>\n",
              "      <th>Active.Min</th>\n",
              "      <th>Idle.Mean</th>\n",
              "      <th>Idle.Std</th>\n",
              "      <th>Idle.Max</th>\n",
              "      <th>Idle.Min</th>\n",
              "      <th>SimillarHTTP</th>\n",
              "      <th>Inbound</th>\n",
              "      <th>Label</th>\n",
              "    </tr>\n",
              "  </thead>\n",
              "  <tbody>\n",
              "    <tr>\n",
              "      <th>0</th>\n",
              "      <td>1110</td>\n",
              "      <td>172.16.0.5-192.168.50.1-872-45984-17</td>\n",
              "      <td>172.16.0.5</td>\n",
              "      <td>872</td>\n",
              "      <td>192.168.50.1</td>\n",
              "      <td>45984</td>\n",
              "      <td>17</td>\n",
              "      <td>29:44.0</td>\n",
              "      <td>2</td>\n",
              "      <td>2</td>\n",
              "      <td>0</td>\n",
              "      <td>2944</td>\n",
              "      <td>0</td>\n",
              "      <td>1472</td>\n",
              "      <td>1472</td>\n",
              "      <td>1472.0</td>\n",
              "      <td>0.0</td>\n",
              "      <td>0</td>\n",
              "      <td>0</td>\n",
              "      <td>0.0</td>\n",
              "      <td>0.0</td>\n",
              "      <td>1.470000e+09</td>\n",
              "      <td>1.000000e+06</td>\n",
              "      <td>2.0</td>\n",
              "      <td>0.0</td>\n",
              "      <td>2.0</td>\n",
              "      <td>2</td>\n",
              "      <td>2</td>\n",
              "      <td>2.0</td>\n",
              "      <td>0.0</td>\n",
              "      <td>2</td>\n",
              "      <td>2</td>\n",
              "      <td>0</td>\n",
              "      <td>0.0</td>\n",
              "      <td>0.0</td>\n",
              "      <td>0.0</td>\n",
              "      <td>0</td>\n",
              "      <td>0</td>\n",
              "      <td>0</td>\n",
              "      <td>0</td>\n",
              "      <td>...</td>\n",
              "      <td>0.0</td>\n",
              "      <td>0.0</td>\n",
              "      <td>0</td>\n",
              "      <td>0</td>\n",
              "      <td>0</td>\n",
              "      <td>0</td>\n",
              "      <td>0</td>\n",
              "      <td>0</td>\n",
              "      <td>0</td>\n",
              "      <td>0</td>\n",
              "      <td>0</td>\n",
              "      <td>2208.0</td>\n",
              "      <td>1472.0</td>\n",
              "      <td>0.0</td>\n",
              "      <td>0.0</td>\n",
              "      <td>0</td>\n",
              "      <td>0</td>\n",
              "      <td>0</td>\n",
              "      <td>0</td>\n",
              "      <td>0</td>\n",
              "      <td>0</td>\n",
              "      <td>2</td>\n",
              "      <td>2944</td>\n",
              "      <td>0</td>\n",
              "      <td>0</td>\n",
              "      <td>-1</td>\n",
              "      <td>-1</td>\n",
              "      <td>1</td>\n",
              "      <td>0</td>\n",
              "      <td>0.0</td>\n",
              "      <td>0.0</td>\n",
              "      <td>0</td>\n",
              "      <td>0</td>\n",
              "      <td>0.0</td>\n",
              "      <td>0.0</td>\n",
              "      <td>0.0</td>\n",
              "      <td>0.0</td>\n",
              "      <td>0</td>\n",
              "      <td>1</td>\n",
              "      <td>DrDoS_LDAP</td>\n",
              "    </tr>\n",
              "    <tr>\n",
              "      <th>1</th>\n",
              "      <td>25998</td>\n",
              "      <td>172.16.0.5-192.168.50.1-867-39632-17</td>\n",
              "      <td>172.16.0.5</td>\n",
              "      <td>867</td>\n",
              "      <td>192.168.50.1</td>\n",
              "      <td>39632</td>\n",
              "      <td>17</td>\n",
              "      <td>31:01.1</td>\n",
              "      <td>43</td>\n",
              "      <td>2</td>\n",
              "      <td>0</td>\n",
              "      <td>2944</td>\n",
              "      <td>0</td>\n",
              "      <td>1472</td>\n",
              "      <td>1472</td>\n",
              "      <td>1472.0</td>\n",
              "      <td>0.0</td>\n",
              "      <td>0</td>\n",
              "      <td>0</td>\n",
              "      <td>0.0</td>\n",
              "      <td>0.0</td>\n",
              "      <td>6.846512e+07</td>\n",
              "      <td>4.651163e+04</td>\n",
              "      <td>43.0</td>\n",
              "      <td>0.0</td>\n",
              "      <td>43.0</td>\n",
              "      <td>43</td>\n",
              "      <td>43</td>\n",
              "      <td>43.0</td>\n",
              "      <td>0.0</td>\n",
              "      <td>43</td>\n",
              "      <td>43</td>\n",
              "      <td>0</td>\n",
              "      <td>0.0</td>\n",
              "      <td>0.0</td>\n",
              "      <td>0.0</td>\n",
              "      <td>0</td>\n",
              "      <td>0</td>\n",
              "      <td>0</td>\n",
              "      <td>0</td>\n",
              "      <td>...</td>\n",
              "      <td>0.0</td>\n",
              "      <td>0.0</td>\n",
              "      <td>0</td>\n",
              "      <td>0</td>\n",
              "      <td>0</td>\n",
              "      <td>0</td>\n",
              "      <td>0</td>\n",
              "      <td>0</td>\n",
              "      <td>0</td>\n",
              "      <td>0</td>\n",
              "      <td>0</td>\n",
              "      <td>2208.0</td>\n",
              "      <td>1472.0</td>\n",
              "      <td>0.0</td>\n",
              "      <td>0.0</td>\n",
              "      <td>0</td>\n",
              "      <td>0</td>\n",
              "      <td>0</td>\n",
              "      <td>0</td>\n",
              "      <td>0</td>\n",
              "      <td>0</td>\n",
              "      <td>2</td>\n",
              "      <td>2944</td>\n",
              "      <td>0</td>\n",
              "      <td>0</td>\n",
              "      <td>-1</td>\n",
              "      <td>-1</td>\n",
              "      <td>1</td>\n",
              "      <td>0</td>\n",
              "      <td>0.0</td>\n",
              "      <td>0.0</td>\n",
              "      <td>0</td>\n",
              "      <td>0</td>\n",
              "      <td>0.0</td>\n",
              "      <td>0.0</td>\n",
              "      <td>0.0</td>\n",
              "      <td>0.0</td>\n",
              "      <td>0</td>\n",
              "      <td>1</td>\n",
              "      <td>DrDoS_LDAP</td>\n",
              "    </tr>\n",
              "    <tr>\n",
              "      <th>2</th>\n",
              "      <td>10751</td>\n",
              "      <td>172.16.0.5-192.168.50.1-818-826-17</td>\n",
              "      <td>172.16.0.5</td>\n",
              "      <td>818</td>\n",
              "      <td>192.168.50.1</td>\n",
              "      <td>826</td>\n",
              "      <td>17</td>\n",
              "      <td>24:38.4</td>\n",
              "      <td>1</td>\n",
              "      <td>2</td>\n",
              "      <td>0</td>\n",
              "      <td>2944</td>\n",
              "      <td>0</td>\n",
              "      <td>1472</td>\n",
              "      <td>1472</td>\n",
              "      <td>1472.0</td>\n",
              "      <td>0.0</td>\n",
              "      <td>0</td>\n",
              "      <td>0</td>\n",
              "      <td>0.0</td>\n",
              "      <td>0.0</td>\n",
              "      <td>2.940000e+09</td>\n",
              "      <td>2.000000e+06</td>\n",
              "      <td>1.0</td>\n",
              "      <td>0.0</td>\n",
              "      <td>1.0</td>\n",
              "      <td>1</td>\n",
              "      <td>1</td>\n",
              "      <td>1.0</td>\n",
              "      <td>0.0</td>\n",
              "      <td>1</td>\n",
              "      <td>1</td>\n",
              "      <td>0</td>\n",
              "      <td>0.0</td>\n",
              "      <td>0.0</td>\n",
              "      <td>0.0</td>\n",
              "      <td>0</td>\n",
              "      <td>0</td>\n",
              "      <td>0</td>\n",
              "      <td>0</td>\n",
              "      <td>...</td>\n",
              "      <td>0.0</td>\n",
              "      <td>0.0</td>\n",
              "      <td>0</td>\n",
              "      <td>0</td>\n",
              "      <td>0</td>\n",
              "      <td>0</td>\n",
              "      <td>0</td>\n",
              "      <td>0</td>\n",
              "      <td>0</td>\n",
              "      <td>0</td>\n",
              "      <td>0</td>\n",
              "      <td>2208.0</td>\n",
              "      <td>1472.0</td>\n",
              "      <td>0.0</td>\n",
              "      <td>40.0</td>\n",
              "      <td>0</td>\n",
              "      <td>0</td>\n",
              "      <td>0</td>\n",
              "      <td>0</td>\n",
              "      <td>0</td>\n",
              "      <td>0</td>\n",
              "      <td>2</td>\n",
              "      <td>2944</td>\n",
              "      <td>0</td>\n",
              "      <td>0</td>\n",
              "      <td>-1</td>\n",
              "      <td>-1</td>\n",
              "      <td>1</td>\n",
              "      <td>20</td>\n",
              "      <td>0.0</td>\n",
              "      <td>0.0</td>\n",
              "      <td>0</td>\n",
              "      <td>0</td>\n",
              "      <td>0.0</td>\n",
              "      <td>0.0</td>\n",
              "      <td>0.0</td>\n",
              "      <td>0.0</td>\n",
              "      <td>0</td>\n",
              "      <td>1</td>\n",
              "      <td>DrDoS_LDAP</td>\n",
              "    </tr>\n",
              "    <tr>\n",
              "      <th>3</th>\n",
              "      <td>15983</td>\n",
              "      <td>172.16.0.5-192.168.50.1-894-32984-17</td>\n",
              "      <td>172.16.0.5</td>\n",
              "      <td>894</td>\n",
              "      <td>192.168.50.1</td>\n",
              "      <td>32984</td>\n",
              "      <td>17</td>\n",
              "      <td>27:01.5</td>\n",
              "      <td>1</td>\n",
              "      <td>2</td>\n",
              "      <td>0</td>\n",
              "      <td>2944</td>\n",
              "      <td>0</td>\n",
              "      <td>1472</td>\n",
              "      <td>1472</td>\n",
              "      <td>1472.0</td>\n",
              "      <td>0.0</td>\n",
              "      <td>0</td>\n",
              "      <td>0</td>\n",
              "      <td>0.0</td>\n",
              "      <td>0.0</td>\n",
              "      <td>2.940000e+09</td>\n",
              "      <td>2.000000e+06</td>\n",
              "      <td>1.0</td>\n",
              "      <td>0.0</td>\n",
              "      <td>1.0</td>\n",
              "      <td>1</td>\n",
              "      <td>1</td>\n",
              "      <td>1.0</td>\n",
              "      <td>0.0</td>\n",
              "      <td>1</td>\n",
              "      <td>1</td>\n",
              "      <td>0</td>\n",
              "      <td>0.0</td>\n",
              "      <td>0.0</td>\n",
              "      <td>0.0</td>\n",
              "      <td>0</td>\n",
              "      <td>0</td>\n",
              "      <td>0</td>\n",
              "      <td>0</td>\n",
              "      <td>...</td>\n",
              "      <td>0.0</td>\n",
              "      <td>0.0</td>\n",
              "      <td>0</td>\n",
              "      <td>0</td>\n",
              "      <td>0</td>\n",
              "      <td>0</td>\n",
              "      <td>0</td>\n",
              "      <td>0</td>\n",
              "      <td>0</td>\n",
              "      <td>0</td>\n",
              "      <td>0</td>\n",
              "      <td>2208.0</td>\n",
              "      <td>1472.0</td>\n",
              "      <td>0.0</td>\n",
              "      <td>-2.0</td>\n",
              "      <td>0</td>\n",
              "      <td>0</td>\n",
              "      <td>0</td>\n",
              "      <td>0</td>\n",
              "      <td>0</td>\n",
              "      <td>0</td>\n",
              "      <td>2</td>\n",
              "      <td>2944</td>\n",
              "      <td>0</td>\n",
              "      <td>0</td>\n",
              "      <td>-1</td>\n",
              "      <td>-1</td>\n",
              "      <td>1</td>\n",
              "      <td>-1</td>\n",
              "      <td>0.0</td>\n",
              "      <td>0.0</td>\n",
              "      <td>0</td>\n",
              "      <td>0</td>\n",
              "      <td>0.0</td>\n",
              "      <td>0.0</td>\n",
              "      <td>0.0</td>\n",
              "      <td>0.0</td>\n",
              "      <td>0</td>\n",
              "      <td>1</td>\n",
              "      <td>DrDoS_LDAP</td>\n",
              "    </tr>\n",
              "    <tr>\n",
              "      <th>4</th>\n",
              "      <td>29733</td>\n",
              "      <td>172.16.0.5-192.168.50.1-877-12571-17</td>\n",
              "      <td>172.16.0.5</td>\n",
              "      <td>877</td>\n",
              "      <td>192.168.50.1</td>\n",
              "      <td>12571</td>\n",
              "      <td>17</td>\n",
              "      <td>26:58.1</td>\n",
              "      <td>3</td>\n",
              "      <td>2</td>\n",
              "      <td>0</td>\n",
              "      <td>2944</td>\n",
              "      <td>0</td>\n",
              "      <td>1472</td>\n",
              "      <td>1472</td>\n",
              "      <td>1472.0</td>\n",
              "      <td>0.0</td>\n",
              "      <td>0</td>\n",
              "      <td>0</td>\n",
              "      <td>0.0</td>\n",
              "      <td>0.0</td>\n",
              "      <td>9.813333e+08</td>\n",
              "      <td>6.666667e+05</td>\n",
              "      <td>3.0</td>\n",
              "      <td>0.0</td>\n",
              "      <td>3.0</td>\n",
              "      <td>3</td>\n",
              "      <td>3</td>\n",
              "      <td>3.0</td>\n",
              "      <td>0.0</td>\n",
              "      <td>3</td>\n",
              "      <td>3</td>\n",
              "      <td>0</td>\n",
              "      <td>0.0</td>\n",
              "      <td>0.0</td>\n",
              "      <td>0.0</td>\n",
              "      <td>0</td>\n",
              "      <td>0</td>\n",
              "      <td>0</td>\n",
              "      <td>0</td>\n",
              "      <td>...</td>\n",
              "      <td>0.0</td>\n",
              "      <td>0.0</td>\n",
              "      <td>0</td>\n",
              "      <td>0</td>\n",
              "      <td>0</td>\n",
              "      <td>0</td>\n",
              "      <td>0</td>\n",
              "      <td>0</td>\n",
              "      <td>0</td>\n",
              "      <td>0</td>\n",
              "      <td>0</td>\n",
              "      <td>2208.0</td>\n",
              "      <td>1472.0</td>\n",
              "      <td>0.0</td>\n",
              "      <td>0.0</td>\n",
              "      <td>0</td>\n",
              "      <td>0</td>\n",
              "      <td>0</td>\n",
              "      <td>0</td>\n",
              "      <td>0</td>\n",
              "      <td>0</td>\n",
              "      <td>2</td>\n",
              "      <td>2944</td>\n",
              "      <td>0</td>\n",
              "      <td>0</td>\n",
              "      <td>-1</td>\n",
              "      <td>-1</td>\n",
              "      <td>1</td>\n",
              "      <td>0</td>\n",
              "      <td>0.0</td>\n",
              "      <td>0.0</td>\n",
              "      <td>0</td>\n",
              "      <td>0</td>\n",
              "      <td>0.0</td>\n",
              "      <td>0.0</td>\n",
              "      <td>0.0</td>\n",
              "      <td>0.0</td>\n",
              "      <td>0</td>\n",
              "      <td>1</td>\n",
              "      <td>DrDoS_LDAP</td>\n",
              "    </tr>\n",
              "  </tbody>\n",
              "</table>\n",
              "<p>5 rows × 88 columns</p>\n",
              "</div>"
            ],
            "text/plain": [
              "   Unnamed..0                               Flow.ID  ... Inbound       Label\n",
              "0        1110  172.16.0.5-192.168.50.1-872-45984-17  ...       1  DrDoS_LDAP\n",
              "1       25998  172.16.0.5-192.168.50.1-867-39632-17  ...       1  DrDoS_LDAP\n",
              "2       10751    172.16.0.5-192.168.50.1-818-826-17  ...       1  DrDoS_LDAP\n",
              "3       15983  172.16.0.5-192.168.50.1-894-32984-17  ...       1  DrDoS_LDAP\n",
              "4       29733  172.16.0.5-192.168.50.1-877-12571-17  ...       1  DrDoS_LDAP\n",
              "\n",
              "[5 rows x 88 columns]"
            ]
          },
          "metadata": {
            "tags": []
          },
          "execution_count": 3
        }
      ]
    },
    {
      "cell_type": "code",
      "metadata": {
        "colab": {
          "base_uri": "https://localhost:8080/"
        },
        "id": "XjdSWpxjlQPT",
        "outputId": "b02f862f-c10d-49cf-ec3d-acc2c091ce70"
      },
      "source": [
        "df.Label.unique()"
      ],
      "execution_count": null,
      "outputs": [
        {
          "output_type": "execute_result",
          "data": {
            "text/plain": [
              "array(['DrDoS_LDAP', 'DrDoS_DNS', 'DrDoS_MSSQL', 'DrDoS_UDP',\n",
              "       'DrDoS_NetBIOS', 'Syn', 'UDP-lag', 'DrDoS_SSDP', 'DrDoS_SNMP',\n",
              "       'DrDoS_NTP', 'TFTP', 'BENIGN'], dtype=object)"
            ]
          },
          "metadata": {
            "tags": []
          },
          "execution_count": 4
        }
      ]
    },
    {
      "cell_type": "code",
      "metadata": {
        "id": "RzByn6r_lRmx"
      },
      "source": [
        "df1 = df.replace(to_replace =\"DrDoS_LDAP\", \n",
        "                 value =1.0) \n",
        "df2 = df1.replace(to_replace =\"DrDoS_DNS\", \n",
        "                 value =2.0)\n",
        "df3 = df2.replace(to_replace =\"DrDoS_MSSQL\", \n",
        "                 value =3.0)\n",
        "df4 = df3.replace(to_replace =\"DrDoS_UDP\", \n",
        "                 value =4.0)\n",
        "df5 = df4.replace(to_replace =\"DrDoS_NetBIOS\", \n",
        "                 value =5.0)\n",
        "df6 = df5.replace(to_replace =\"Syn\", \n",
        "                 value =6.0)\n",
        "df7 = df6.replace(to_replace =\"UDP-lag\", \n",
        "                 value =7.0)\n",
        "df8 = df7.replace(to_replace =\"DrDoS_SSDP\", \n",
        "                 value =8.0)\n",
        "df9 = df8.replace(to_replace =\"DrDoS_SNMP\", \n",
        "                 value =9.0)\n",
        "df10 = df9.replace(to_replace =\"DrDoS_NTP\", \n",
        "                 value =10.0)\n",
        "df11 = df10.replace(to_replace =\"TFTP\", \n",
        "                 value =11.0)\n",
        "df12 = df11.replace(to_replace =\"BENIGN\", \n",
        "                 value =0.0)"
      ],
      "execution_count": null,
      "outputs": []
    },
    {
      "cell_type": "code",
      "metadata": {
        "colab": {
          "base_uri": "https://localhost:8080/"
        },
        "id": "WXlElYEllUNa",
        "outputId": "f1403b8c-546d-4e13-f98a-20d7579aed8b"
      },
      "source": [
        "df12.Label.unique()"
      ],
      "execution_count": null,
      "outputs": [
        {
          "output_type": "execute_result",
          "data": {
            "text/plain": [
              "array([ 1.,  2.,  3.,  4.,  5.,  6.,  7.,  8.,  9., 10., 11.,  0.])"
            ]
          },
          "metadata": {
            "tags": []
          },
          "execution_count": 6
        }
      ]
    },
    {
      "cell_type": "code",
      "metadata": {
        "id": "shGGHpWClWA0"
      },
      "source": [
        "df12[\"Flow.ID\"] = df12[\"Flow.ID\"].str.replace(r'\\D', '')\n",
        "df12[\"Source.IP\"] = df12[\"Source.IP\"].str.replace(r'\\D', '')\n",
        "df12[\"Destination.IP\"] = df12[\"Destination.IP\"].str.replace(r'\\D', '')\n",
        "df12[\"Timestamp\"] = df12[\"Timestamp\"].str.replace(r'\\D', '')\n",
        "df13 = df12.drop(columns=['SimillarHTTP'])\n",
        "df14 =  df13.replace([np.inf, -np.inf], np.nan)\n",
        "df15 = df14.fillna(0)\n"
      ],
      "execution_count": null,
      "outputs": []
    },
    {
      "cell_type": "code",
      "metadata": {
        "colab": {
          "base_uri": "https://localhost:8080/"
        },
        "id": "GdBCIEW2lYUq",
        "outputId": "ab4e5c41-533e-4262-a9cc-a502f1f0bbfa"
      },
      "source": [
        "print(df15.dtypes)"
      ],
      "execution_count": null,
      "outputs": [
        {
          "output_type": "stream",
          "text": [
            "Unnamed..0          int64\n",
            "Flow.ID            object\n",
            "Source.IP          object\n",
            "Source.Port         int64\n",
            "Destination.IP     object\n",
            "                   ...   \n",
            "Idle.Std          float64\n",
            "Idle.Max          float64\n",
            "Idle.Min          float64\n",
            "Inbound             int64\n",
            "Label             float64\n",
            "Length: 87, dtype: object\n"
          ],
          "name": "stdout"
        }
      ]
    },
    {
      "cell_type": "code",
      "metadata": {
        "id": "ILK2xWrUlaHL"
      },
      "source": [
        "df16 = df15.astype(float)"
      ],
      "execution_count": null,
      "outputs": []
    },
    {
      "cell_type": "code",
      "metadata": {
        "colab": {
          "base_uri": "https://localhost:8080/"
        },
        "id": "F2osTTDzlchN",
        "outputId": "00842c9b-ae11-463e-f1f7-3f501ea35e83"
      },
      "source": [
        "print(df16.dtypes)"
      ],
      "execution_count": null,
      "outputs": [
        {
          "output_type": "stream",
          "text": [
            "Unnamed..0        float64\n",
            "Flow.ID           float64\n",
            "Source.IP         float64\n",
            "Source.Port       float64\n",
            "Destination.IP    float64\n",
            "                   ...   \n",
            "Idle.Std          float64\n",
            "Idle.Max          float64\n",
            "Idle.Min          float64\n",
            "Inbound           float64\n",
            "Label             float64\n",
            "Length: 87, dtype: object\n"
          ],
          "name": "stdout"
        }
      ]
    },
    {
      "cell_type": "code",
      "metadata": {
        "colab": {
          "base_uri": "https://localhost:8080/"
        },
        "id": "ogdOHfttlftS",
        "outputId": "bda79611-c00d-4e07-fb7a-0ba1ec8e8db0"
      },
      "source": [
        "df16.isnull().values.any()"
      ],
      "execution_count": null,
      "outputs": [
        {
          "output_type": "execute_result",
          "data": {
            "text/plain": [
              "False"
            ]
          },
          "metadata": {
            "tags": []
          },
          "execution_count": 11
        }
      ]
    },
    {
      "cell_type": "code",
      "metadata": {
        "id": "AtIPl3OjlHTY"
      },
      "source": [
        "import pandas as pd\n",
        "from sklearn.feature_selection import VarianceThreshold"
      ],
      "execution_count": null,
      "outputs": []
    },
    {
      "cell_type": "code",
      "metadata": {
        "id": "aaSDatZ8mZhp"
      },
      "source": [
        "a=df16.drop(labels=['Label'], axis=1)\n",
        "b=df16['Label']"
      ],
      "execution_count": null,
      "outputs": []
    },
    {
      "cell_type": "code",
      "metadata": {
        "colab": {
          "base_uri": "https://localhost:8080/"
        },
        "id": "lIG7bexkmiRL",
        "outputId": "b8e70eaf-26d6-4587-c3d6-47ea1e544098"
      },
      "source": [
        "from sklearn.model_selection import train_test_split\n",
        "# separate dataset into train and test\n",
        "a_train, a_test, b_train, b_test = train_test_split(\n",
        "    df16.drop(labels=['Label'], axis=1),\n",
        "    df16['Label'],\n",
        "    test_size=0.3,\n",
        "    random_state=0)\n",
        "\n",
        "a_train.shape, a_test.shape"
      ],
      "execution_count": null,
      "outputs": [
        {
          "output_type": "execute_result",
          "data": {
            "text/plain": [
              "((252000, 86), (108000, 86))"
            ]
          },
          "metadata": {
            "tags": []
          },
          "execution_count": 14
        }
      ]
    },
    {
      "cell_type": "code",
      "metadata": {
        "colab": {
          "base_uri": "https://localhost:8080/"
        },
        "id": "I-fVZcDCmrqn",
        "outputId": "9517f6dc-3586-47bb-a497-ba3ed90807af"
      },
      "source": [
        "var_thres=VarianceThreshold(threshold=0)\n",
        "var_thres.fit(a_train)"
      ],
      "execution_count": null,
      "outputs": [
        {
          "output_type": "execute_result",
          "data": {
            "text/plain": [
              "VarianceThreshold(threshold=0)"
            ]
          },
          "metadata": {
            "tags": []
          },
          "execution_count": 15
        }
      ]
    },
    {
      "cell_type": "code",
      "metadata": {
        "colab": {
          "base_uri": "https://localhost:8080/"
        },
        "id": "4Gbqkd8mmvL7",
        "outputId": "8d79206a-774a-4c84-8742-c09095f2ce68"
      },
      "source": [
        "var_thres.get_support()"
      ],
      "execution_count": null,
      "outputs": [
        {
          "output_type": "execute_result",
          "data": {
            "text/plain": [
              "array([ True,  True,  True,  True,  True,  True,  True,  True,  True,\n",
              "        True,  True,  True,  True,  True,  True,  True,  True,  True,\n",
              "        True,  True,  True,  True,  True,  True,  True,  True,  True,\n",
              "        True,  True,  True,  True,  True,  True,  True,  True,  True,\n",
              "        True,  True, False, False, False,  True,  True,  True,  True,\n",
              "        True,  True,  True,  True,  True, False,  True,  True, False,\n",
              "        True,  True,  True, False,  True,  True,  True,  True,  True,\n",
              "       False, False, False, False, False, False,  True,  True,  True,\n",
              "        True,  True,  True,  True,  True,  True,  True,  True,  True,\n",
              "        True,  True,  True,  True,  True])"
            ]
          },
          "metadata": {
            "tags": []
          },
          "execution_count": 16
        }
      ]
    },
    {
      "cell_type": "code",
      "metadata": {
        "colab": {
          "base_uri": "https://localhost:8080/"
        },
        "id": "8UTXeGz3mxIf",
        "outputId": "af896202-eb58-416b-f5f6-b1a32871dd2f"
      },
      "source": [
        "### Finding non constant features\n",
        "sum(var_thres.get_support())"
      ],
      "execution_count": null,
      "outputs": [
        {
          "output_type": "execute_result",
          "data": {
            "text/plain": [
              "74"
            ]
          },
          "metadata": {
            "tags": []
          },
          "execution_count": 17
        }
      ]
    },
    {
      "cell_type": "code",
      "metadata": {
        "colab": {
          "base_uri": "https://localhost:8080/"
        },
        "id": "jUTcvgLfm1CR",
        "outputId": "af36ea1b-9071-4d67-fde8-09d47ce16f1c"
      },
      "source": [
        "# Lets Find non-constant features \n",
        "len(a_train.columns[var_thres.get_support()])"
      ],
      "execution_count": null,
      "outputs": [
        {
          "output_type": "execute_result",
          "data": {
            "text/plain": [
              "74"
            ]
          },
          "metadata": {
            "tags": []
          },
          "execution_count": 18
        }
      ]
    },
    {
      "cell_type": "code",
      "metadata": {
        "colab": {
          "base_uri": "https://localhost:8080/"
        },
        "id": "YSeGZDnxm6Ap",
        "outputId": "2adc52ca-6c47-4e0a-9f5d-62833125165c"
      },
      "source": [
        "constant_columns = [column for column in a_train.columns\n",
        "                    if column not in a_train.columns[var_thres.get_support()]]\n",
        "\n",
        "print(len(constant_columns))"
      ],
      "execution_count": null,
      "outputs": [
        {
          "output_type": "stream",
          "text": [
            "12\n"
          ],
          "name": "stdout"
        }
      ]
    },
    {
      "cell_type": "code",
      "metadata": {
        "colab": {
          "base_uri": "https://localhost:8080/"
        },
        "id": "QAen5SUQm9ir",
        "outputId": "03e07c8c-6f2e-4704-d914-fc9878bc48bc"
      },
      "source": [
        "for column in constant_columns:\n",
        "    print(column)"
      ],
      "execution_count": null,
      "outputs": [
        {
          "output_type": "stream",
          "text": [
            "Bwd.PSH.Flags\n",
            "Fwd.URG.Flags\n",
            "Bwd.URG.Flags\n",
            "FIN.Flag.Count\n",
            "PSH.Flag.Count\n",
            "ECE.Flag.Count\n",
            "Fwd.Avg.Bytes.Bulk\n",
            "Fwd.Avg.Packets.Bulk\n",
            "Fwd.Avg.Bulk.Rate\n",
            "Bwd.Avg.Bytes.Bulk\n",
            "Bwd.Avg.Packets.Bulk\n",
            "Bwd.Avg.Bulk.Rate\n"
          ],
          "name": "stdout"
        }
      ]
    },
    {
      "cell_type": "code",
      "metadata": {
        "id": "_YLUIbL6nAGj"
      },
      "source": [
        "a_train = a_train.drop(constant_columns,axis=1)"
      ],
      "execution_count": null,
      "outputs": []
    },
    {
      "cell_type": "code",
      "metadata": {
        "colab": {
          "base_uri": "https://localhost:8080/",
          "height": 435
        },
        "id": "Owh5O8pcoDtn",
        "outputId": "ab644eb0-d852-4d30-b3a6-7364216d3ae3"
      },
      "source": [
        "a_train"
      ],
      "execution_count": null,
      "outputs": [
        {
          "output_type": "execute_result",
          "data": {
            "text/html": [
              "<div>\n",
              "<style scoped>\n",
              "    .dataframe tbody tr th:only-of-type {\n",
              "        vertical-align: middle;\n",
              "    }\n",
              "\n",
              "    .dataframe tbody tr th {\n",
              "        vertical-align: top;\n",
              "    }\n",
              "\n",
              "    .dataframe thead th {\n",
              "        text-align: right;\n",
              "    }\n",
              "</style>\n",
              "<table border=\"1\" class=\"dataframe\">\n",
              "  <thead>\n",
              "    <tr style=\"text-align: right;\">\n",
              "      <th></th>\n",
              "      <th>Unnamed..0</th>\n",
              "      <th>Flow.ID</th>\n",
              "      <th>Source.IP</th>\n",
              "      <th>Source.Port</th>\n",
              "      <th>Destination.IP</th>\n",
              "      <th>Destination.Port</th>\n",
              "      <th>Protocol</th>\n",
              "      <th>Timestamp</th>\n",
              "      <th>Flow.Duration</th>\n",
              "      <th>Total.Fwd.Packets</th>\n",
              "      <th>Total.Backward.Packets</th>\n",
              "      <th>Total.Length.of.Fwd.Packets</th>\n",
              "      <th>Total.Length.of.Bwd.Packets</th>\n",
              "      <th>Fwd.Packet.Length.Max</th>\n",
              "      <th>Fwd.Packet.Length.Min</th>\n",
              "      <th>Fwd.Packet.Length.Mean</th>\n",
              "      <th>Fwd.Packet.Length.Std</th>\n",
              "      <th>Bwd.Packet.Length.Max</th>\n",
              "      <th>Bwd.Packet.Length.Min</th>\n",
              "      <th>Bwd.Packet.Length.Mean</th>\n",
              "      <th>Bwd.Packet.Length.Std</th>\n",
              "      <th>Flow.Bytes.s</th>\n",
              "      <th>Flow.Packets.s</th>\n",
              "      <th>Flow.IAT.Mean</th>\n",
              "      <th>Flow.IAT.Std</th>\n",
              "      <th>Flow.IAT.Max</th>\n",
              "      <th>Flow.IAT.Min</th>\n",
              "      <th>Fwd.IAT.Total</th>\n",
              "      <th>Fwd.IAT.Mean</th>\n",
              "      <th>Fwd.IAT.Std</th>\n",
              "      <th>Fwd.IAT.Max</th>\n",
              "      <th>Fwd.IAT.Min</th>\n",
              "      <th>Bwd.IAT.Total</th>\n",
              "      <th>Bwd.IAT.Mean</th>\n",
              "      <th>Bwd.IAT.Std</th>\n",
              "      <th>Bwd.IAT.Max</th>\n",
              "      <th>Bwd.IAT.Min</th>\n",
              "      <th>Fwd.PSH.Flags</th>\n",
              "      <th>Fwd.Header.Length</th>\n",
              "      <th>Bwd.Header.Length</th>\n",
              "      <th>Fwd.Packets.s</th>\n",
              "      <th>Bwd.Packets.s</th>\n",
              "      <th>Min.Packet.Length</th>\n",
              "      <th>Max.Packet.Length</th>\n",
              "      <th>Packet.Length.Mean</th>\n",
              "      <th>Packet.Length.Std</th>\n",
              "      <th>Packet.Length.Variance</th>\n",
              "      <th>SYN.Flag.Count</th>\n",
              "      <th>RST.Flag.Count</th>\n",
              "      <th>ACK.Flag.Count</th>\n",
              "      <th>URG.Flag.Count</th>\n",
              "      <th>CWE.Flag.Count</th>\n",
              "      <th>Down.Up.Ratio</th>\n",
              "      <th>Average.Packet.Size</th>\n",
              "      <th>Avg.Fwd.Segment.Size</th>\n",
              "      <th>Avg.Bwd.Segment.Size</th>\n",
              "      <th>Fwd.Header.Length.1</th>\n",
              "      <th>Subflow.Fwd.Packets</th>\n",
              "      <th>Subflow.Fwd.Bytes</th>\n",
              "      <th>Subflow.Bwd.Packets</th>\n",
              "      <th>Subflow.Bwd.Bytes</th>\n",
              "      <th>Init_Win_bytes_forward</th>\n",
              "      <th>Init_Win_bytes_backward</th>\n",
              "      <th>act_data_pkt_fwd</th>\n",
              "      <th>min_seg_size_forward</th>\n",
              "      <th>Active.Mean</th>\n",
              "      <th>Active.Std</th>\n",
              "      <th>Active.Max</th>\n",
              "      <th>Active.Min</th>\n",
              "      <th>Idle.Mean</th>\n",
              "      <th>Idle.Std</th>\n",
              "      <th>Idle.Max</th>\n",
              "      <th>Idle.Min</th>\n",
              "      <th>Inbound</th>\n",
              "    </tr>\n",
              "  </thead>\n",
              "  <tbody>\n",
              "    <tr>\n",
              "      <th>232347</th>\n",
              "      <td>29359.0</td>\n",
              "      <td>1.721605e+26</td>\n",
              "      <td>1721605.0</td>\n",
              "      <td>36308.0</td>\n",
              "      <td>192168501.0</td>\n",
              "      <td>6745.0</td>\n",
              "      <td>17.0</td>\n",
              "      <td>30469.0</td>\n",
              "      <td>1.0</td>\n",
              "      <td>2.0</td>\n",
              "      <td>0.0</td>\n",
              "      <td>766.0</td>\n",
              "      <td>0.0</td>\n",
              "      <td>383.0</td>\n",
              "      <td>383.0</td>\n",
              "      <td>383.0</td>\n",
              "      <td>0.000000</td>\n",
              "      <td>0.0</td>\n",
              "      <td>0.0</td>\n",
              "      <td>0.0</td>\n",
              "      <td>0.0</td>\n",
              "      <td>7.660000e+08</td>\n",
              "      <td>2.000000e+06</td>\n",
              "      <td>1.000000</td>\n",
              "      <td>0.000000</td>\n",
              "      <td>1.0</td>\n",
              "      <td>1.0</td>\n",
              "      <td>1.0</td>\n",
              "      <td>1.000000</td>\n",
              "      <td>0.000000</td>\n",
              "      <td>1.0</td>\n",
              "      <td>1.0</td>\n",
              "      <td>0.0</td>\n",
              "      <td>0.0</td>\n",
              "      <td>0.0</td>\n",
              "      <td>0.0</td>\n",
              "      <td>0.0</td>\n",
              "      <td>0.0</td>\n",
              "      <td>0.0</td>\n",
              "      <td>0.0</td>\n",
              "      <td>2.000000e+06</td>\n",
              "      <td>0.000000</td>\n",
              "      <td>383.0</td>\n",
              "      <td>383.0</td>\n",
              "      <td>383.000000</td>\n",
              "      <td>0.000000</td>\n",
              "      <td>0.000000</td>\n",
              "      <td>0.0</td>\n",
              "      <td>0.0</td>\n",
              "      <td>0.0</td>\n",
              "      <td>0.0</td>\n",
              "      <td>0.0</td>\n",
              "      <td>0.0</td>\n",
              "      <td>574.50</td>\n",
              "      <td>383.0</td>\n",
              "      <td>0.0</td>\n",
              "      <td>0.0</td>\n",
              "      <td>2.0</td>\n",
              "      <td>766.0</td>\n",
              "      <td>0.0</td>\n",
              "      <td>0.0</td>\n",
              "      <td>-1.0</td>\n",
              "      <td>-1.0</td>\n",
              "      <td>1.0</td>\n",
              "      <td>0.0</td>\n",
              "      <td>0.0</td>\n",
              "      <td>0.0</td>\n",
              "      <td>0.0</td>\n",
              "      <td>0.0</td>\n",
              "      <td>0.0</td>\n",
              "      <td>0.0</td>\n",
              "      <td>0.0</td>\n",
              "      <td>0.0</td>\n",
              "      <td>1.0</td>\n",
              "    </tr>\n",
              "    <tr>\n",
              "      <th>278120</th>\n",
              "      <td>3563.0</td>\n",
              "      <td>1.721605e+25</td>\n",
              "      <td>1721605.0</td>\n",
              "      <td>937.0</td>\n",
              "      <td>192168501.0</td>\n",
              "      <td>64453.0</td>\n",
              "      <td>17.0</td>\n",
              "      <td>38031.0</td>\n",
              "      <td>17980.0</td>\n",
              "      <td>200.0</td>\n",
              "      <td>0.0</td>\n",
              "      <td>88000.0</td>\n",
              "      <td>0.0</td>\n",
              "      <td>440.0</td>\n",
              "      <td>440.0</td>\n",
              "      <td>440.0</td>\n",
              "      <td>0.000000</td>\n",
              "      <td>0.0</td>\n",
              "      <td>0.0</td>\n",
              "      <td>0.0</td>\n",
              "      <td>0.0</td>\n",
              "      <td>4.894327e+06</td>\n",
              "      <td>1.112347e+04</td>\n",
              "      <td>90.351759</td>\n",
              "      <td>170.010923</td>\n",
              "      <td>1686.0</td>\n",
              "      <td>0.0</td>\n",
              "      <td>17980.0</td>\n",
              "      <td>90.351759</td>\n",
              "      <td>170.010923</td>\n",
              "      <td>1686.0</td>\n",
              "      <td>0.0</td>\n",
              "      <td>0.0</td>\n",
              "      <td>0.0</td>\n",
              "      <td>0.0</td>\n",
              "      <td>0.0</td>\n",
              "      <td>0.0</td>\n",
              "      <td>0.0</td>\n",
              "      <td>4000.0</td>\n",
              "      <td>0.0</td>\n",
              "      <td>1.112347e+04</td>\n",
              "      <td>0.000000</td>\n",
              "      <td>440.0</td>\n",
              "      <td>440.0</td>\n",
              "      <td>440.000000</td>\n",
              "      <td>0.000000</td>\n",
              "      <td>0.000000</td>\n",
              "      <td>0.0</td>\n",
              "      <td>0.0</td>\n",
              "      <td>0.0</td>\n",
              "      <td>0.0</td>\n",
              "      <td>0.0</td>\n",
              "      <td>0.0</td>\n",
              "      <td>442.20</td>\n",
              "      <td>440.0</td>\n",
              "      <td>0.0</td>\n",
              "      <td>4000.0</td>\n",
              "      <td>200.0</td>\n",
              "      <td>88000.0</td>\n",
              "      <td>0.0</td>\n",
              "      <td>0.0</td>\n",
              "      <td>-1.0</td>\n",
              "      <td>-1.0</td>\n",
              "      <td>199.0</td>\n",
              "      <td>20.0</td>\n",
              "      <td>0.0</td>\n",
              "      <td>0.0</td>\n",
              "      <td>0.0</td>\n",
              "      <td>0.0</td>\n",
              "      <td>0.0</td>\n",
              "      <td>0.0</td>\n",
              "      <td>0.0</td>\n",
              "      <td>0.0</td>\n",
              "      <td>1.0</td>\n",
              "    </tr>\n",
              "    <tr>\n",
              "      <th>166770</th>\n",
              "      <td>81994.0</td>\n",
              "      <td>1.721605e+25</td>\n",
              "      <td>1721605.0</td>\n",
              "      <td>60432.0</td>\n",
              "      <td>192168501.0</td>\n",
              "      <td>2804.0</td>\n",
              "      <td>6.0</td>\n",
              "      <td>32126.0</td>\n",
              "      <td>0.0</td>\n",
              "      <td>2.0</td>\n",
              "      <td>0.0</td>\n",
              "      <td>0.0</td>\n",
              "      <td>0.0</td>\n",
              "      <td>0.0</td>\n",
              "      <td>0.0</td>\n",
              "      <td>0.0</td>\n",
              "      <td>0.000000</td>\n",
              "      <td>0.0</td>\n",
              "      <td>0.0</td>\n",
              "      <td>0.0</td>\n",
              "      <td>0.0</td>\n",
              "      <td>0.000000e+00</td>\n",
              "      <td>0.000000e+00</td>\n",
              "      <td>0.000000</td>\n",
              "      <td>0.000000</td>\n",
              "      <td>0.0</td>\n",
              "      <td>0.0</td>\n",
              "      <td>0.0</td>\n",
              "      <td>0.000000</td>\n",
              "      <td>0.000000</td>\n",
              "      <td>0.0</td>\n",
              "      <td>0.0</td>\n",
              "      <td>0.0</td>\n",
              "      <td>0.0</td>\n",
              "      <td>0.0</td>\n",
              "      <td>0.0</td>\n",
              "      <td>0.0</td>\n",
              "      <td>0.0</td>\n",
              "      <td>40.0</td>\n",
              "      <td>0.0</td>\n",
              "      <td>0.000000e+00</td>\n",
              "      <td>0.000000</td>\n",
              "      <td>0.0</td>\n",
              "      <td>0.0</td>\n",
              "      <td>0.000000</td>\n",
              "      <td>0.000000</td>\n",
              "      <td>0.000000</td>\n",
              "      <td>0.0</td>\n",
              "      <td>0.0</td>\n",
              "      <td>1.0</td>\n",
              "      <td>0.0</td>\n",
              "      <td>0.0</td>\n",
              "      <td>0.0</td>\n",
              "      <td>0.00</td>\n",
              "      <td>0.0</td>\n",
              "      <td>0.0</td>\n",
              "      <td>40.0</td>\n",
              "      <td>2.0</td>\n",
              "      <td>0.0</td>\n",
              "      <td>0.0</td>\n",
              "      <td>0.0</td>\n",
              "      <td>5840.0</td>\n",
              "      <td>-1.0</td>\n",
              "      <td>0.0</td>\n",
              "      <td>20.0</td>\n",
              "      <td>0.0</td>\n",
              "      <td>0.0</td>\n",
              "      <td>0.0</td>\n",
              "      <td>0.0</td>\n",
              "      <td>0.0</td>\n",
              "      <td>0.0</td>\n",
              "      <td>0.0</td>\n",
              "      <td>0.0</td>\n",
              "      <td>1.0</td>\n",
              "    </tr>\n",
              "    <tr>\n",
              "      <th>81586</th>\n",
              "      <td>91285.0</td>\n",
              "      <td>1.721605e+27</td>\n",
              "      <td>1721605.0</td>\n",
              "      <td>57521.0</td>\n",
              "      <td>192168501.0</td>\n",
              "      <td>44685.0</td>\n",
              "      <td>17.0</td>\n",
              "      <td>42010.0</td>\n",
              "      <td>1.0</td>\n",
              "      <td>2.0</td>\n",
              "      <td>0.0</td>\n",
              "      <td>1214.0</td>\n",
              "      <td>0.0</td>\n",
              "      <td>607.0</td>\n",
              "      <td>607.0</td>\n",
              "      <td>607.0</td>\n",
              "      <td>0.000000</td>\n",
              "      <td>0.0</td>\n",
              "      <td>0.0</td>\n",
              "      <td>0.0</td>\n",
              "      <td>0.0</td>\n",
              "      <td>1.210000e+09</td>\n",
              "      <td>2.000000e+06</td>\n",
              "      <td>1.000000</td>\n",
              "      <td>0.000000</td>\n",
              "      <td>1.0</td>\n",
              "      <td>1.0</td>\n",
              "      <td>1.0</td>\n",
              "      <td>1.000000</td>\n",
              "      <td>0.000000</td>\n",
              "      <td>1.0</td>\n",
              "      <td>1.0</td>\n",
              "      <td>0.0</td>\n",
              "      <td>0.0</td>\n",
              "      <td>0.0</td>\n",
              "      <td>0.0</td>\n",
              "      <td>0.0</td>\n",
              "      <td>0.0</td>\n",
              "      <td>40.0</td>\n",
              "      <td>0.0</td>\n",
              "      <td>2.000000e+06</td>\n",
              "      <td>0.000000</td>\n",
              "      <td>607.0</td>\n",
              "      <td>607.0</td>\n",
              "      <td>607.000000</td>\n",
              "      <td>0.000000</td>\n",
              "      <td>0.000000</td>\n",
              "      <td>0.0</td>\n",
              "      <td>0.0</td>\n",
              "      <td>0.0</td>\n",
              "      <td>0.0</td>\n",
              "      <td>0.0</td>\n",
              "      <td>0.0</td>\n",
              "      <td>910.50</td>\n",
              "      <td>607.0</td>\n",
              "      <td>0.0</td>\n",
              "      <td>40.0</td>\n",
              "      <td>2.0</td>\n",
              "      <td>1214.0</td>\n",
              "      <td>0.0</td>\n",
              "      <td>0.0</td>\n",
              "      <td>-1.0</td>\n",
              "      <td>-1.0</td>\n",
              "      <td>1.0</td>\n",
              "      <td>20.0</td>\n",
              "      <td>0.0</td>\n",
              "      <td>0.0</td>\n",
              "      <td>0.0</td>\n",
              "      <td>0.0</td>\n",
              "      <td>0.0</td>\n",
              "      <td>0.0</td>\n",
              "      <td>0.0</td>\n",
              "      <td>0.0</td>\n",
              "      <td>1.0</td>\n",
              "    </tr>\n",
              "    <tr>\n",
              "      <th>105053</th>\n",
              "      <td>66514.0</td>\n",
              "      <td>1.721605e+27</td>\n",
              "      <td>1721605.0</td>\n",
              "      <td>40943.0</td>\n",
              "      <td>192168501.0</td>\n",
              "      <td>29972.0</td>\n",
              "      <td>17.0</td>\n",
              "      <td>2211.0</td>\n",
              "      <td>986771.0</td>\n",
              "      <td>20.0</td>\n",
              "      <td>0.0</td>\n",
              "      <td>7242.0</td>\n",
              "      <td>0.0</td>\n",
              "      <td>401.0</td>\n",
              "      <td>321.0</td>\n",
              "      <td>362.1</td>\n",
              "      <td>30.127623</td>\n",
              "      <td>0.0</td>\n",
              "      <td>0.0</td>\n",
              "      <td>0.0</td>\n",
              "      <td>0.0</td>\n",
              "      <td>7.339089e+03</td>\n",
              "      <td>2.026813e+01</td>\n",
              "      <td>51935.315790</td>\n",
              "      <td>56248.988190</td>\n",
              "      <td>111238.0</td>\n",
              "      <td>1.0</td>\n",
              "      <td>986771.0</td>\n",
              "      <td>51935.315790</td>\n",
              "      <td>56248.988190</td>\n",
              "      <td>111238.0</td>\n",
              "      <td>1.0</td>\n",
              "      <td>0.0</td>\n",
              "      <td>0.0</td>\n",
              "      <td>0.0</td>\n",
              "      <td>0.0</td>\n",
              "      <td>0.0</td>\n",
              "      <td>0.0</td>\n",
              "      <td>320.0</td>\n",
              "      <td>0.0</td>\n",
              "      <td>2.026813e+01</td>\n",
              "      <td>0.000000</td>\n",
              "      <td>321.0</td>\n",
              "      <td>401.0</td>\n",
              "      <td>360.142857</td>\n",
              "      <td>30.703885</td>\n",
              "      <td>942.728571</td>\n",
              "      <td>0.0</td>\n",
              "      <td>0.0</td>\n",
              "      <td>0.0</td>\n",
              "      <td>0.0</td>\n",
              "      <td>0.0</td>\n",
              "      <td>0.0</td>\n",
              "      <td>378.15</td>\n",
              "      <td>362.1</td>\n",
              "      <td>0.0</td>\n",
              "      <td>320.0</td>\n",
              "      <td>20.0</td>\n",
              "      <td>7242.0</td>\n",
              "      <td>0.0</td>\n",
              "      <td>0.0</td>\n",
              "      <td>-1.0</td>\n",
              "      <td>-1.0</td>\n",
              "      <td>19.0</td>\n",
              "      <td>0.0</td>\n",
              "      <td>0.0</td>\n",
              "      <td>0.0</td>\n",
              "      <td>0.0</td>\n",
              "      <td>0.0</td>\n",
              "      <td>0.0</td>\n",
              "      <td>0.0</td>\n",
              "      <td>0.0</td>\n",
              "      <td>0.0</td>\n",
              "      <td>1.0</td>\n",
              "    </tr>\n",
              "    <tr>\n",
              "      <th>...</th>\n",
              "      <td>...</td>\n",
              "      <td>...</td>\n",
              "      <td>...</td>\n",
              "      <td>...</td>\n",
              "      <td>...</td>\n",
              "      <td>...</td>\n",
              "      <td>...</td>\n",
              "      <td>...</td>\n",
              "      <td>...</td>\n",
              "      <td>...</td>\n",
              "      <td>...</td>\n",
              "      <td>...</td>\n",
              "      <td>...</td>\n",
              "      <td>...</td>\n",
              "      <td>...</td>\n",
              "      <td>...</td>\n",
              "      <td>...</td>\n",
              "      <td>...</td>\n",
              "      <td>...</td>\n",
              "      <td>...</td>\n",
              "      <td>...</td>\n",
              "      <td>...</td>\n",
              "      <td>...</td>\n",
              "      <td>...</td>\n",
              "      <td>...</td>\n",
              "      <td>...</td>\n",
              "      <td>...</td>\n",
              "      <td>...</td>\n",
              "      <td>...</td>\n",
              "      <td>...</td>\n",
              "      <td>...</td>\n",
              "      <td>...</td>\n",
              "      <td>...</td>\n",
              "      <td>...</td>\n",
              "      <td>...</td>\n",
              "      <td>...</td>\n",
              "      <td>...</td>\n",
              "      <td>...</td>\n",
              "      <td>...</td>\n",
              "      <td>...</td>\n",
              "      <td>...</td>\n",
              "      <td>...</td>\n",
              "      <td>...</td>\n",
              "      <td>...</td>\n",
              "      <td>...</td>\n",
              "      <td>...</td>\n",
              "      <td>...</td>\n",
              "      <td>...</td>\n",
              "      <td>...</td>\n",
              "      <td>...</td>\n",
              "      <td>...</td>\n",
              "      <td>...</td>\n",
              "      <td>...</td>\n",
              "      <td>...</td>\n",
              "      <td>...</td>\n",
              "      <td>...</td>\n",
              "      <td>...</td>\n",
              "      <td>...</td>\n",
              "      <td>...</td>\n",
              "      <td>...</td>\n",
              "      <td>...</td>\n",
              "      <td>...</td>\n",
              "      <td>...</td>\n",
              "      <td>...</td>\n",
              "      <td>...</td>\n",
              "      <td>...</td>\n",
              "      <td>...</td>\n",
              "      <td>...</td>\n",
              "      <td>...</td>\n",
              "      <td>...</td>\n",
              "      <td>...</td>\n",
              "      <td>...</td>\n",
              "      <td>...</td>\n",
              "      <td>...</td>\n",
              "    </tr>\n",
              "    <tr>\n",
              "      <th>359783</th>\n",
              "      <td>300698.0</td>\n",
              "      <td>1.921685e+21</td>\n",
              "      <td>192168506.0</td>\n",
              "      <td>64846.0</td>\n",
              "      <td>8888.0</td>\n",
              "      <td>53.0</td>\n",
              "      <td>17.0</td>\n",
              "      <td>53321.0</td>\n",
              "      <td>48020.0</td>\n",
              "      <td>2.0</td>\n",
              "      <td>2.0</td>\n",
              "      <td>76.0</td>\n",
              "      <td>180.0</td>\n",
              "      <td>38.0</td>\n",
              "      <td>38.0</td>\n",
              "      <td>38.0</td>\n",
              "      <td>0.000000</td>\n",
              "      <td>90.0</td>\n",
              "      <td>90.0</td>\n",
              "      <td>90.0</td>\n",
              "      <td>0.0</td>\n",
              "      <td>5.331112e+03</td>\n",
              "      <td>8.329863e+01</td>\n",
              "      <td>16006.666670</td>\n",
              "      <td>27721.761850</td>\n",
              "      <td>48017.0</td>\n",
              "      <td>1.0</td>\n",
              "      <td>2.0</td>\n",
              "      <td>2.000000</td>\n",
              "      <td>0.000000</td>\n",
              "      <td>2.0</td>\n",
              "      <td>2.0</td>\n",
              "      <td>1.0</td>\n",
              "      <td>1.0</td>\n",
              "      <td>0.0</td>\n",
              "      <td>1.0</td>\n",
              "      <td>1.0</td>\n",
              "      <td>0.0</td>\n",
              "      <td>64.0</td>\n",
              "      <td>40.0</td>\n",
              "      <td>4.164931e+01</td>\n",
              "      <td>41.649313</td>\n",
              "      <td>38.0</td>\n",
              "      <td>90.0</td>\n",
              "      <td>58.800000</td>\n",
              "      <td>28.481573</td>\n",
              "      <td>811.200000</td>\n",
              "      <td>0.0</td>\n",
              "      <td>0.0</td>\n",
              "      <td>0.0</td>\n",
              "      <td>0.0</td>\n",
              "      <td>0.0</td>\n",
              "      <td>1.0</td>\n",
              "      <td>73.50</td>\n",
              "      <td>38.0</td>\n",
              "      <td>90.0</td>\n",
              "      <td>64.0</td>\n",
              "      <td>2.0</td>\n",
              "      <td>76.0</td>\n",
              "      <td>2.0</td>\n",
              "      <td>180.0</td>\n",
              "      <td>-1.0</td>\n",
              "      <td>-1.0</td>\n",
              "      <td>1.0</td>\n",
              "      <td>32.0</td>\n",
              "      <td>0.0</td>\n",
              "      <td>0.0</td>\n",
              "      <td>0.0</td>\n",
              "      <td>0.0</td>\n",
              "      <td>0.0</td>\n",
              "      <td>0.0</td>\n",
              "      <td>0.0</td>\n",
              "      <td>0.0</td>\n",
              "      <td>0.0</td>\n",
              "    </tr>\n",
              "    <tr>\n",
              "      <th>358083</th>\n",
              "      <td>226076.0</td>\n",
              "      <td>1.921685e+21</td>\n",
              "      <td>192168508.0</td>\n",
              "      <td>64987.0</td>\n",
              "      <td>4224.0</td>\n",
              "      <td>53.0</td>\n",
              "      <td>17.0</td>\n",
              "      <td>32532.0</td>\n",
              "      <td>21107.0</td>\n",
              "      <td>2.0</td>\n",
              "      <td>2.0</td>\n",
              "      <td>76.0</td>\n",
              "      <td>154.0</td>\n",
              "      <td>38.0</td>\n",
              "      <td>38.0</td>\n",
              "      <td>38.0</td>\n",
              "      <td>0.000000</td>\n",
              "      <td>77.0</td>\n",
              "      <td>77.0</td>\n",
              "      <td>77.0</td>\n",
              "      <td>0.0</td>\n",
              "      <td>1.089686e+04</td>\n",
              "      <td>1.895106e+02</td>\n",
              "      <td>7035.666667</td>\n",
              "      <td>12184.400080</td>\n",
              "      <td>21105.0</td>\n",
              "      <td>1.0</td>\n",
              "      <td>1.0</td>\n",
              "      <td>1.000000</td>\n",
              "      <td>0.000000</td>\n",
              "      <td>1.0</td>\n",
              "      <td>1.0</td>\n",
              "      <td>1.0</td>\n",
              "      <td>1.0</td>\n",
              "      <td>0.0</td>\n",
              "      <td>1.0</td>\n",
              "      <td>1.0</td>\n",
              "      <td>0.0</td>\n",
              "      <td>40.0</td>\n",
              "      <td>40.0</td>\n",
              "      <td>9.475529e+01</td>\n",
              "      <td>94.755294</td>\n",
              "      <td>38.0</td>\n",
              "      <td>77.0</td>\n",
              "      <td>53.600000</td>\n",
              "      <td>21.361180</td>\n",
              "      <td>456.300000</td>\n",
              "      <td>0.0</td>\n",
              "      <td>0.0</td>\n",
              "      <td>0.0</td>\n",
              "      <td>0.0</td>\n",
              "      <td>0.0</td>\n",
              "      <td>1.0</td>\n",
              "      <td>67.00</td>\n",
              "      <td>38.0</td>\n",
              "      <td>77.0</td>\n",
              "      <td>40.0</td>\n",
              "      <td>2.0</td>\n",
              "      <td>76.0</td>\n",
              "      <td>2.0</td>\n",
              "      <td>154.0</td>\n",
              "      <td>-1.0</td>\n",
              "      <td>-1.0</td>\n",
              "      <td>1.0</td>\n",
              "      <td>20.0</td>\n",
              "      <td>0.0</td>\n",
              "      <td>0.0</td>\n",
              "      <td>0.0</td>\n",
              "      <td>0.0</td>\n",
              "      <td>0.0</td>\n",
              "      <td>0.0</td>\n",
              "      <td>0.0</td>\n",
              "      <td>0.0</td>\n",
              "      <td>0.0</td>\n",
              "    </tr>\n",
              "    <tr>\n",
              "      <th>152315</th>\n",
              "      <td>322106.0</td>\n",
              "      <td>1.721605e+25</td>\n",
              "      <td>1721605.0</td>\n",
              "      <td>10682.0</td>\n",
              "      <td>192168501.0</td>\n",
              "      <td>2883.0</td>\n",
              "      <td>6.0</td>\n",
              "      <td>30556.0</td>\n",
              "      <td>0.0</td>\n",
              "      <td>2.0</td>\n",
              "      <td>0.0</td>\n",
              "      <td>0.0</td>\n",
              "      <td>0.0</td>\n",
              "      <td>0.0</td>\n",
              "      <td>0.0</td>\n",
              "      <td>0.0</td>\n",
              "      <td>0.000000</td>\n",
              "      <td>0.0</td>\n",
              "      <td>0.0</td>\n",
              "      <td>0.0</td>\n",
              "      <td>0.0</td>\n",
              "      <td>0.000000e+00</td>\n",
              "      <td>0.000000e+00</td>\n",
              "      <td>0.000000</td>\n",
              "      <td>0.000000</td>\n",
              "      <td>0.0</td>\n",
              "      <td>0.0</td>\n",
              "      <td>0.0</td>\n",
              "      <td>0.000000</td>\n",
              "      <td>0.000000</td>\n",
              "      <td>0.0</td>\n",
              "      <td>0.0</td>\n",
              "      <td>0.0</td>\n",
              "      <td>0.0</td>\n",
              "      <td>0.0</td>\n",
              "      <td>0.0</td>\n",
              "      <td>0.0</td>\n",
              "      <td>0.0</td>\n",
              "      <td>40.0</td>\n",
              "      <td>0.0</td>\n",
              "      <td>0.000000e+00</td>\n",
              "      <td>0.000000</td>\n",
              "      <td>0.0</td>\n",
              "      <td>0.0</td>\n",
              "      <td>0.000000</td>\n",
              "      <td>0.000000</td>\n",
              "      <td>0.000000</td>\n",
              "      <td>0.0</td>\n",
              "      <td>0.0</td>\n",
              "      <td>1.0</td>\n",
              "      <td>0.0</td>\n",
              "      <td>0.0</td>\n",
              "      <td>0.0</td>\n",
              "      <td>0.00</td>\n",
              "      <td>0.0</td>\n",
              "      <td>0.0</td>\n",
              "      <td>40.0</td>\n",
              "      <td>2.0</td>\n",
              "      <td>0.0</td>\n",
              "      <td>0.0</td>\n",
              "      <td>0.0</td>\n",
              "      <td>5840.0</td>\n",
              "      <td>-1.0</td>\n",
              "      <td>0.0</td>\n",
              "      <td>20.0</td>\n",
              "      <td>0.0</td>\n",
              "      <td>0.0</td>\n",
              "      <td>0.0</td>\n",
              "      <td>0.0</td>\n",
              "      <td>0.0</td>\n",
              "      <td>0.0</td>\n",
              "      <td>0.0</td>\n",
              "      <td>0.0</td>\n",
              "      <td>1.0</td>\n",
              "    </tr>\n",
              "    <tr>\n",
              "      <th>117952</th>\n",
              "      <td>95229.0</td>\n",
              "      <td>1.721605e+26</td>\n",
              "      <td>1721605.0</td>\n",
              "      <td>60027.0</td>\n",
              "      <td>192168501.0</td>\n",
              "      <td>4238.0</td>\n",
              "      <td>17.0</td>\n",
              "      <td>322.0</td>\n",
              "      <td>106788.0</td>\n",
              "      <td>4.0</td>\n",
              "      <td>0.0</td>\n",
              "      <td>1398.0</td>\n",
              "      <td>0.0</td>\n",
              "      <td>369.0</td>\n",
              "      <td>330.0</td>\n",
              "      <td>349.5</td>\n",
              "      <td>22.516661</td>\n",
              "      <td>0.0</td>\n",
              "      <td>0.0</td>\n",
              "      <td>0.0</td>\n",
              "      <td>0.0</td>\n",
              "      <td>1.309136e+04</td>\n",
              "      <td>3.745739e+01</td>\n",
              "      <td>35596.000000</td>\n",
              "      <td>61611.649780</td>\n",
              "      <td>106739.0</td>\n",
              "      <td>1.0</td>\n",
              "      <td>106788.0</td>\n",
              "      <td>35596.000000</td>\n",
              "      <td>61611.649780</td>\n",
              "      <td>106739.0</td>\n",
              "      <td>1.0</td>\n",
              "      <td>0.0</td>\n",
              "      <td>0.0</td>\n",
              "      <td>0.0</td>\n",
              "      <td>0.0</td>\n",
              "      <td>0.0</td>\n",
              "      <td>0.0</td>\n",
              "      <td>700.0</td>\n",
              "      <td>0.0</td>\n",
              "      <td>3.745739e+01</td>\n",
              "      <td>0.000000</td>\n",
              "      <td>330.0</td>\n",
              "      <td>369.0</td>\n",
              "      <td>345.600000</td>\n",
              "      <td>21.361180</td>\n",
              "      <td>456.300000</td>\n",
              "      <td>0.0</td>\n",
              "      <td>0.0</td>\n",
              "      <td>0.0</td>\n",
              "      <td>0.0</td>\n",
              "      <td>0.0</td>\n",
              "      <td>0.0</td>\n",
              "      <td>432.00</td>\n",
              "      <td>349.5</td>\n",
              "      <td>0.0</td>\n",
              "      <td>700.0</td>\n",
              "      <td>4.0</td>\n",
              "      <td>1398.0</td>\n",
              "      <td>0.0</td>\n",
              "      <td>0.0</td>\n",
              "      <td>-1.0</td>\n",
              "      <td>-1.0</td>\n",
              "      <td>3.0</td>\n",
              "      <td>20.0</td>\n",
              "      <td>0.0</td>\n",
              "      <td>0.0</td>\n",
              "      <td>0.0</td>\n",
              "      <td>0.0</td>\n",
              "      <td>0.0</td>\n",
              "      <td>0.0</td>\n",
              "      <td>0.0</td>\n",
              "      <td>0.0</td>\n",
              "      <td>1.0</td>\n",
              "    </tr>\n",
              "    <tr>\n",
              "      <th>305711</th>\n",
              "      <td>101287.0</td>\n",
              "      <td>1.721605e+26</td>\n",
              "      <td>1721605.0</td>\n",
              "      <td>23619.0</td>\n",
              "      <td>192168501.0</td>\n",
              "      <td>23619.0</td>\n",
              "      <td>6.0</td>\n",
              "      <td>34311.0</td>\n",
              "      <td>51.0</td>\n",
              "      <td>2.0</td>\n",
              "      <td>0.0</td>\n",
              "      <td>0.0</td>\n",
              "      <td>0.0</td>\n",
              "      <td>0.0</td>\n",
              "      <td>0.0</td>\n",
              "      <td>0.0</td>\n",
              "      <td>0.000000</td>\n",
              "      <td>0.0</td>\n",
              "      <td>0.0</td>\n",
              "      <td>0.0</td>\n",
              "      <td>0.0</td>\n",
              "      <td>0.000000e+00</td>\n",
              "      <td>3.921569e+04</td>\n",
              "      <td>51.000000</td>\n",
              "      <td>0.000000</td>\n",
              "      <td>51.0</td>\n",
              "      <td>51.0</td>\n",
              "      <td>51.0</td>\n",
              "      <td>51.000000</td>\n",
              "      <td>0.000000</td>\n",
              "      <td>51.0</td>\n",
              "      <td>51.0</td>\n",
              "      <td>0.0</td>\n",
              "      <td>0.0</td>\n",
              "      <td>0.0</td>\n",
              "      <td>0.0</td>\n",
              "      <td>0.0</td>\n",
              "      <td>0.0</td>\n",
              "      <td>40.0</td>\n",
              "      <td>0.0</td>\n",
              "      <td>3.921569e+04</td>\n",
              "      <td>0.000000</td>\n",
              "      <td>0.0</td>\n",
              "      <td>0.0</td>\n",
              "      <td>0.000000</td>\n",
              "      <td>0.000000</td>\n",
              "      <td>0.000000</td>\n",
              "      <td>0.0</td>\n",
              "      <td>0.0</td>\n",
              "      <td>1.0</td>\n",
              "      <td>0.0</td>\n",
              "      <td>0.0</td>\n",
              "      <td>0.0</td>\n",
              "      <td>0.00</td>\n",
              "      <td>0.0</td>\n",
              "      <td>0.0</td>\n",
              "      <td>40.0</td>\n",
              "      <td>2.0</td>\n",
              "      <td>0.0</td>\n",
              "      <td>0.0</td>\n",
              "      <td>0.0</td>\n",
              "      <td>5840.0</td>\n",
              "      <td>-1.0</td>\n",
              "      <td>0.0</td>\n",
              "      <td>20.0</td>\n",
              "      <td>0.0</td>\n",
              "      <td>0.0</td>\n",
              "      <td>0.0</td>\n",
              "      <td>0.0</td>\n",
              "      <td>0.0</td>\n",
              "      <td>0.0</td>\n",
              "      <td>0.0</td>\n",
              "      <td>0.0</td>\n",
              "      <td>1.0</td>\n",
              "    </tr>\n",
              "  </tbody>\n",
              "</table>\n",
              "<p>252000 rows × 74 columns</p>\n",
              "</div>"
            ],
            "text/plain": [
              "        Unnamed..0       Flow.ID    Source.IP  ...  Idle.Max  Idle.Min  Inbound\n",
              "232347     29359.0  1.721605e+26    1721605.0  ...       0.0       0.0      1.0\n",
              "278120      3563.0  1.721605e+25    1721605.0  ...       0.0       0.0      1.0\n",
              "166770     81994.0  1.721605e+25    1721605.0  ...       0.0       0.0      1.0\n",
              "81586      91285.0  1.721605e+27    1721605.0  ...       0.0       0.0      1.0\n",
              "105053     66514.0  1.721605e+27    1721605.0  ...       0.0       0.0      1.0\n",
              "...            ...           ...          ...  ...       ...       ...      ...\n",
              "359783    300698.0  1.921685e+21  192168506.0  ...       0.0       0.0      0.0\n",
              "358083    226076.0  1.921685e+21  192168508.0  ...       0.0       0.0      0.0\n",
              "152315    322106.0  1.721605e+25    1721605.0  ...       0.0       0.0      1.0\n",
              "117952     95229.0  1.721605e+26    1721605.0  ...       0.0       0.0      1.0\n",
              "305711    101287.0  1.721605e+26    1721605.0  ...       0.0       0.0      1.0\n",
              "\n",
              "[252000 rows x 74 columns]"
            ]
          },
          "metadata": {
            "tags": []
          },
          "execution_count": 22
        }
      ]
    },
    {
      "cell_type": "code",
      "metadata": {
        "id": "igHA6EQJosyd"
      },
      "source": [
        "mylt = list(a_train.columns.values)"
      ],
      "execution_count": null,
      "outputs": []
    },
    {
      "cell_type": "code",
      "metadata": {
        "id": "YAOrMtqkpDj8"
      },
      "source": [
        "c = df16[mylt]\n",
        "d = df16['Label']"
      ],
      "execution_count": null,
      "outputs": []
    },
    {
      "cell_type": "code",
      "metadata": {
        "id": "ct-m0dndpP-N"
      },
      "source": [
        "#Univariate feature selection\n",
        "from sklearn.feature_selection import SelectKBest\n",
        "from sklearn.feature_selection import f_classif\n",
        "from sklearn.feature_selection import chi2"
      ],
      "execution_count": null,
      "outputs": []
    },
    {
      "cell_type": "code",
      "metadata": {
        "id": "sW97UDbapSL-"
      },
      "source": [
        "bestfeatures = SelectKBest(score_func=f_classif, k=10)\n",
        "fit = bestfeatures.fit(c,d)"
      ],
      "execution_count": null,
      "outputs": []
    },
    {
      "cell_type": "code",
      "metadata": {
        "id": "gtjKP06ApWpi"
      },
      "source": [
        "dfscores = pd.DataFrame(fit.scores_)\n",
        "dfcolumns = pd.DataFrame(c.columns)"
      ],
      "execution_count": null,
      "outputs": []
    },
    {
      "cell_type": "code",
      "metadata": {
        "id": "lchxKmR7paQs"
      },
      "source": [
        "#concat two dataframes for better visualization \n",
        "featureScores = pd.concat([dfcolumns,dfscores],axis=1)\n",
        "featureScores.columns = ['Specs','Score']  #naming the dataframe columns"
      ],
      "execution_count": null,
      "outputs": []
    },
    {
      "cell_type": "code",
      "metadata": {
        "colab": {
          "base_uri": "https://localhost:8080/",
          "height": 415
        },
        "id": "eYJNpw9UpdF6",
        "outputId": "3bd5181c-c5bf-45d5-e500-ad1307f2ae42"
      },
      "source": [
        "featureScores"
      ],
      "execution_count": null,
      "outputs": [
        {
          "output_type": "execute_result",
          "data": {
            "text/html": [
              "<div>\n",
              "<style scoped>\n",
              "    .dataframe tbody tr th:only-of-type {\n",
              "        vertical-align: middle;\n",
              "    }\n",
              "\n",
              "    .dataframe tbody tr th {\n",
              "        vertical-align: top;\n",
              "    }\n",
              "\n",
              "    .dataframe thead th {\n",
              "        text-align: right;\n",
              "    }\n",
              "</style>\n",
              "<table border=\"1\" class=\"dataframe\">\n",
              "  <thead>\n",
              "    <tr style=\"text-align: right;\">\n",
              "      <th></th>\n",
              "      <th>Specs</th>\n",
              "      <th>Score</th>\n",
              "    </tr>\n",
              "  </thead>\n",
              "  <tbody>\n",
              "    <tr>\n",
              "      <th>0</th>\n",
              "      <td>Unnamed..0</td>\n",
              "      <td>51955.707092</td>\n",
              "    </tr>\n",
              "    <tr>\n",
              "      <th>1</th>\n",
              "      <td>Flow.ID</td>\n",
              "      <td>52.720401</td>\n",
              "    </tr>\n",
              "    <tr>\n",
              "      <th>2</th>\n",
              "      <td>Source.IP</td>\n",
              "      <td>1717.360103</td>\n",
              "    </tr>\n",
              "    <tr>\n",
              "      <th>3</th>\n",
              "      <td>Source.Port</td>\n",
              "      <td>79216.760878</td>\n",
              "    </tr>\n",
              "    <tr>\n",
              "      <th>4</th>\n",
              "      <td>Destination.IP</td>\n",
              "      <td>3533.308104</td>\n",
              "    </tr>\n",
              "    <tr>\n",
              "      <th>...</th>\n",
              "      <td>...</td>\n",
              "      <td>...</td>\n",
              "    </tr>\n",
              "    <tr>\n",
              "      <th>69</th>\n",
              "      <td>Idle.Mean</td>\n",
              "      <td>2475.944810</td>\n",
              "    </tr>\n",
              "    <tr>\n",
              "      <th>70</th>\n",
              "      <td>Idle.Std</td>\n",
              "      <td>1223.552055</td>\n",
              "    </tr>\n",
              "    <tr>\n",
              "      <th>71</th>\n",
              "      <td>Idle.Max</td>\n",
              "      <td>2454.288515</td>\n",
              "    </tr>\n",
              "    <tr>\n",
              "      <th>72</th>\n",
              "      <td>Idle.Min</td>\n",
              "      <td>2337.354451</td>\n",
              "    </tr>\n",
              "    <tr>\n",
              "      <th>73</th>\n",
              "      <td>Inbound</td>\n",
              "      <td>130658.003285</td>\n",
              "    </tr>\n",
              "  </tbody>\n",
              "</table>\n",
              "<p>74 rows × 2 columns</p>\n",
              "</div>"
            ],
            "text/plain": [
              "             Specs          Score\n",
              "0       Unnamed..0   51955.707092\n",
              "1          Flow.ID      52.720401\n",
              "2        Source.IP    1717.360103\n",
              "3      Source.Port   79216.760878\n",
              "4   Destination.IP    3533.308104\n",
              "..             ...            ...\n",
              "69       Idle.Mean    2475.944810\n",
              "70        Idle.Std    1223.552055\n",
              "71        Idle.Max    2454.288515\n",
              "72        Idle.Min    2337.354451\n",
              "73         Inbound  130658.003285\n",
              "\n",
              "[74 rows x 2 columns]"
            ]
          },
          "metadata": {
            "tags": []
          },
          "execution_count": 29
        }
      ]
    },
    {
      "cell_type": "code",
      "metadata": {
        "colab": {
          "base_uri": "https://localhost:8080/"
        },
        "id": "JxqtiK2ZpiK4",
        "outputId": "70f43320-a1a3-4ca4-fd6e-05c557563a98"
      },
      "source": [
        "print(featureScores.nlargest(15,'Score'))  #print 15 best features"
      ],
      "execution_count": null,
      "outputs": [
        {
          "output_type": "stream",
          "text": [
            "                     Specs          Score\n",
            "53     Average.Packet.Size  325735.207411\n",
            "42       Min.Packet.Length  318628.599899\n",
            "14   Fwd.Packet.Length.Min  316318.509561\n",
            "15  Fwd.Packet.Length.Mean  316218.336716\n",
            "54    Avg.Fwd.Segment.Size  316218.336716\n",
            "44      Packet.Length.Mean  298842.410780\n",
            "13   Fwd.Packet.Length.Max  186568.966365\n",
            "73                 Inbound  130658.003285\n",
            "49          ACK.Flag.Count  118559.688229\n",
            "6                 Protocol  109661.807224\n",
            "3              Source.Port   79216.760878\n",
            "21            Flow.Bytes.s   67861.143626\n",
            "43       Max.Packet.Length   58679.169921\n",
            "0               Unnamed..0   51955.707092\n",
            "7                Timestamp   38137.974438\n"
          ],
          "name": "stdout"
        }
      ]
    },
    {
      "cell_type": "code",
      "metadata": {
        "id": "HQpF0hsCpjHA"
      },
      "source": [
        "e = df16[mylt]\n",
        "f = df16['Label']"
      ],
      "execution_count": null,
      "outputs": []
    },
    {
      "cell_type": "code",
      "metadata": {
        "colab": {
          "base_uri": "https://localhost:8080/"
        },
        "id": "UYgipv1VpqsA",
        "outputId": "a5ad089d-93e9-4310-89f5-378e9290d9ea"
      },
      "source": [
        "#Feature_Importance \n",
        "from sklearn.ensemble import ExtraTreesClassifier\n",
        "import matplotlib.pyplot as plt\n",
        "model = ExtraTreesClassifier()\n",
        "model.fit(e,f)"
      ],
      "execution_count": null,
      "outputs": [
        {
          "output_type": "execute_result",
          "data": {
            "text/plain": [
              "ExtraTreesClassifier(bootstrap=False, ccp_alpha=0.0, class_weight=None,\n",
              "                     criterion='gini', max_depth=None, max_features='auto',\n",
              "                     max_leaf_nodes=None, max_samples=None,\n",
              "                     min_impurity_decrease=0.0, min_impurity_split=None,\n",
              "                     min_samples_leaf=1, min_samples_split=2,\n",
              "                     min_weight_fraction_leaf=0.0, n_estimators=100,\n",
              "                     n_jobs=None, oob_score=False, random_state=None, verbose=0,\n",
              "                     warm_start=False)"
            ]
          },
          "metadata": {
            "tags": []
          },
          "execution_count": 32
        }
      ]
    },
    {
      "cell_type": "code",
      "metadata": {
        "colab": {
          "base_uri": "https://localhost:8080/"
        },
        "id": "s8v56MGgp0Qy",
        "outputId": "16e9aa18-4f61-443d-b698-fefc70623cce"
      },
      "source": [
        "print(model.feature_importances_) #use inbuilt class feature_importances of tree based classifiers"
      ],
      "execution_count": null,
      "outputs": [
        {
          "output_type": "stream",
          "text": [
            "[5.82229678e-02 1.42223942e-02 3.60172104e-03 6.13711201e-02\n",
            " 8.54142664e-04 1.53348997e-02 1.47046482e-02 2.60887092e-01\n",
            " 6.37288930e-03 6.22604602e-03 6.84451854e-05 1.23774072e-02\n",
            " 1.00472129e-04 2.28113650e-02 5.36191181e-02 3.20622001e-02\n",
            " 3.40513717e-03 1.44360815e-03 8.91666302e-04 2.02204529e-04\n",
            " 2.78865406e-04 2.72754921e-02 1.67329487e-02 7.47005630e-03\n",
            " 4.75757985e-03 5.96234253e-03 2.53548766e-03 5.72959788e-03\n",
            " 7.49684368e-03 6.15136053e-03 6.97060216e-03 2.68856740e-03\n",
            " 5.20006169e-04 2.45732954e-04 1.07668917e-04 1.79729739e-04\n",
            " 1.02748591e-04 2.11401286e-03 5.34373219e-03 1.08398943e-04\n",
            " 1.80139026e-02 4.48907757e-04 4.75836839e-02 2.28040129e-02\n",
            " 4.04038218e-02 3.97325256e-03 8.95325416e-04 1.48920793e-05\n",
            " 1.12408144e-03 3.03540504e-02 1.18924084e-02 3.03605701e-03\n",
            " 2.90621237e-03 3.73362247e-02 3.34257120e-02 1.18702818e-03\n",
            " 5.73081547e-03 5.16743437e-03 1.03364510e-02 2.21546930e-04\n",
            " 3.82504029e-05 2.59273536e-03 6.69203204e-04 5.95898356e-03\n",
            " 5.76244575e-03 7.87921714e-05 8.35848493e-06 4.57780105e-05\n",
            " 7.18871163e-05 4.77222220e-04 1.52213819e-04 3.99713290e-04\n",
            " 6.15873900e-04 3.47214020e-02]\n"
          ],
          "name": "stdout"
        }
      ]
    },
    {
      "cell_type": "code",
      "metadata": {
        "colab": {
          "base_uri": "https://localhost:8080/",
          "height": 265
        },
        "id": "MrOxz4M9p2YE",
        "outputId": "7e43cb19-6856-4e57-c62d-602cc37e3bad"
      },
      "source": [
        "#plot graph of feature importances for better visualization\n",
        "feat_importances = pd.Series(model.feature_importances_, index=c.columns)\n",
        "feat_importances.nlargest(15).plot(kind='barh')\n",
        "\n",
        "plt.show()"
      ],
      "execution_count": null,
      "outputs": [
        {
          "output_type": "display_data",
          "data": {
            "image/png": "[encoded data removed]",
            "text/plain": [
              "<Figure size 432x288 with 1 Axes>"
            ]
          },
          "metadata": {
            "tags": [],
            "needs_background": "light"
          }
        }
      ]
    },
    {
      "cell_type": "code",
      "metadata": {
        "colab": {
          "base_uri": "https://localhost:8080/"
        },
        "id": "-k6JORMqp3_l",
        "outputId": "d8feb2be-c7e8-4734-f836-9415d4f0fe21"
      },
      "source": [
        "feat_importances.nlargest(25).to_frame()\n",
        "ft = feat_importances.nlargest(25).to_frame()\n",
        "ft.index"
      ],
      "execution_count": null,
      "outputs": [
        {
          "output_type": "execute_result",
          "data": {
            "text/plain": [
              "Index(['Timestamp', 'Source.Port', 'Unnamed..0', 'Fwd.Packet.Length.Min',\n",
              "       'Min.Packet.Length', 'Packet.Length.Mean', 'Average.Packet.Size',\n",
              "       'Inbound', 'Avg.Fwd.Segment.Size', 'Fwd.Packet.Length.Mean',\n",
              "       'ACK.Flag.Count', 'Flow.Bytes.s', 'Fwd.Packet.Length.Max',\n",
              "       'Max.Packet.Length', 'Fwd.Packets.s', 'Flow.Packets.s',\n",
              "       'Destination.Port', 'Protocol', 'Flow.ID',\n",
              "       'Total.Length.of.Fwd.Packets', 'URG.Flag.Count', 'Subflow.Fwd.Bytes',\n",
              "       'Fwd.IAT.Mean', 'Flow.IAT.Mean', 'Fwd.IAT.Max'],\n",
              "      dtype='object')"
            ]
          },
          "metadata": {
            "tags": []
          },
          "execution_count": 35
        }
      ]
    },
    {
      "cell_type": "code",
      "metadata": {
        "id": "xSuYxX8fshP1"
      },
      "source": [
        "df17 = df16[ft.index]"
      ],
      "execution_count": null,
      "outputs": []
    },
    {
      "cell_type": "code",
      "metadata": {
        "id": "vKDQC-xKq63J"
      },
      "source": [
        "from sklearn.metrics import confusion_matrix"
      ],
      "execution_count": null,
      "outputs": []
    },
    {
      "cell_type": "code",
      "metadata": {
        "id": "fEh2fP4esMH1"
      },
      "source": [
        "np.random.seed(123)"
      ],
      "execution_count": null,
      "outputs": []
    },
    {
      "cell_type": "code",
      "metadata": {
        "id": "x_IEwbe5sbwm"
      },
      "source": [
        "corr = df17.corr()"
      ],
      "execution_count": null,
      "outputs": []
    },
    {
      "cell_type": "code",
      "metadata": {
        "colab": {
          "base_uri": "https://localhost:8080/",
          "height": 415
        },
        "id": "FnqXXjopmYn8",
        "outputId": "963d5645-257f-4001-91f0-452185d4d73a"
      },
      "source": [
        "import seaborn as sns\n",
        "sns.heatmap(corr)"
      ],
      "execution_count": null,
      "outputs": [
        {
          "output_type": "execute_result",
          "data": {
            "text/plain": [
              "<matplotlib.axes._subplots.AxesSubplot at 0x7faa12d5b5d0>"
            ]
          },
          "metadata": {
            "tags": []
          },
          "execution_count": 42
        },
        {
          "output_type": "display_data",
          "data": {
            "image/png": "[encoded data removed]",
            "text/plain": [
              "<Figure size 432x288 with 2 Axes>"
            ]
          },
          "metadata": {
            "tags": [],
            "needs_background": "light"
          }
        }
      ]
    },
    {
      "cell_type": "code",
      "metadata": {
        "id": "U4ldrYtomrTY"
      },
      "source": [
        "columns = np.full((corr.shape[0],), True, dtype=bool)\n",
        "for i in range(corr.shape[0]):\n",
        "    for j in range(i+1, corr.shape[0]):\n",
        "        if corr.iloc[i,j] >= 0.9:\n",
        "            if columns[j]:\n",
        "                columns[j] = False\n",
        "selected_columns = df17.columns[columns]\n",
        "df18 = df17[selected_columns]"
      ],
      "execution_count": null,
      "outputs": []
    },
    {
      "cell_type": "code",
      "metadata": {
        "colab": {
          "base_uri": "https://localhost:8080/",
          "height": 435
        },
        "id": "veKQ9l8wmxWJ",
        "outputId": "6c1d089b-ac50-4122-b374-4d366a6caf91"
      },
      "source": [
        "df18"
      ],
      "execution_count": null,
      "outputs": [
        {
          "output_type": "execute_result",
          "data": {
            "text/html": [
              "<div>\n",
              "<style scoped>\n",
              "    .dataframe tbody tr th:only-of-type {\n",
              "        vertical-align: middle;\n",
              "    }\n",
              "\n",
              "    .dataframe tbody tr th {\n",
              "        vertical-align: top;\n",
              "    }\n",
              "\n",
              "    .dataframe thead th {\n",
              "        text-align: right;\n",
              "    }\n",
              "</style>\n",
              "<table border=\"1\" class=\"dataframe\">\n",
              "  <thead>\n",
              "    <tr style=\"text-align: right;\">\n",
              "      <th></th>\n",
              "      <th>Timestamp</th>\n",
              "      <th>Source.Port</th>\n",
              "      <th>Unnamed..0</th>\n",
              "      <th>Fwd.Packet.Length.Min</th>\n",
              "      <th>Inbound</th>\n",
              "      <th>ACK.Flag.Count</th>\n",
              "      <th>Flow.Bytes.s</th>\n",
              "      <th>Max.Packet.Length</th>\n",
              "      <th>Fwd.Packets.s</th>\n",
              "      <th>Destination.Port</th>\n",
              "      <th>Protocol</th>\n",
              "      <th>Flow.ID</th>\n",
              "      <th>Total.Length.of.Fwd.Packets</th>\n",
              "      <th>URG.Flag.Count</th>\n",
              "      <th>Fwd.IAT.Mean</th>\n",
              "      <th>Fwd.IAT.Max</th>\n",
              "    </tr>\n",
              "  </thead>\n",
              "  <tbody>\n",
              "    <tr>\n",
              "      <th>0</th>\n",
              "      <td>29440.0</td>\n",
              "      <td>872.0</td>\n",
              "      <td>1110.0</td>\n",
              "      <td>1472.0</td>\n",
              "      <td>1.0</td>\n",
              "      <td>0.0</td>\n",
              "      <td>1.470000e+09</td>\n",
              "      <td>1472.0</td>\n",
              "      <td>1.000000e+06</td>\n",
              "      <td>45984.0</td>\n",
              "      <td>17.0</td>\n",
              "      <td>1.721605e+25</td>\n",
              "      <td>2944.0</td>\n",
              "      <td>0.0</td>\n",
              "      <td>2.0000</td>\n",
              "      <td>2.0</td>\n",
              "    </tr>\n",
              "    <tr>\n",
              "      <th>1</th>\n",
              "      <td>31011.0</td>\n",
              "      <td>867.0</td>\n",
              "      <td>25998.0</td>\n",
              "      <td>1472.0</td>\n",
              "      <td>1.0</td>\n",
              "      <td>0.0</td>\n",
              "      <td>6.846512e+07</td>\n",
              "      <td>1472.0</td>\n",
              "      <td>4.651163e+04</td>\n",
              "      <td>39632.0</td>\n",
              "      <td>17.0</td>\n",
              "      <td>1.721605e+25</td>\n",
              "      <td>2944.0</td>\n",
              "      <td>0.0</td>\n",
              "      <td>43.0000</td>\n",
              "      <td>43.0</td>\n",
              "    </tr>\n",
              "    <tr>\n",
              "      <th>2</th>\n",
              "      <td>24384.0</td>\n",
              "      <td>818.0</td>\n",
              "      <td>10751.0</td>\n",
              "      <td>1472.0</td>\n",
              "      <td>1.0</td>\n",
              "      <td>0.0</td>\n",
              "      <td>2.940000e+09</td>\n",
              "      <td>1472.0</td>\n",
              "      <td>2.000000e+06</td>\n",
              "      <td>826.0</td>\n",
              "      <td>17.0</td>\n",
              "      <td>1.721605e+23</td>\n",
              "      <td>2944.0</td>\n",
              "      <td>0.0</td>\n",
              "      <td>1.0000</td>\n",
              "      <td>1.0</td>\n",
              "    </tr>\n",
              "    <tr>\n",
              "      <th>3</th>\n",
              "      <td>27015.0</td>\n",
              "      <td>894.0</td>\n",
              "      <td>15983.0</td>\n",
              "      <td>1472.0</td>\n",
              "      <td>1.0</td>\n",
              "      <td>0.0</td>\n",
              "      <td>2.940000e+09</td>\n",
              "      <td>1472.0</td>\n",
              "      <td>2.000000e+06</td>\n",
              "      <td>32984.0</td>\n",
              "      <td>17.0</td>\n",
              "      <td>1.721605e+25</td>\n",
              "      <td>2944.0</td>\n",
              "      <td>0.0</td>\n",
              "      <td>1.0000</td>\n",
              "      <td>1.0</td>\n",
              "    </tr>\n",
              "    <tr>\n",
              "      <th>4</th>\n",
              "      <td>26581.0</td>\n",
              "      <td>877.0</td>\n",
              "      <td>29733.0</td>\n",
              "      <td>1472.0</td>\n",
              "      <td>1.0</td>\n",
              "      <td>0.0</td>\n",
              "      <td>9.813333e+08</td>\n",
              "      <td>1472.0</td>\n",
              "      <td>6.666667e+05</td>\n",
              "      <td>12571.0</td>\n",
              "      <td>17.0</td>\n",
              "      <td>1.721605e+25</td>\n",
              "      <td>2944.0</td>\n",
              "      <td>0.0</td>\n",
              "      <td>3.0000</td>\n",
              "      <td>3.0</td>\n",
              "    </tr>\n",
              "    <tr>\n",
              "      <th>...</th>\n",
              "      <td>...</td>\n",
              "      <td>...</td>\n",
              "      <td>...</td>\n",
              "      <td>...</td>\n",
              "      <td>...</td>\n",
              "      <td>...</td>\n",
              "      <td>...</td>\n",
              "      <td>...</td>\n",
              "      <td>...</td>\n",
              "      <td>...</td>\n",
              "      <td>...</td>\n",
              "      <td>...</td>\n",
              "      <td>...</td>\n",
              "      <td>...</td>\n",
              "      <td>...</td>\n",
              "      <td>...</td>\n",
              "    </tr>\n",
              "    <tr>\n",
              "      <th>359995</th>\n",
              "      <td>24165.0</td>\n",
              "      <td>58956.0</td>\n",
              "      <td>10503.0</td>\n",
              "      <td>0.0</td>\n",
              "      <td>0.0</td>\n",
              "      <td>0.0</td>\n",
              "      <td>2.242152e+02</td>\n",
              "      <td>6.0</td>\n",
              "      <td>1.868460e+01</td>\n",
              "      <td>465.0</td>\n",
              "      <td>6.0</td>\n",
              "      <td>1.731947e+28</td>\n",
              "      <td>0.0</td>\n",
              "      <td>1.0</td>\n",
              "      <td>0.0000</td>\n",
              "      <td>0.0</td>\n",
              "    </tr>\n",
              "    <tr>\n",
              "      <th>359996</th>\n",
              "      <td>44457.0</td>\n",
              "      <td>54494.0</td>\n",
              "      <td>14271.0</td>\n",
              "      <td>6.0</td>\n",
              "      <td>0.0</td>\n",
              "      <td>0.0</td>\n",
              "      <td>4.554080e+04</td>\n",
              "      <td>6.0</td>\n",
              "      <td>3.795066e+03</td>\n",
              "      <td>443.0</td>\n",
              "      <td>6.0</td>\n",
              "      <td>1.732412e+29</td>\n",
              "      <td>12.0</td>\n",
              "      <td>1.0</td>\n",
              "      <td>1.0000</td>\n",
              "      <td>1.0</td>\n",
              "    </tr>\n",
              "    <tr>\n",
              "      <th>359997</th>\n",
              "      <td>43482.0</td>\n",
              "      <td>56713.0</td>\n",
              "      <td>4911.0</td>\n",
              "      <td>0.0</td>\n",
              "      <td>0.0</td>\n",
              "      <td>1.0</td>\n",
              "      <td>4.537957e+02</td>\n",
              "      <td>1071.0</td>\n",
              "      <td>1.011526e+00</td>\n",
              "      <td>80.0</td>\n",
              "      <td>6.0</td>\n",
              "      <td>1.921685e+27</td>\n",
              "      <td>4034.0</td>\n",
              "      <td>0.0</td>\n",
              "      <td>722016.2667</td>\n",
              "      <td>9989946.0</td>\n",
              "    </tr>\n",
              "    <tr>\n",
              "      <th>359998</th>\n",
              "      <td>45491.0</td>\n",
              "      <td>443.0</td>\n",
              "      <td>249414.0</td>\n",
              "      <td>6.0</td>\n",
              "      <td>1.0</td>\n",
              "      <td>0.0</td>\n",
              "      <td>1.071429e+05</td>\n",
              "      <td>6.0</td>\n",
              "      <td>5.952381e+03</td>\n",
              "      <td>60907.0</td>\n",
              "      <td>6.0</td>\n",
              "      <td>1.722171e+28</td>\n",
              "      <td>6.0</td>\n",
              "      <td>1.0</td>\n",
              "      <td>0.0000</td>\n",
              "      <td>0.0</td>\n",
              "    </tr>\n",
              "    <tr>\n",
              "      <th>359999</th>\n",
              "      <td>39375.0</td>\n",
              "      <td>52034.0</td>\n",
              "      <td>411419.0</td>\n",
              "      <td>59.0</td>\n",
              "      <td>0.0</td>\n",
              "      <td>0.0</td>\n",
              "      <td>1.881556e+04</td>\n",
              "      <td>141.0</td>\n",
              "      <td>9.407780e+01</td>\n",
              "      <td>53.0</td>\n",
              "      <td>17.0</td>\n",
              "      <td>1.921685e+21</td>\n",
              "      <td>118.0</td>\n",
              "      <td>0.0</td>\n",
              "      <td>2.0000</td>\n",
              "      <td>2.0</td>\n",
              "    </tr>\n",
              "  </tbody>\n",
              "</table>\n",
              "<p>360000 rows × 16 columns</p>\n",
              "</div>"
            ],
            "text/plain": [
              "        Timestamp  Source.Port  ...  Fwd.IAT.Mean  Fwd.IAT.Max\n",
              "0         29440.0        872.0  ...        2.0000          2.0\n",
              "1         31011.0        867.0  ...       43.0000         43.0\n",
              "2         24384.0        818.0  ...        1.0000          1.0\n",
              "3         27015.0        894.0  ...        1.0000          1.0\n",
              "4         26581.0        877.0  ...        3.0000          3.0\n",
              "...           ...          ...  ...           ...          ...\n",
              "359995    24165.0      58956.0  ...        0.0000          0.0\n",
              "359996    44457.0      54494.0  ...        1.0000          1.0\n",
              "359997    43482.0      56713.0  ...   722016.2667    9989946.0\n",
              "359998    45491.0        443.0  ...        0.0000          0.0\n",
              "359999    39375.0      52034.0  ...        2.0000          2.0\n",
              "\n",
              "[360000 rows x 16 columns]"
            ]
          },
          "metadata": {
            "tags": []
          },
          "execution_count": 45
        }
      ]
    },
    {
      "cell_type": "code",
      "metadata": {
        "id": "R09a21ZjoWbU"
      },
      "source": [
        "X = df18\n",
        "y = df16['Label']"
      ],
      "execution_count": null,
      "outputs": []
    },
    {
      "cell_type": "code",
      "metadata": {
        "id": "6NU9Ur1PohX0"
      },
      "source": [
        "from sklearn.model_selection import train_test_split\n",
        "X_train, X_test, y_train, y_test = train_test_split(X, y, test_size=0.20)"
      ],
      "execution_count": null,
      "outputs": []
    },
    {
      "cell_type": "code",
      "metadata": {
        "colab": {
          "base_uri": "https://localhost:8080/"
        },
        "id": "M33wmwvfol1G",
        "outputId": "7804c4f3-65d6-4a76-a4e3-070cc488ff75"
      },
      "source": [
        "from sklearn.tree import DecisionTreeClassifier\n",
        "classifier = DecisionTreeClassifier()\n",
        "classifier.fit(X_train, y_train)"
      ],
      "execution_count": null,
      "outputs": [
        {
          "output_type": "execute_result",
          "data": {
            "text/plain": [
              "DecisionTreeClassifier(ccp_alpha=0.0, class_weight=None, criterion='gini',\n",
              "                       max_depth=None, max_features=None, max_leaf_nodes=None,\n",
              "                       min_impurity_decrease=0.0, min_impurity_split=None,\n",
              "                       min_samples_leaf=1, min_samples_split=2,\n",
              "                       min_weight_fraction_leaf=0.0, presort='deprecated',\n",
              "                       random_state=None, splitter='best')"
            ]
          },
          "metadata": {
            "tags": []
          },
          "execution_count": 50
        }
      ]
    },
    {
      "cell_type": "code",
      "metadata": {
        "id": "x4fybFAeonUl"
      },
      "source": [
        "y_pred = classifier.predict(X_test)"
      ],
      "execution_count": null,
      "outputs": []
    },
    {
      "cell_type": "code",
      "metadata": {
        "colab": {
          "base_uri": "https://localhost:8080/"
        },
        "id": "BplI0OXUoob-",
        "outputId": "1b050076-8601-42a2-e5df-600efa4503db"
      },
      "source": [
        "from sklearn.metrics import classification_report, confusion_matrix\n",
        "print(confusion_matrix(y_test, y_pred))\n",
        "print(classification_report(y_test, y_pred))"
      ],
      "execution_count": null,
      "outputs": [
        {
          "output_type": "stream",
          "text": [
            "[[5980    0    0    0    0    2    0    0    0    1    2    0]\n",
            " [   0 5954    1    0    0    0    0    1   14   30    0    0]\n",
            " [   0    0 5857    1    1    0    0    0    0  198    1    1]\n",
            " [   0    0    0 6078    2    0    0    0    1    0    1    3]\n",
            " [   1    0    0    0 5813    2    0    0    0    0    0    1]\n",
            " [   0    0    1    0    0 6072    0    0    0    0    1    0]\n",
            " [   0    0    0    0    0    0 5982    0    0    0    0    2]\n",
            " [   0    0    5    0    2    0    0 5982    1    2    0    0]\n",
            " [   1   13    0    0    3    0    0    1 5990    0    0    0]\n",
            " [   1   35  204    0    0    0    0    3    0 5730    1    0]\n",
            " [   0    0    2    0    1    1    1    1    1    0 6044    1]\n",
            " [   0    0    0    5    0    1    0    0    0    0    1 5963]]\n",
            "              precision    recall  f1-score   support\n",
            "\n",
            "         0.0       1.00      1.00      1.00      5985\n",
            "         1.0       0.99      0.99      0.99      6000\n",
            "         2.0       0.96      0.97      0.97      6059\n",
            "         3.0       1.00      1.00      1.00      6085\n",
            "         4.0       1.00      1.00      1.00      5817\n",
            "         5.0       1.00      1.00      1.00      6074\n",
            "         6.0       1.00      1.00      1.00      5984\n",
            "         7.0       1.00      1.00      1.00      5992\n",
            "         8.0       1.00      1.00      1.00      6008\n",
            "         9.0       0.96      0.96      0.96      5974\n",
            "        10.0       1.00      1.00      1.00      6052\n",
            "        11.0       1.00      1.00      1.00      5970\n",
            "\n",
            "    accuracy                           0.99     72000\n",
            "   macro avg       0.99      0.99      0.99     72000\n",
            "weighted avg       0.99      0.99      0.99     72000\n",
            "\n"
          ],
          "name": "stdout"
        }
      ]
    },
    {
      "cell_type": "code",
      "metadata": {
        "id": "RRk4unJNouU9"
      },
      "source": [
        "#Import Random Forest Model\n",
        "from sklearn.ensemble import RandomForestClassifier\n",
        "\n",
        "#Create a Gaussian Classifier\n",
        "clf=RandomForestClassifier(n_estimators=100)\n",
        "\n",
        "#Train the model using the training sets y_pred=clf.predict(X_test)\n",
        "clf.fit(X_train,y_train)\n",
        "\n",
        "y_pred=clf.predict(X_test)"
      ],
      "execution_count": null,
      "outputs": []
    },
    {
      "cell_type": "code",
      "metadata": {
        "colab": {
          "base_uri": "https://localhost:8080/"
        },
        "id": "iC6oKgkHoxxv",
        "outputId": "26b3c2b5-13ad-4d58-b52f-a1bdcf69c55a"
      },
      "source": [
        "#Import scikit-learn metrics module for accuracy calculation\n",
        "from sklearn import metrics\n",
        "# Model Accuracy, how often is the classifier correct?\n",
        "print(\"Accuracy:\",metrics.accuracy_score(y_test, y_pred))"
      ],
      "execution_count": null,
      "outputs": [
        {
          "output_type": "stream",
          "text": [
            "Accuracy: 0.9947222222222222\n"
          ],
          "name": "stdout"
        }
      ]
    },
    {
      "cell_type": "code",
      "metadata": {
        "id": "V00TzG6Zp5B8"
      },
      "source": [
        "from sklearn.neighbors import KNeighborsClassifier\n",
        "\n",
        "#Create KNN Classifier\n",
        "knn = KNeighborsClassifier(n_neighbors=10)\n",
        "\n",
        "#Train the model using the training sets\n",
        "knn.fit(X_train, y_train)\n",
        "\n",
        "#Predict the response for test dataset\n",
        "y_pred = knn.predict(X_test)"
      ],
      "execution_count": null,
      "outputs": []
    },
    {
      "cell_type": "code",
      "metadata": {
        "colab": {
          "base_uri": "https://localhost:8080/"
        },
        "id": "7Ses4nk9p6mu",
        "outputId": "4e1399d0-037d-401d-ae25-e9e7f0c4042b"
      },
      "source": [
        "#Import scikit-learn metrics module for accuracy calculation\n",
        "from sklearn import metrics\n",
        "# Model Accuracy, how often is the classifier correct?\n",
        "print(\"Accuracy:\",metrics.accuracy_score(y_test, y_pred))"
      ],
      "execution_count": null,
      "outputs": [
        {
          "output_type": "stream",
          "text": [
            "Accuracy: 0.8938472222222222\n"
          ],
          "name": "stdout"
        }
      ]
    },
    {
      "cell_type": "code",
      "metadata": {
        "id": "OTDGZdkJp9R8"
      },
      "source": [
        "#Import Gaussian Naive Bayes model\n",
        "from sklearn.naive_bayes import GaussianNB\n",
        "\n",
        "#Create a Gaussian Classifier\n",
        "gnb = GaussianNB()\n",
        "\n",
        "#Train the model using the training sets\n",
        "gnb.fit(X_train, y_train)\n",
        "\n",
        "#Predict the response for test dataset\n",
        "y_pred = gnb.predict(X_test)"
      ],
      "execution_count": null,
      "outputs": []
    },
    {
      "cell_type": "code",
      "metadata": {
        "colab": {
          "base_uri": "https://localhost:8080/"
        },
        "id": "pZQpxzCYp_tf",
        "outputId": "7b4c6093-0384-4abb-a3af-ce44b1888338"
      },
      "source": [
        "#Import scikit-learn metrics module for accuracy calculation\n",
        "from sklearn import metrics\n",
        "\n",
        "# Model Accuracy, how often is the classifier correct?\n",
        "print(\"Accuracy:\",metrics.accuracy_score(y_test, y_pred))"
      ],
      "execution_count": null,
      "outputs": [
        {
          "output_type": "stream",
          "text": [
            "Accuracy: 0.22980555555555557\n"
          ],
          "name": "stdout"
        }
      ]
    }
  ]
}