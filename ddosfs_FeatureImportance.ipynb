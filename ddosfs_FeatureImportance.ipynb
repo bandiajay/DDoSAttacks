{
  "nbformat": 4,
  "nbformat_minor": 0,
  "metadata": {
    "colab": {
      "name": "ddosfs-FeatureImportance.ipynb",
      "provenance": [],
      "collapsed_sections": []
    },
    "kernelspec": {
      "name": "python3",
      "display_name": "Python 3"
    },
    "language_info": {
      "name": "python"
    }
  },
  "cells": [
    {
      "cell_type": "code",
      "metadata": {
        "id": "-TUX33dz2g9p"
      },
      "source": [
        "# Load libraries\n",
        "import pandas as pd\n",
        "import numpy as np\n",
        "from sklearn.tree import DecisionTreeClassifier # Import Decision Tree Classifier\n",
        "from sklearn.model_selection import train_test_split # Import train_test_split function\n",
        "from sklearn import metrics #Import scikit-learn metrics module for accuracy calculation"
      ],
      "execution_count": null,
      "outputs": []
    },
    {
      "cell_type": "code",
      "metadata": {
        "colab": {
          "base_uri": "https://localhost:8080/"
        },
        "id": "tHQcqdKk6oXz",
        "outputId": "4707bd63-0bf8-41a7-e903-4d3aae7bf67a"
      },
      "source": [
        "df= pd.read_csv(\"/content/Train.csv\")"
      ],
      "execution_count": null,
      "outputs": [
        {
          "output_type": "stream",
          "text": [
            "/usr/local/lib/python3.7/dist-packages/IPython/core/interactiveshell.py:2718: DtypeWarning: Columns (85) have mixed types.Specify dtype option on import or set low_memory=False.\n",
            "  interactivity=interactivity, compiler=compiler, result=result)\n"
          ],
          "name": "stderr"
        }
      ]
    },
    {
      "cell_type": "code",
      "metadata": {
        "colab": {
          "base_uri": "https://localhost:8080/",
          "height": 494
        },
        "id": "wFE9lpq46qFP",
        "outputId": "b489a313-f860-4d2a-e68f-aac6e28ed892"
      },
      "source": [
        "df.head()"
      ],
      "execution_count": null,
      "outputs": [
        {
          "output_type": "execute_result",
          "data": {
            "text/html": [
              "<div>\n",
              "<style scoped>\n",
              "    .dataframe tbody tr th:only-of-type {\n",
              "        vertical-align: middle;\n",
              "    }\n",
              "\n",
              "    .dataframe tbody tr th {\n",
              "        vertical-align: top;\n",
              "    }\n",
              "\n",
              "    .dataframe thead th {\n",
              "        text-align: right;\n",
              "    }\n",
              "</style>\n",
              "<table border=\"1\" class=\"dataframe\">\n",
              "  <thead>\n",
              "    <tr style=\"text-align: right;\">\n",
              "      <th></th>\n",
              "      <th>Unnamed..0</th>\n",
              "      <th>Flow.ID</th>\n",
              "      <th>Source.IP</th>\n",
              "      <th>Source.Port</th>\n",
              "      <th>Destination.IP</th>\n",
              "      <th>Destination.Port</th>\n",
              "      <th>Protocol</th>\n",
              "      <th>Timestamp</th>\n",
              "      <th>Flow.Duration</th>\n",
              "      <th>Total.Fwd.Packets</th>\n",
              "      <th>Total.Backward.Packets</th>\n",
              "      <th>Total.Length.of.Fwd.Packets</th>\n",
              "      <th>Total.Length.of.Bwd.Packets</th>\n",
              "      <th>Fwd.Packet.Length.Max</th>\n",
              "      <th>Fwd.Packet.Length.Min</th>\n",
              "      <th>Fwd.Packet.Length.Mean</th>\n",
              "      <th>Fwd.Packet.Length.Std</th>\n",
              "      <th>Bwd.Packet.Length.Max</th>\n",
              "      <th>Bwd.Packet.Length.Min</th>\n",
              "      <th>Bwd.Packet.Length.Mean</th>\n",
              "      <th>Bwd.Packet.Length.Std</th>\n",
              "      <th>Flow.Bytes.s</th>\n",
              "      <th>Flow.Packets.s</th>\n",
              "      <th>Flow.IAT.Mean</th>\n",
              "      <th>Flow.IAT.Std</th>\n",
              "      <th>Flow.IAT.Max</th>\n",
              "      <th>Flow.IAT.Min</th>\n",
              "      <th>Fwd.IAT.Total</th>\n",
              "      <th>Fwd.IAT.Mean</th>\n",
              "      <th>Fwd.IAT.Std</th>\n",
              "      <th>Fwd.IAT.Max</th>\n",
              "      <th>Fwd.IAT.Min</th>\n",
              "      <th>Bwd.IAT.Total</th>\n",
              "      <th>Bwd.IAT.Mean</th>\n",
              "      <th>Bwd.IAT.Std</th>\n",
              "      <th>Bwd.IAT.Max</th>\n",
              "      <th>Bwd.IAT.Min</th>\n",
              "      <th>Fwd.PSH.Flags</th>\n",
              "      <th>Bwd.PSH.Flags</th>\n",
              "      <th>Fwd.URG.Flags</th>\n",
              "      <th>...</th>\n",
              "      <th>Packet.Length.Std</th>\n",
              "      <th>Packet.Length.Variance</th>\n",
              "      <th>FIN.Flag.Count</th>\n",
              "      <th>SYN.Flag.Count</th>\n",
              "      <th>RST.Flag.Count</th>\n",
              "      <th>PSH.Flag.Count</th>\n",
              "      <th>ACK.Flag.Count</th>\n",
              "      <th>URG.Flag.Count</th>\n",
              "      <th>CWE.Flag.Count</th>\n",
              "      <th>ECE.Flag.Count</th>\n",
              "      <th>Down.Up.Ratio</th>\n",
              "      <th>Average.Packet.Size</th>\n",
              "      <th>Avg.Fwd.Segment.Size</th>\n",
              "      <th>Avg.Bwd.Segment.Size</th>\n",
              "      <th>Fwd.Header.Length.1</th>\n",
              "      <th>Fwd.Avg.Bytes.Bulk</th>\n",
              "      <th>Fwd.Avg.Packets.Bulk</th>\n",
              "      <th>Fwd.Avg.Bulk.Rate</th>\n",
              "      <th>Bwd.Avg.Bytes.Bulk</th>\n",
              "      <th>Bwd.Avg.Packets.Bulk</th>\n",
              "      <th>Bwd.Avg.Bulk.Rate</th>\n",
              "      <th>Subflow.Fwd.Packets</th>\n",
              "      <th>Subflow.Fwd.Bytes</th>\n",
              "      <th>Subflow.Bwd.Packets</th>\n",
              "      <th>Subflow.Bwd.Bytes</th>\n",
              "      <th>Init_Win_bytes_forward</th>\n",
              "      <th>Init_Win_bytes_backward</th>\n",
              "      <th>act_data_pkt_fwd</th>\n",
              "      <th>min_seg_size_forward</th>\n",
              "      <th>Active.Mean</th>\n",
              "      <th>Active.Std</th>\n",
              "      <th>Active.Max</th>\n",
              "      <th>Active.Min</th>\n",
              "      <th>Idle.Mean</th>\n",
              "      <th>Idle.Std</th>\n",
              "      <th>Idle.Max</th>\n",
              "      <th>Idle.Min</th>\n",
              "      <th>SimillarHTTP</th>\n",
              "      <th>Inbound</th>\n",
              "      <th>Label</th>\n",
              "    </tr>\n",
              "  </thead>\n",
              "  <tbody>\n",
              "    <tr>\n",
              "      <th>0</th>\n",
              "      <td>1110</td>\n",
              "      <td>172.16.0.5-192.168.50.1-872-45984-17</td>\n",
              "      <td>172.16.0.5</td>\n",
              "      <td>872</td>\n",
              "      <td>192.168.50.1</td>\n",
              "      <td>45984</td>\n",
              "      <td>17</td>\n",
              "      <td>29:44.0</td>\n",
              "      <td>2</td>\n",
              "      <td>2</td>\n",
              "      <td>0</td>\n",
              "      <td>2944</td>\n",
              "      <td>0</td>\n",
              "      <td>1472</td>\n",
              "      <td>1472</td>\n",
              "      <td>1472.0</td>\n",
              "      <td>0.0</td>\n",
              "      <td>0</td>\n",
              "      <td>0</td>\n",
              "      <td>0.0</td>\n",
              "      <td>0.0</td>\n",
              "      <td>1.470000e+09</td>\n",
              "      <td>1.000000e+06</td>\n",
              "      <td>2.0</td>\n",
              "      <td>0.0</td>\n",
              "      <td>2.0</td>\n",
              "      <td>2</td>\n",
              "      <td>2</td>\n",
              "      <td>2.0</td>\n",
              "      <td>0.0</td>\n",
              "      <td>2</td>\n",
              "      <td>2</td>\n",
              "      <td>0</td>\n",
              "      <td>0.0</td>\n",
              "      <td>0.0</td>\n",
              "      <td>0.0</td>\n",
              "      <td>0</td>\n",
              "      <td>0</td>\n",
              "      <td>0</td>\n",
              "      <td>0</td>\n",
              "      <td>...</td>\n",
              "      <td>0.0</td>\n",
              "      <td>0.0</td>\n",
              "      <td>0</td>\n",
              "      <td>0</td>\n",
              "      <td>0</td>\n",
              "      <td>0</td>\n",
              "      <td>0</td>\n",
              "      <td>0</td>\n",
              "      <td>0</td>\n",
              "      <td>0</td>\n",
              "      <td>0</td>\n",
              "      <td>2208.0</td>\n",
              "      <td>1472.0</td>\n",
              "      <td>0.0</td>\n",
              "      <td>0.0</td>\n",
              "      <td>0</td>\n",
              "      <td>0</td>\n",
              "      <td>0</td>\n",
              "      <td>0</td>\n",
              "      <td>0</td>\n",
              "      <td>0</td>\n",
              "      <td>2</td>\n",
              "      <td>2944</td>\n",
              "      <td>0</td>\n",
              "      <td>0</td>\n",
              "      <td>-1</td>\n",
              "      <td>-1</td>\n",
              "      <td>1</td>\n",
              "      <td>0</td>\n",
              "      <td>0.0</td>\n",
              "      <td>0.0</td>\n",
              "      <td>0</td>\n",
              "      <td>0</td>\n",
              "      <td>0.0</td>\n",
              "      <td>0.0</td>\n",
              "      <td>0.0</td>\n",
              "      <td>0.0</td>\n",
              "      <td>0</td>\n",
              "      <td>1</td>\n",
              "      <td>DrDoS_LDAP</td>\n",
              "    </tr>\n",
              "    <tr>\n",
              "      <th>1</th>\n",
              "      <td>25998</td>\n",
              "      <td>172.16.0.5-192.168.50.1-867-39632-17</td>\n",
              "      <td>172.16.0.5</td>\n",
              "      <td>867</td>\n",
              "      <td>192.168.50.1</td>\n",
              "      <td>39632</td>\n",
              "      <td>17</td>\n",
              "      <td>31:01.1</td>\n",
              "      <td>43</td>\n",
              "      <td>2</td>\n",
              "      <td>0</td>\n",
              "      <td>2944</td>\n",
              "      <td>0</td>\n",
              "      <td>1472</td>\n",
              "      <td>1472</td>\n",
              "      <td>1472.0</td>\n",
              "      <td>0.0</td>\n",
              "      <td>0</td>\n",
              "      <td>0</td>\n",
              "      <td>0.0</td>\n",
              "      <td>0.0</td>\n",
              "      <td>6.846512e+07</td>\n",
              "      <td>4.651163e+04</td>\n",
              "      <td>43.0</td>\n",
              "      <td>0.0</td>\n",
              "      <td>43.0</td>\n",
              "      <td>43</td>\n",
              "      <td>43</td>\n",
              "      <td>43.0</td>\n",
              "      <td>0.0</td>\n",
              "      <td>43</td>\n",
              "      <td>43</td>\n",
              "      <td>0</td>\n",
              "      <td>0.0</td>\n",
              "      <td>0.0</td>\n",
              "      <td>0.0</td>\n",
              "      <td>0</td>\n",
              "      <td>0</td>\n",
              "      <td>0</td>\n",
              "      <td>0</td>\n",
              "      <td>...</td>\n",
              "      <td>0.0</td>\n",
              "      <td>0.0</td>\n",
              "      <td>0</td>\n",
              "      <td>0</td>\n",
              "      <td>0</td>\n",
              "      <td>0</td>\n",
              "      <td>0</td>\n",
              "      <td>0</td>\n",
              "      <td>0</td>\n",
              "      <td>0</td>\n",
              "      <td>0</td>\n",
              "      <td>2208.0</td>\n",
              "      <td>1472.0</td>\n",
              "      <td>0.0</td>\n",
              "      <td>0.0</td>\n",
              "      <td>0</td>\n",
              "      <td>0</td>\n",
              "      <td>0</td>\n",
              "      <td>0</td>\n",
              "      <td>0</td>\n",
              "      <td>0</td>\n",
              "      <td>2</td>\n",
              "      <td>2944</td>\n",
              "      <td>0</td>\n",
              "      <td>0</td>\n",
              "      <td>-1</td>\n",
              "      <td>-1</td>\n",
              "      <td>1</td>\n",
              "      <td>0</td>\n",
              "      <td>0.0</td>\n",
              "      <td>0.0</td>\n",
              "      <td>0</td>\n",
              "      <td>0</td>\n",
              "      <td>0.0</td>\n",
              "      <td>0.0</td>\n",
              "      <td>0.0</td>\n",
              "      <td>0.0</td>\n",
              "      <td>0</td>\n",
              "      <td>1</td>\n",
              "      <td>DrDoS_LDAP</td>\n",
              "    </tr>\n",
              "    <tr>\n",
              "      <th>2</th>\n",
              "      <td>10751</td>\n",
              "      <td>172.16.0.5-192.168.50.1-818-826-17</td>\n",
              "      <td>172.16.0.5</td>\n",
              "      <td>818</td>\n",
              "      <td>192.168.50.1</td>\n",
              "      <td>826</td>\n",
              "      <td>17</td>\n",
              "      <td>24:38.4</td>\n",
              "      <td>1</td>\n",
              "      <td>2</td>\n",
              "      <td>0</td>\n",
              "      <td>2944</td>\n",
              "      <td>0</td>\n",
              "      <td>1472</td>\n",
              "      <td>1472</td>\n",
              "      <td>1472.0</td>\n",
              "      <td>0.0</td>\n",
              "      <td>0</td>\n",
              "      <td>0</td>\n",
              "      <td>0.0</td>\n",
              "      <td>0.0</td>\n",
              "      <td>2.940000e+09</td>\n",
              "      <td>2.000000e+06</td>\n",
              "      <td>1.0</td>\n",
              "      <td>0.0</td>\n",
              "      <td>1.0</td>\n",
              "      <td>1</td>\n",
              "      <td>1</td>\n",
              "      <td>1.0</td>\n",
              "      <td>0.0</td>\n",
              "      <td>1</td>\n",
              "      <td>1</td>\n",
              "      <td>0</td>\n",
              "      <td>0.0</td>\n",
              "      <td>0.0</td>\n",
              "      <td>0.0</td>\n",
              "      <td>0</td>\n",
              "      <td>0</td>\n",
              "      <td>0</td>\n",
              "      <td>0</td>\n",
              "      <td>...</td>\n",
              "      <td>0.0</td>\n",
              "      <td>0.0</td>\n",
              "      <td>0</td>\n",
              "      <td>0</td>\n",
              "      <td>0</td>\n",
              "      <td>0</td>\n",
              "      <td>0</td>\n",
              "      <td>0</td>\n",
              "      <td>0</td>\n",
              "      <td>0</td>\n",
              "      <td>0</td>\n",
              "      <td>2208.0</td>\n",
              "      <td>1472.0</td>\n",
              "      <td>0.0</td>\n",
              "      <td>40.0</td>\n",
              "      <td>0</td>\n",
              "      <td>0</td>\n",
              "      <td>0</td>\n",
              "      <td>0</td>\n",
              "      <td>0</td>\n",
              "      <td>0</td>\n",
              "      <td>2</td>\n",
              "      <td>2944</td>\n",
              "      <td>0</td>\n",
              "      <td>0</td>\n",
              "      <td>-1</td>\n",
              "      <td>-1</td>\n",
              "      <td>1</td>\n",
              "      <td>20</td>\n",
              "      <td>0.0</td>\n",
              "      <td>0.0</td>\n",
              "      <td>0</td>\n",
              "      <td>0</td>\n",
              "      <td>0.0</td>\n",
              "      <td>0.0</td>\n",
              "      <td>0.0</td>\n",
              "      <td>0.0</td>\n",
              "      <td>0</td>\n",
              "      <td>1</td>\n",
              "      <td>DrDoS_LDAP</td>\n",
              "    </tr>\n",
              "    <tr>\n",
              "      <th>3</th>\n",
              "      <td>15983</td>\n",
              "      <td>172.16.0.5-192.168.50.1-894-32984-17</td>\n",
              "      <td>172.16.0.5</td>\n",
              "      <td>894</td>\n",
              "      <td>192.168.50.1</td>\n",
              "      <td>32984</td>\n",
              "      <td>17</td>\n",
              "      <td>27:01.5</td>\n",
              "      <td>1</td>\n",
              "      <td>2</td>\n",
              "      <td>0</td>\n",
              "      <td>2944</td>\n",
              "      <td>0</td>\n",
              "      <td>1472</td>\n",
              "      <td>1472</td>\n",
              "      <td>1472.0</td>\n",
              "      <td>0.0</td>\n",
              "      <td>0</td>\n",
              "      <td>0</td>\n",
              "      <td>0.0</td>\n",
              "      <td>0.0</td>\n",
              "      <td>2.940000e+09</td>\n",
              "      <td>2.000000e+06</td>\n",
              "      <td>1.0</td>\n",
              "      <td>0.0</td>\n",
              "      <td>1.0</td>\n",
              "      <td>1</td>\n",
              "      <td>1</td>\n",
              "      <td>1.0</td>\n",
              "      <td>0.0</td>\n",
              "      <td>1</td>\n",
              "      <td>1</td>\n",
              "      <td>0</td>\n",
              "      <td>0.0</td>\n",
              "      <td>0.0</td>\n",
              "      <td>0.0</td>\n",
              "      <td>0</td>\n",
              "      <td>0</td>\n",
              "      <td>0</td>\n",
              "      <td>0</td>\n",
              "      <td>...</td>\n",
              "      <td>0.0</td>\n",
              "      <td>0.0</td>\n",
              "      <td>0</td>\n",
              "      <td>0</td>\n",
              "      <td>0</td>\n",
              "      <td>0</td>\n",
              "      <td>0</td>\n",
              "      <td>0</td>\n",
              "      <td>0</td>\n",
              "      <td>0</td>\n",
              "      <td>0</td>\n",
              "      <td>2208.0</td>\n",
              "      <td>1472.0</td>\n",
              "      <td>0.0</td>\n",
              "      <td>-2.0</td>\n",
              "      <td>0</td>\n",
              "      <td>0</td>\n",
              "      <td>0</td>\n",
              "      <td>0</td>\n",
              "      <td>0</td>\n",
              "      <td>0</td>\n",
              "      <td>2</td>\n",
              "      <td>2944</td>\n",
              "      <td>0</td>\n",
              "      <td>0</td>\n",
              "      <td>-1</td>\n",
              "      <td>-1</td>\n",
              "      <td>1</td>\n",
              "      <td>-1</td>\n",
              "      <td>0.0</td>\n",
              "      <td>0.0</td>\n",
              "      <td>0</td>\n",
              "      <td>0</td>\n",
              "      <td>0.0</td>\n",
              "      <td>0.0</td>\n",
              "      <td>0.0</td>\n",
              "      <td>0.0</td>\n",
              "      <td>0</td>\n",
              "      <td>1</td>\n",
              "      <td>DrDoS_LDAP</td>\n",
              "    </tr>\n",
              "    <tr>\n",
              "      <th>4</th>\n",
              "      <td>29733</td>\n",
              "      <td>172.16.0.5-192.168.50.1-877-12571-17</td>\n",
              "      <td>172.16.0.5</td>\n",
              "      <td>877</td>\n",
              "      <td>192.168.50.1</td>\n",
              "      <td>12571</td>\n",
              "      <td>17</td>\n",
              "      <td>26:58.1</td>\n",
              "      <td>3</td>\n",
              "      <td>2</td>\n",
              "      <td>0</td>\n",
              "      <td>2944</td>\n",
              "      <td>0</td>\n",
              "      <td>1472</td>\n",
              "      <td>1472</td>\n",
              "      <td>1472.0</td>\n",
              "      <td>0.0</td>\n",
              "      <td>0</td>\n",
              "      <td>0</td>\n",
              "      <td>0.0</td>\n",
              "      <td>0.0</td>\n",
              "      <td>9.813333e+08</td>\n",
              "      <td>6.666667e+05</td>\n",
              "      <td>3.0</td>\n",
              "      <td>0.0</td>\n",
              "      <td>3.0</td>\n",
              "      <td>3</td>\n",
              "      <td>3</td>\n",
              "      <td>3.0</td>\n",
              "      <td>0.0</td>\n",
              "      <td>3</td>\n",
              "      <td>3</td>\n",
              "      <td>0</td>\n",
              "      <td>0.0</td>\n",
              "      <td>0.0</td>\n",
              "      <td>0.0</td>\n",
              "      <td>0</td>\n",
              "      <td>0</td>\n",
              "      <td>0</td>\n",
              "      <td>0</td>\n",
              "      <td>...</td>\n",
              "      <td>0.0</td>\n",
              "      <td>0.0</td>\n",
              "      <td>0</td>\n",
              "      <td>0</td>\n",
              "      <td>0</td>\n",
              "      <td>0</td>\n",
              "      <td>0</td>\n",
              "      <td>0</td>\n",
              "      <td>0</td>\n",
              "      <td>0</td>\n",
              "      <td>0</td>\n",
              "      <td>2208.0</td>\n",
              "      <td>1472.0</td>\n",
              "      <td>0.0</td>\n",
              "      <td>0.0</td>\n",
              "      <td>0</td>\n",
              "      <td>0</td>\n",
              "      <td>0</td>\n",
              "      <td>0</td>\n",
              "      <td>0</td>\n",
              "      <td>0</td>\n",
              "      <td>2</td>\n",
              "      <td>2944</td>\n",
              "      <td>0</td>\n",
              "      <td>0</td>\n",
              "      <td>-1</td>\n",
              "      <td>-1</td>\n",
              "      <td>1</td>\n",
              "      <td>0</td>\n",
              "      <td>0.0</td>\n",
              "      <td>0.0</td>\n",
              "      <td>0</td>\n",
              "      <td>0</td>\n",
              "      <td>0.0</td>\n",
              "      <td>0.0</td>\n",
              "      <td>0.0</td>\n",
              "      <td>0.0</td>\n",
              "      <td>0</td>\n",
              "      <td>1</td>\n",
              "      <td>DrDoS_LDAP</td>\n",
              "    </tr>\n",
              "  </tbody>\n",
              "</table>\n",
              "<p>5 rows × 88 columns</p>\n",
              "</div>"
            ],
            "text/plain": [
              "   Unnamed..0                               Flow.ID  ... Inbound       Label\n",
              "0        1110  172.16.0.5-192.168.50.1-872-45984-17  ...       1  DrDoS_LDAP\n",
              "1       25998  172.16.0.5-192.168.50.1-867-39632-17  ...       1  DrDoS_LDAP\n",
              "2       10751    172.16.0.5-192.168.50.1-818-826-17  ...       1  DrDoS_LDAP\n",
              "3       15983  172.16.0.5-192.168.50.1-894-32984-17  ...       1  DrDoS_LDAP\n",
              "4       29733  172.16.0.5-192.168.50.1-877-12571-17  ...       1  DrDoS_LDAP\n",
              "\n",
              "[5 rows x 88 columns]"
            ]
          },
          "metadata": {
            "tags": []
          },
          "execution_count": 3
        }
      ]
    },
    {
      "cell_type": "code",
      "metadata": {
        "colab": {
          "base_uri": "https://localhost:8080/"
        },
        "id": "5XtkDRT66sfs",
        "outputId": "49b046ad-111a-4340-adbb-ba565ed32c75"
      },
      "source": [
        "df.Label.unique()"
      ],
      "execution_count": null,
      "outputs": [
        {
          "output_type": "execute_result",
          "data": {
            "text/plain": [
              "array(['DrDoS_LDAP', 'DrDoS_DNS', 'DrDoS_MSSQL', 'DrDoS_UDP',\n",
              "       'DrDoS_NetBIOS', 'Syn', 'UDP-lag', 'DrDoS_SSDP', 'DrDoS_SNMP',\n",
              "       'DrDoS_NTP', 'TFTP', 'BENIGN'], dtype=object)"
            ]
          },
          "metadata": {
            "tags": []
          },
          "execution_count": 4
        }
      ]
    },
    {
      "cell_type": "code",
      "metadata": {
        "id": "JmwXZr2L6vpZ"
      },
      "source": [
        "df1 = df.replace(to_replace =\"DrDoS_LDAP\", \n",
        "                 value =1.0) \n",
        "df2 = df1.replace(to_replace =\"DrDoS_DNS\", \n",
        "                 value =2.0)\n",
        "df3 = df2.replace(to_replace =\"DrDoS_MSSQL\", \n",
        "                 value =3.0)\n",
        "df4 = df3.replace(to_replace =\"DrDoS_UDP\", \n",
        "                 value =4.0)\n",
        "df5 = df4.replace(to_replace =\"DrDoS_NetBIOS\", \n",
        "                 value =5.0)\n",
        "df6 = df5.replace(to_replace =\"Syn\", \n",
        "                 value =6.0)\n",
        "df7 = df6.replace(to_replace =\"UDP-lag\", \n",
        "                 value =7.0)\n",
        "df8 = df7.replace(to_replace =\"DrDoS_SSDP\", \n",
        "                 value =8.0)\n",
        "df9 = df8.replace(to_replace =\"DrDoS_SNMP\", \n",
        "                 value =9.0)\n",
        "df10 = df9.replace(to_replace =\"DrDoS_NTP\", \n",
        "                 value =10.0)\n",
        "df11 = df10.replace(to_replace =\"TFTP\", \n",
        "                 value =11.0)\n",
        "df12 = df11.replace(to_replace =\"BENIGN\", \n",
        "                 value =0.0)"
      ],
      "execution_count": null,
      "outputs": []
    },
    {
      "cell_type": "code",
      "metadata": {
        "colab": {
          "base_uri": "https://localhost:8080/"
        },
        "id": "2p0cImrV6yiF",
        "outputId": "73d68952-c989-4029-cd8a-f576426e6856"
      },
      "source": [
        "df12.Label.unique()"
      ],
      "execution_count": null,
      "outputs": [
        {
          "output_type": "execute_result",
          "data": {
            "text/plain": [
              "array([ 1.,  2.,  3.,  4.,  5.,  6.,  7.,  8.,  9., 10., 11.,  0.])"
            ]
          },
          "metadata": {
            "tags": []
          },
          "execution_count": 6
        }
      ]
    },
    {
      "cell_type": "code",
      "metadata": {
        "id": "MvV5oscP6zEf"
      },
      "source": [
        "df12[\"Flow.ID\"] = df12[\"Flow.ID\"].str.replace(r'\\D', '')\n",
        "df12[\"Source.IP\"] = df12[\"Source.IP\"].str.replace(r'\\D', '')\n",
        "df12[\"Destination.IP\"] = df12[\"Destination.IP\"].str.replace(r'\\D', '')\n",
        "df12[\"Timestamp\"] = df12[\"Timestamp\"].str.replace(r'\\D', '')\n",
        "df13 = df12.drop(columns=['SimillarHTTP'])\n",
        "df14 =  df13.replace([np.inf, -np.inf], np.nan)\n",
        "df15 = df14.fillna(0)"
      ],
      "execution_count": null,
      "outputs": []
    },
    {
      "cell_type": "code",
      "metadata": {
        "colab": {
          "base_uri": "https://localhost:8080/"
        },
        "id": "vLtIARkQ609t",
        "outputId": "f5976c6e-7356-4daa-9f40-fbc4c4a38c7a"
      },
      "source": [
        "df15.dtypes"
      ],
      "execution_count": null,
      "outputs": [
        {
          "output_type": "execute_result",
          "data": {
            "text/plain": [
              "Unnamed..0          int64\n",
              "Flow.ID            object\n",
              "Source.IP          object\n",
              "Source.Port         int64\n",
              "Destination.IP     object\n",
              "                   ...   \n",
              "Idle.Std          float64\n",
              "Idle.Max          float64\n",
              "Idle.Min          float64\n",
              "Inbound             int64\n",
              "Label             float64\n",
              "Length: 87, dtype: object"
            ]
          },
          "metadata": {
            "tags": []
          },
          "execution_count": 8
        }
      ]
    },
    {
      "cell_type": "code",
      "metadata": {
        "colab": {
          "base_uri": "https://localhost:8080/"
        },
        "id": "Q-IfrkMs62Ty",
        "outputId": "dbb230a0-25a8-4b3c-f942-468a42ab1e16"
      },
      "source": [
        "df15.isnull().values.any()"
      ],
      "execution_count": null,
      "outputs": [
        {
          "output_type": "execute_result",
          "data": {
            "text/plain": [
              "False"
            ]
          },
          "metadata": {
            "tags": []
          },
          "execution_count": 9
        }
      ]
    },
    {
      "cell_type": "code",
      "metadata": {
        "id": "jR1s2AYC64Ap"
      },
      "source": [
        "a = df15.drop('Label', axis=1)\n",
        "b = df15['Label']"
      ],
      "execution_count": null,
      "outputs": []
    },
    {
      "cell_type": "code",
      "metadata": {
        "colab": {
          "base_uri": "https://localhost:8080/"
        },
        "id": "JeUmCoTA6-85",
        "outputId": "2cd78dbf-2f12-40bc-8c57-2f8eeb262209"
      },
      "source": [
        "from sklearn.ensemble import ExtraTreesClassifier\n",
        "import matplotlib.pyplot as plt\n",
        "model = ExtraTreesClassifier()\n",
        "model.fit(a,b)"
      ],
      "execution_count": null,
      "outputs": [
        {
          "output_type": "execute_result",
          "data": {
            "text/plain": [
              "ExtraTreesClassifier(bootstrap=False, ccp_alpha=0.0, class_weight=None,\n",
              "                     criterion='gini', max_depth=None, max_features='auto',\n",
              "                     max_leaf_nodes=None, max_samples=None,\n",
              "                     min_impurity_decrease=0.0, min_impurity_split=None,\n",
              "                     min_samples_leaf=1, min_samples_split=2,\n",
              "                     min_weight_fraction_leaf=0.0, n_estimators=100,\n",
              "                     n_jobs=None, oob_score=False, random_state=None, verbose=0,\n",
              "                     warm_start=False)"
            ]
          },
          "metadata": {
            "tags": []
          },
          "execution_count": 12
        }
      ]
    },
    {
      "cell_type": "code",
      "metadata": {
        "colab": {
          "base_uri": "https://localhost:8080/"
        },
        "id": "3rLHJwv67BW_",
        "outputId": "b913b6ea-767a-40eb-ad83-ad18304522b1"
      },
      "source": [
        "print(model.feature_importances_) #use inbuilt class feature_importances of tree based classifiers"
      ],
      "execution_count": null,
      "outputs": [
        {
          "output_type": "stream",
          "text": [
            "[5.52368605e-02 1.36505949e-02 6.56625318e-03 6.19700126e-02\n",
            " 8.02261693e-04 1.60438146e-02 1.65370427e-02 2.56911905e-01\n",
            " 7.25291838e-03 3.59865450e-03 1.73082762e-04 1.15150896e-02\n",
            " 1.96610887e-05 2.67795324e-02 4.31015814e-02 3.99240995e-02\n",
            " 4.69930188e-03 1.01367370e-03 6.37377648e-04 6.36484667e-04\n",
            " 1.90497108e-04 2.91376905e-02 1.92508095e-02 7.11052960e-03\n",
            " 5.21212741e-03 5.75643410e-03 2.72509090e-03 9.07839461e-03\n",
            " 5.73108632e-03 4.33615952e-03 6.87112552e-03 2.75214084e-03\n",
            " 4.65980540e-04 1.59544334e-04 1.06382625e-04 2.36426084e-04\n",
            " 1.04678325e-04 9.90986131e-04 0.00000000e+00 0.00000000e+00\n",
            " 0.00000000e+00 5.67239329e-03 1.99052505e-04 1.62560140e-02\n",
            " 6.44574680e-04 4.45878742e-02 2.87161632e-02 4.33990279e-02\n",
            " 2.98377595e-03 1.60427943e-03 0.00000000e+00 2.14790652e-05\n",
            " 1.50962208e-03 0.00000000e+00 2.97460633e-02 1.26373273e-02\n",
            " 2.75986276e-03 0.00000000e+00 1.76073364e-03 3.26557684e-02\n",
            " 3.74995565e-02 5.47246710e-04 5.93739926e-03 0.00000000e+00\n",
            " 0.00000000e+00 0.00000000e+00 0.00000000e+00 0.00000000e+00\n",
            " 0.00000000e+00 3.76786648e-03 1.17238029e-02 2.30308049e-04\n",
            " 1.34963223e-04 1.17832305e-03 4.96107970e-04 4.00513489e-03\n",
            " 5.98607487e-03 6.97863029e-05 8.28728935e-06 1.05151919e-04\n",
            " 6.17436754e-05 9.20902737e-04 1.63920637e-04 5.27583158e-04\n",
            " 5.45778056e-04 3.36497641e-02]\n"
          ],
          "name": "stdout"
        }
      ]
    },
    {
      "cell_type": "code",
      "metadata": {
        "colab": {
          "base_uri": "https://localhost:8080/",
          "height": 265
        },
        "id": "3R8HGD-P7HWw",
        "outputId": "52f6a01c-55ba-4f46-c477-2b308433a354"
      },
      "source": [
        "#plot graph of feature importances for better visualization\n",
        "feat_importances = pd.Series(model.feature_importances_, index=a.columns)\n",
        "feat_importances.nlargest(10).plot(kind='barh')\n",
        "plt.show()"
      ],
      "execution_count": null,
      "outputs": [
        {
          "output_type": "display_data",
          "data": {
            "image/png": "[encoded data removed]",
            "text/plain": [
              "<Figure size 432x288 with 1 Axes>"
            ]
          },
          "metadata": {
            "tags": [],
            "needs_background": "light"
          }
        }
      ]
    },
    {
      "cell_type": "code",
      "metadata": {
        "colab": {
          "base_uri": "https://localhost:8080/"
        },
        "id": "Wh_GlYZh8K9w",
        "outputId": "76458f7a-d26c-465e-981d-3b099c21a1cc"
      },
      "source": [
        "feat_importances.nlargest(10)"
      ],
      "execution_count": null,
      "outputs": [
        {
          "output_type": "execute_result",
          "data": {
            "text/plain": [
              "Timestamp                 0.256912\n",
              "Source.Port               0.061970\n",
              "Unnamed..0                0.055237\n",
              "Min.Packet.Length         0.044588\n",
              "Packet.Length.Mean        0.043399\n",
              "Fwd.Packet.Length.Min     0.043102\n",
              "Fwd.Packet.Length.Mean    0.039924\n",
              "Avg.Fwd.Segment.Size      0.037500\n",
              "Inbound                   0.033650\n",
              "Average.Packet.Size       0.032656\n",
              "dtype: float64"
            ]
          },
          "metadata": {
            "tags": []
          },
          "execution_count": 17
        }
      ]
    }
  ]
}