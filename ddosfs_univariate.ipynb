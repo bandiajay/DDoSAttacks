{
  "nbformat": 4,
  "nbformat_minor": 0,
  "metadata": {
    "colab": {
      "name": "ddosfs-univariate.ipynb",
      "provenance": [],
      "collapsed_sections": []
    },
    "kernelspec": {
      "name": "python3",
      "display_name": "Python 3"
    },
    "language_info": {
      "name": "python"
    }
  },
  "cells": [
    {
      "cell_type": "code",
      "metadata": {
        "id": "u-hZN36fmyho"
      },
      "source": [
        "# Load libraries\n",
        "import pandas as pd\n",
        "import numpy as np\n",
        "from sklearn.tree import DecisionTreeClassifier # Import Decision Tree Classifier\n",
        "from sklearn.model_selection import train_test_split # Import train_test_split function\n",
        "from sklearn import metrics #Import scikit-learn metrics module for accuracy calculation"
      ],
      "execution_count": null,
      "outputs": []
    },
    {
      "cell_type": "code",
      "metadata": {
        "colab": {
          "base_uri": "https://localhost:8080/"
        },
        "id": "02pBKNxLm211",
        "outputId": "bf4c2e9d-49b2-4094-f0ad-b963eade04d8"
      },
      "source": [
        "df= pd.read_csv(\"/content/Train.csv\")"
      ],
      "execution_count": null,
      "outputs": [
        {
          "output_type": "stream",
          "text": [
            "/usr/local/lib/python3.7/dist-packages/IPython/core/interactiveshell.py:2718: DtypeWarning: Columns (85) have mixed types.Specify dtype option on import or set low_memory=False.\n",
            "  interactivity=interactivity, compiler=compiler, result=result)\n"
          ],
          "name": "stderr"
        }
      ]
    },
    {
      "cell_type": "code",
      "metadata": {
        "colab": {
          "base_uri": "https://localhost:8080/",
          "height": 494
        },
        "id": "IqqT61Fpm3Qk",
        "outputId": "0fccf5bb-59ad-4b14-ccfe-5ce09182adb6"
      },
      "source": [
        "df.head()"
      ],
      "execution_count": null,
      "outputs": [
        {
          "output_type": "execute_result",
          "data": {
            "text/html": [
              "<div>\n",
              "<style scoped>\n",
              "    .dataframe tbody tr th:only-of-type {\n",
              "        vertical-align: middle;\n",
              "    }\n",
              "\n",
              "    .dataframe tbody tr th {\n",
              "        vertical-align: top;\n",
              "    }\n",
              "\n",
              "    .dataframe thead th {\n",
              "        text-align: right;\n",
              "    }\n",
              "</style>\n",
              "<table border=\"1\" class=\"dataframe\">\n",
              "  <thead>\n",
              "    <tr style=\"text-align: right;\">\n",
              "      <th></th>\n",
              "      <th>Unnamed..0</th>\n",
              "      <th>Flow.ID</th>\n",
              "      <th>Source.IP</th>\n",
              "      <th>Source.Port</th>\n",
              "      <th>Destination.IP</th>\n",
              "      <th>Destination.Port</th>\n",
              "      <th>Protocol</th>\n",
              "      <th>Timestamp</th>\n",
              "      <th>Flow.Duration</th>\n",
              "      <th>Total.Fwd.Packets</th>\n",
              "      <th>Total.Backward.Packets</th>\n",
              "      <th>Total.Length.of.Fwd.Packets</th>\n",
              "      <th>Total.Length.of.Bwd.Packets</th>\n",
              "      <th>Fwd.Packet.Length.Max</th>\n",
              "      <th>Fwd.Packet.Length.Min</th>\n",
              "      <th>Fwd.Packet.Length.Mean</th>\n",
              "      <th>Fwd.Packet.Length.Std</th>\n",
              "      <th>Bwd.Packet.Length.Max</th>\n",
              "      <th>Bwd.Packet.Length.Min</th>\n",
              "      <th>Bwd.Packet.Length.Mean</th>\n",
              "      <th>Bwd.Packet.Length.Std</th>\n",
              "      <th>Flow.Bytes.s</th>\n",
              "      <th>Flow.Packets.s</th>\n",
              "      <th>Flow.IAT.Mean</th>\n",
              "      <th>Flow.IAT.Std</th>\n",
              "      <th>Flow.IAT.Max</th>\n",
              "      <th>Flow.IAT.Min</th>\n",
              "      <th>Fwd.IAT.Total</th>\n",
              "      <th>Fwd.IAT.Mean</th>\n",
              "      <th>Fwd.IAT.Std</th>\n",
              "      <th>Fwd.IAT.Max</th>\n",
              "      <th>Fwd.IAT.Min</th>\n",
              "      <th>Bwd.IAT.Total</th>\n",
              "      <th>Bwd.IAT.Mean</th>\n",
              "      <th>Bwd.IAT.Std</th>\n",
              "      <th>Bwd.IAT.Max</th>\n",
              "      <th>Bwd.IAT.Min</th>\n",
              "      <th>Fwd.PSH.Flags</th>\n",
              "      <th>Bwd.PSH.Flags</th>\n",
              "      <th>Fwd.URG.Flags</th>\n",
              "      <th>...</th>\n",
              "      <th>Packet.Length.Std</th>\n",
              "      <th>Packet.Length.Variance</th>\n",
              "      <th>FIN.Flag.Count</th>\n",
              "      <th>SYN.Flag.Count</th>\n",
              "      <th>RST.Flag.Count</th>\n",
              "      <th>PSH.Flag.Count</th>\n",
              "      <th>ACK.Flag.Count</th>\n",
              "      <th>URG.Flag.Count</th>\n",
              "      <th>CWE.Flag.Count</th>\n",
              "      <th>ECE.Flag.Count</th>\n",
              "      <th>Down.Up.Ratio</th>\n",
              "      <th>Average.Packet.Size</th>\n",
              "      <th>Avg.Fwd.Segment.Size</th>\n",
              "      <th>Avg.Bwd.Segment.Size</th>\n",
              "      <th>Fwd.Header.Length.1</th>\n",
              "      <th>Fwd.Avg.Bytes.Bulk</th>\n",
              "      <th>Fwd.Avg.Packets.Bulk</th>\n",
              "      <th>Fwd.Avg.Bulk.Rate</th>\n",
              "      <th>Bwd.Avg.Bytes.Bulk</th>\n",
              "      <th>Bwd.Avg.Packets.Bulk</th>\n",
              "      <th>Bwd.Avg.Bulk.Rate</th>\n",
              "      <th>Subflow.Fwd.Packets</th>\n",
              "      <th>Subflow.Fwd.Bytes</th>\n",
              "      <th>Subflow.Bwd.Packets</th>\n",
              "      <th>Subflow.Bwd.Bytes</th>\n",
              "      <th>Init_Win_bytes_forward</th>\n",
              "      <th>Init_Win_bytes_backward</th>\n",
              "      <th>act_data_pkt_fwd</th>\n",
              "      <th>min_seg_size_forward</th>\n",
              "      <th>Active.Mean</th>\n",
              "      <th>Active.Std</th>\n",
              "      <th>Active.Max</th>\n",
              "      <th>Active.Min</th>\n",
              "      <th>Idle.Mean</th>\n",
              "      <th>Idle.Std</th>\n",
              "      <th>Idle.Max</th>\n",
              "      <th>Idle.Min</th>\n",
              "      <th>SimillarHTTP</th>\n",
              "      <th>Inbound</th>\n",
              "      <th>Label</th>\n",
              "    </tr>\n",
              "  </thead>\n",
              "  <tbody>\n",
              "    <tr>\n",
              "      <th>0</th>\n",
              "      <td>1110</td>\n",
              "      <td>172.16.0.5-192.168.50.1-872-45984-17</td>\n",
              "      <td>172.16.0.5</td>\n",
              "      <td>872</td>\n",
              "      <td>192.168.50.1</td>\n",
              "      <td>45984</td>\n",
              "      <td>17</td>\n",
              "      <td>29:44.0</td>\n",
              "      <td>2</td>\n",
              "      <td>2</td>\n",
              "      <td>0</td>\n",
              "      <td>2944</td>\n",
              "      <td>0</td>\n",
              "      <td>1472</td>\n",
              "      <td>1472</td>\n",
              "      <td>1472.0</td>\n",
              "      <td>0.0</td>\n",
              "      <td>0</td>\n",
              "      <td>0</td>\n",
              "      <td>0.0</td>\n",
              "      <td>0.0</td>\n",
              "      <td>1.470000e+09</td>\n",
              "      <td>1.000000e+06</td>\n",
              "      <td>2.0</td>\n",
              "      <td>0.0</td>\n",
              "      <td>2.0</td>\n",
              "      <td>2</td>\n",
              "      <td>2</td>\n",
              "      <td>2.0</td>\n",
              "      <td>0.0</td>\n",
              "      <td>2</td>\n",
              "      <td>2</td>\n",
              "      <td>0</td>\n",
              "      <td>0.0</td>\n",
              "      <td>0.0</td>\n",
              "      <td>0.0</td>\n",
              "      <td>0</td>\n",
              "      <td>0</td>\n",
              "      <td>0</td>\n",
              "      <td>0</td>\n",
              "      <td>...</td>\n",
              "      <td>0.0</td>\n",
              "      <td>0.0</td>\n",
              "      <td>0</td>\n",
              "      <td>0</td>\n",
              "      <td>0</td>\n",
              "      <td>0</td>\n",
              "      <td>0</td>\n",
              "      <td>0</td>\n",
              "      <td>0</td>\n",
              "      <td>0</td>\n",
              "      <td>0</td>\n",
              "      <td>2208.0</td>\n",
              "      <td>1472.0</td>\n",
              "      <td>0.0</td>\n",
              "      <td>0.0</td>\n",
              "      <td>0</td>\n",
              "      <td>0</td>\n",
              "      <td>0</td>\n",
              "      <td>0</td>\n",
              "      <td>0</td>\n",
              "      <td>0</td>\n",
              "      <td>2</td>\n",
              "      <td>2944</td>\n",
              "      <td>0</td>\n",
              "      <td>0</td>\n",
              "      <td>-1</td>\n",
              "      <td>-1</td>\n",
              "      <td>1</td>\n",
              "      <td>0</td>\n",
              "      <td>0.0</td>\n",
              "      <td>0.0</td>\n",
              "      <td>0</td>\n",
              "      <td>0</td>\n",
              "      <td>0.0</td>\n",
              "      <td>0.0</td>\n",
              "      <td>0.0</td>\n",
              "      <td>0.0</td>\n",
              "      <td>0</td>\n",
              "      <td>1</td>\n",
              "      <td>DrDoS_LDAP</td>\n",
              "    </tr>\n",
              "    <tr>\n",
              "      <th>1</th>\n",
              "      <td>25998</td>\n",
              "      <td>172.16.0.5-192.168.50.1-867-39632-17</td>\n",
              "      <td>172.16.0.5</td>\n",
              "      <td>867</td>\n",
              "      <td>192.168.50.1</td>\n",
              "      <td>39632</td>\n",
              "      <td>17</td>\n",
              "      <td>31:01.1</td>\n",
              "      <td>43</td>\n",
              "      <td>2</td>\n",
              "      <td>0</td>\n",
              "      <td>2944</td>\n",
              "      <td>0</td>\n",
              "      <td>1472</td>\n",
              "      <td>1472</td>\n",
              "      <td>1472.0</td>\n",
              "      <td>0.0</td>\n",
              "      <td>0</td>\n",
              "      <td>0</td>\n",
              "      <td>0.0</td>\n",
              "      <td>0.0</td>\n",
              "      <td>6.846512e+07</td>\n",
              "      <td>4.651163e+04</td>\n",
              "      <td>43.0</td>\n",
              "      <td>0.0</td>\n",
              "      <td>43.0</td>\n",
              "      <td>43</td>\n",
              "      <td>43</td>\n",
              "      <td>43.0</td>\n",
              "      <td>0.0</td>\n",
              "      <td>43</td>\n",
              "      <td>43</td>\n",
              "      <td>0</td>\n",
              "      <td>0.0</td>\n",
              "      <td>0.0</td>\n",
              "      <td>0.0</td>\n",
              "      <td>0</td>\n",
              "      <td>0</td>\n",
              "      <td>0</td>\n",
              "      <td>0</td>\n",
              "      <td>...</td>\n",
              "      <td>0.0</td>\n",
              "      <td>0.0</td>\n",
              "      <td>0</td>\n",
              "      <td>0</td>\n",
              "      <td>0</td>\n",
              "      <td>0</td>\n",
              "      <td>0</td>\n",
              "      <td>0</td>\n",
              "      <td>0</td>\n",
              "      <td>0</td>\n",
              "      <td>0</td>\n",
              "      <td>2208.0</td>\n",
              "      <td>1472.0</td>\n",
              "      <td>0.0</td>\n",
              "      <td>0.0</td>\n",
              "      <td>0</td>\n",
              "      <td>0</td>\n",
              "      <td>0</td>\n",
              "      <td>0</td>\n",
              "      <td>0</td>\n",
              "      <td>0</td>\n",
              "      <td>2</td>\n",
              "      <td>2944</td>\n",
              "      <td>0</td>\n",
              "      <td>0</td>\n",
              "      <td>-1</td>\n",
              "      <td>-1</td>\n",
              "      <td>1</td>\n",
              "      <td>0</td>\n",
              "      <td>0.0</td>\n",
              "      <td>0.0</td>\n",
              "      <td>0</td>\n",
              "      <td>0</td>\n",
              "      <td>0.0</td>\n",
              "      <td>0.0</td>\n",
              "      <td>0.0</td>\n",
              "      <td>0.0</td>\n",
              "      <td>0</td>\n",
              "      <td>1</td>\n",
              "      <td>DrDoS_LDAP</td>\n",
              "    </tr>\n",
              "    <tr>\n",
              "      <th>2</th>\n",
              "      <td>10751</td>\n",
              "      <td>172.16.0.5-192.168.50.1-818-826-17</td>\n",
              "      <td>172.16.0.5</td>\n",
              "      <td>818</td>\n",
              "      <td>192.168.50.1</td>\n",
              "      <td>826</td>\n",
              "      <td>17</td>\n",
              "      <td>24:38.4</td>\n",
              "      <td>1</td>\n",
              "      <td>2</td>\n",
              "      <td>0</td>\n",
              "      <td>2944</td>\n",
              "      <td>0</td>\n",
              "      <td>1472</td>\n",
              "      <td>1472</td>\n",
              "      <td>1472.0</td>\n",
              "      <td>0.0</td>\n",
              "      <td>0</td>\n",
              "      <td>0</td>\n",
              "      <td>0.0</td>\n",
              "      <td>0.0</td>\n",
              "      <td>2.940000e+09</td>\n",
              "      <td>2.000000e+06</td>\n",
              "      <td>1.0</td>\n",
              "      <td>0.0</td>\n",
              "      <td>1.0</td>\n",
              "      <td>1</td>\n",
              "      <td>1</td>\n",
              "      <td>1.0</td>\n",
              "      <td>0.0</td>\n",
              "      <td>1</td>\n",
              "      <td>1</td>\n",
              "      <td>0</td>\n",
              "      <td>0.0</td>\n",
              "      <td>0.0</td>\n",
              "      <td>0.0</td>\n",
              "      <td>0</td>\n",
              "      <td>0</td>\n",
              "      <td>0</td>\n",
              "      <td>0</td>\n",
              "      <td>...</td>\n",
              "      <td>0.0</td>\n",
              "      <td>0.0</td>\n",
              "      <td>0</td>\n",
              "      <td>0</td>\n",
              "      <td>0</td>\n",
              "      <td>0</td>\n",
              "      <td>0</td>\n",
              "      <td>0</td>\n",
              "      <td>0</td>\n",
              "      <td>0</td>\n",
              "      <td>0</td>\n",
              "      <td>2208.0</td>\n",
              "      <td>1472.0</td>\n",
              "      <td>0.0</td>\n",
              "      <td>40.0</td>\n",
              "      <td>0</td>\n",
              "      <td>0</td>\n",
              "      <td>0</td>\n",
              "      <td>0</td>\n",
              "      <td>0</td>\n",
              "      <td>0</td>\n",
              "      <td>2</td>\n",
              "      <td>2944</td>\n",
              "      <td>0</td>\n",
              "      <td>0</td>\n",
              "      <td>-1</td>\n",
              "      <td>-1</td>\n",
              "      <td>1</td>\n",
              "      <td>20</td>\n",
              "      <td>0.0</td>\n",
              "      <td>0.0</td>\n",
              "      <td>0</td>\n",
              "      <td>0</td>\n",
              "      <td>0.0</td>\n",
              "      <td>0.0</td>\n",
              "      <td>0.0</td>\n",
              "      <td>0.0</td>\n",
              "      <td>0</td>\n",
              "      <td>1</td>\n",
              "      <td>DrDoS_LDAP</td>\n",
              "    </tr>\n",
              "    <tr>\n",
              "      <th>3</th>\n",
              "      <td>15983</td>\n",
              "      <td>172.16.0.5-192.168.50.1-894-32984-17</td>\n",
              "      <td>172.16.0.5</td>\n",
              "      <td>894</td>\n",
              "      <td>192.168.50.1</td>\n",
              "      <td>32984</td>\n",
              "      <td>17</td>\n",
              "      <td>27:01.5</td>\n",
              "      <td>1</td>\n",
              "      <td>2</td>\n",
              "      <td>0</td>\n",
              "      <td>2944</td>\n",
              "      <td>0</td>\n",
              "      <td>1472</td>\n",
              "      <td>1472</td>\n",
              "      <td>1472.0</td>\n",
              "      <td>0.0</td>\n",
              "      <td>0</td>\n",
              "      <td>0</td>\n",
              "      <td>0.0</td>\n",
              "      <td>0.0</td>\n",
              "      <td>2.940000e+09</td>\n",
              "      <td>2.000000e+06</td>\n",
              "      <td>1.0</td>\n",
              "      <td>0.0</td>\n",
              "      <td>1.0</td>\n",
              "      <td>1</td>\n",
              "      <td>1</td>\n",
              "      <td>1.0</td>\n",
              "      <td>0.0</td>\n",
              "      <td>1</td>\n",
              "      <td>1</td>\n",
              "      <td>0</td>\n",
              "      <td>0.0</td>\n",
              "      <td>0.0</td>\n",
              "      <td>0.0</td>\n",
              "      <td>0</td>\n",
              "      <td>0</td>\n",
              "      <td>0</td>\n",
              "      <td>0</td>\n",
              "      <td>...</td>\n",
              "      <td>0.0</td>\n",
              "      <td>0.0</td>\n",
              "      <td>0</td>\n",
              "      <td>0</td>\n",
              "      <td>0</td>\n",
              "      <td>0</td>\n",
              "      <td>0</td>\n",
              "      <td>0</td>\n",
              "      <td>0</td>\n",
              "      <td>0</td>\n",
              "      <td>0</td>\n",
              "      <td>2208.0</td>\n",
              "      <td>1472.0</td>\n",
              "      <td>0.0</td>\n",
              "      <td>-2.0</td>\n",
              "      <td>0</td>\n",
              "      <td>0</td>\n",
              "      <td>0</td>\n",
              "      <td>0</td>\n",
              "      <td>0</td>\n",
              "      <td>0</td>\n",
              "      <td>2</td>\n",
              "      <td>2944</td>\n",
              "      <td>0</td>\n",
              "      <td>0</td>\n",
              "      <td>-1</td>\n",
              "      <td>-1</td>\n",
              "      <td>1</td>\n",
              "      <td>-1</td>\n",
              "      <td>0.0</td>\n",
              "      <td>0.0</td>\n",
              "      <td>0</td>\n",
              "      <td>0</td>\n",
              "      <td>0.0</td>\n",
              "      <td>0.0</td>\n",
              "      <td>0.0</td>\n",
              "      <td>0.0</td>\n",
              "      <td>0</td>\n",
              "      <td>1</td>\n",
              "      <td>DrDoS_LDAP</td>\n",
              "    </tr>\n",
              "    <tr>\n",
              "      <th>4</th>\n",
              "      <td>29733</td>\n",
              "      <td>172.16.0.5-192.168.50.1-877-12571-17</td>\n",
              "      <td>172.16.0.5</td>\n",
              "      <td>877</td>\n",
              "      <td>192.168.50.1</td>\n",
              "      <td>12571</td>\n",
              "      <td>17</td>\n",
              "      <td>26:58.1</td>\n",
              "      <td>3</td>\n",
              "      <td>2</td>\n",
              "      <td>0</td>\n",
              "      <td>2944</td>\n",
              "      <td>0</td>\n",
              "      <td>1472</td>\n",
              "      <td>1472</td>\n",
              "      <td>1472.0</td>\n",
              "      <td>0.0</td>\n",
              "      <td>0</td>\n",
              "      <td>0</td>\n",
              "      <td>0.0</td>\n",
              "      <td>0.0</td>\n",
              "      <td>9.813333e+08</td>\n",
              "      <td>6.666667e+05</td>\n",
              "      <td>3.0</td>\n",
              "      <td>0.0</td>\n",
              "      <td>3.0</td>\n",
              "      <td>3</td>\n",
              "      <td>3</td>\n",
              "      <td>3.0</td>\n",
              "      <td>0.0</td>\n",
              "      <td>3</td>\n",
              "      <td>3</td>\n",
              "      <td>0</td>\n",
              "      <td>0.0</td>\n",
              "      <td>0.0</td>\n",
              "      <td>0.0</td>\n",
              "      <td>0</td>\n",
              "      <td>0</td>\n",
              "      <td>0</td>\n",
              "      <td>0</td>\n",
              "      <td>...</td>\n",
              "      <td>0.0</td>\n",
              "      <td>0.0</td>\n",
              "      <td>0</td>\n",
              "      <td>0</td>\n",
              "      <td>0</td>\n",
              "      <td>0</td>\n",
              "      <td>0</td>\n",
              "      <td>0</td>\n",
              "      <td>0</td>\n",
              "      <td>0</td>\n",
              "      <td>0</td>\n",
              "      <td>2208.0</td>\n",
              "      <td>1472.0</td>\n",
              "      <td>0.0</td>\n",
              "      <td>0.0</td>\n",
              "      <td>0</td>\n",
              "      <td>0</td>\n",
              "      <td>0</td>\n",
              "      <td>0</td>\n",
              "      <td>0</td>\n",
              "      <td>0</td>\n",
              "      <td>2</td>\n",
              "      <td>2944</td>\n",
              "      <td>0</td>\n",
              "      <td>0</td>\n",
              "      <td>-1</td>\n",
              "      <td>-1</td>\n",
              "      <td>1</td>\n",
              "      <td>0</td>\n",
              "      <td>0.0</td>\n",
              "      <td>0.0</td>\n",
              "      <td>0</td>\n",
              "      <td>0</td>\n",
              "      <td>0.0</td>\n",
              "      <td>0.0</td>\n",
              "      <td>0.0</td>\n",
              "      <td>0.0</td>\n",
              "      <td>0</td>\n",
              "      <td>1</td>\n",
              "      <td>DrDoS_LDAP</td>\n",
              "    </tr>\n",
              "  </tbody>\n",
              "</table>\n",
              "<p>5 rows × 88 columns</p>\n",
              "</div>"
            ],
            "text/plain": [
              "   Unnamed..0                               Flow.ID  ... Inbound       Label\n",
              "0        1110  172.16.0.5-192.168.50.1-872-45984-17  ...       1  DrDoS_LDAP\n",
              "1       25998  172.16.0.5-192.168.50.1-867-39632-17  ...       1  DrDoS_LDAP\n",
              "2       10751    172.16.0.5-192.168.50.1-818-826-17  ...       1  DrDoS_LDAP\n",
              "3       15983  172.16.0.5-192.168.50.1-894-32984-17  ...       1  DrDoS_LDAP\n",
              "4       29733  172.16.0.5-192.168.50.1-877-12571-17  ...       1  DrDoS_LDAP\n",
              "\n",
              "[5 rows x 88 columns]"
            ]
          },
          "metadata": {
            "tags": []
          },
          "execution_count": 199
        }
      ]
    },
    {
      "cell_type": "code",
      "metadata": {
        "colab": {
          "base_uri": "https://localhost:8080/"
        },
        "id": "JtnabgYfm5PB",
        "outputId": "e0bc8b5b-693a-4c79-a79d-119fd21a399f"
      },
      "source": [
        "df.Label.unique()"
      ],
      "execution_count": null,
      "outputs": [
        {
          "output_type": "execute_result",
          "data": {
            "text/plain": [
              "array(['DrDoS_LDAP', 'DrDoS_DNS', 'DrDoS_MSSQL', 'DrDoS_UDP',\n",
              "       'DrDoS_NetBIOS', 'Syn', 'UDP-lag', 'DrDoS_SSDP', 'DrDoS_SNMP',\n",
              "       'DrDoS_NTP', 'TFTP', 'BENIGN'], dtype=object)"
            ]
          },
          "metadata": {
            "tags": []
          },
          "execution_count": 200
        }
      ]
    },
    {
      "cell_type": "code",
      "metadata": {
        "id": "pD31AOBYnExt"
      },
      "source": [
        "df1 = df.replace(to_replace =\"DrDoS_LDAP\", \n",
        "                 value =1.0) \n",
        "df2 = df1.replace(to_replace =\"DrDoS_DNS\", \n",
        "                 value =2.0)\n",
        "df3 = df2.replace(to_replace =\"DrDoS_MSSQL\", \n",
        "                 value =3.0)\n",
        "df4 = df3.replace(to_replace =\"DrDoS_UDP\", \n",
        "                 value =4.0)\n",
        "df5 = df4.replace(to_replace =\"DrDoS_NetBIOS\", \n",
        "                 value =5.0)\n",
        "df6 = df5.replace(to_replace =\"Syn\", \n",
        "                 value =6.0)\n",
        "df7 = df6.replace(to_replace =\"UDP-lag\", \n",
        "                 value =7.0)\n",
        "df8 = df7.replace(to_replace =\"DrDoS_SSDP\", \n",
        "                 value =8.0)\n",
        "df9 = df8.replace(to_replace =\"DrDoS_SNMP\", \n",
        "                 value =9.0)\n",
        "df10 = df9.replace(to_replace =\"DrDoS_NTP\", \n",
        "                 value =10.0)\n",
        "df11 = df10.replace(to_replace =\"TFTP\", \n",
        "                 value =11.0)\n",
        "df12 = df11.replace(to_replace =\"BENIGN\", \n",
        "                 value =0.0)"
      ],
      "execution_count": null,
      "outputs": []
    },
    {
      "cell_type": "code",
      "metadata": {
        "colab": {
          "base_uri": "https://localhost:8080/"
        },
        "id": "DvDEpQHjnFOf",
        "outputId": "27c39fe2-61bd-49d7-fe05-696b11eeaeb7"
      },
      "source": [
        "df12.Label.unique()"
      ],
      "execution_count": null,
      "outputs": [
        {
          "output_type": "execute_result",
          "data": {
            "text/plain": [
              "array([ 1.,  2.,  3.,  4.,  5.,  6.,  7.,  8.,  9., 10., 11.,  0.])"
            ]
          },
          "metadata": {
            "tags": []
          },
          "execution_count": 202
        }
      ]
    },
    {
      "cell_type": "code",
      "metadata": {
        "id": "U3_dDhLHnHE0"
      },
      "source": [
        "df12[\"Flow.ID\"] = df12[\"Flow.ID\"].str.replace(r'\\D', '')\n",
        "df12[\"Source.IP\"] = df12[\"Source.IP\"].str.replace(r'\\D', '')\n",
        "df12[\"Destination.IP\"] = df12[\"Destination.IP\"].str.replace(r'\\D', '')\n",
        "df12[\"Timestamp\"] = df12[\"Timestamp\"].str.replace(r'\\D', '')\n",
        "df13 = df12.drop(columns=['SimillarHTTP'])\n",
        "df14 =  df13.replace([np.inf, -np.inf], np.nan)\n",
        "df15 = df14.fillna(0)\n"
      ],
      "execution_count": null,
      "outputs": []
    },
    {
      "cell_type": "code",
      "metadata": {
        "colab": {
          "base_uri": "https://localhost:8080/"
        },
        "id": "waJXa4yhnIxI",
        "outputId": "e81b687f-4fa5-420e-8c4b-dd545c4694c4"
      },
      "source": [
        "df15.dtypes"
      ],
      "execution_count": null,
      "outputs": [
        {
          "output_type": "execute_result",
          "data": {
            "text/plain": [
              "Unnamed..0          int64\n",
              "Flow.ID            object\n",
              "Source.IP          object\n",
              "Source.Port         int64\n",
              "Destination.IP     object\n",
              "                   ...   \n",
              "Idle.Std          float64\n",
              "Idle.Max          float64\n",
              "Idle.Min          float64\n",
              "Inbound             int64\n",
              "Label             float64\n",
              "Length: 87, dtype: object"
            ]
          },
          "metadata": {
            "tags": []
          },
          "execution_count": 204
        }
      ]
    },
    {
      "cell_type": "code",
      "metadata": {
        "colab": {
          "base_uri": "https://localhost:8080/"
        },
        "id": "P_QfyKLWnKMJ",
        "outputId": "e00639d8-f9d8-4ed1-9191-bb57e70e887b"
      },
      "source": [
        "df15.isnull().values.any()"
      ],
      "execution_count": null,
      "outputs": [
        {
          "output_type": "execute_result",
          "data": {
            "text/plain": [
              "False"
            ]
          },
          "metadata": {
            "tags": []
          },
          "execution_count": 205
        }
      ]
    },
    {
      "cell_type": "code",
      "metadata": {
        "id": "4T2ulL_jnLt5"
      },
      "source": [
        "a = df15.drop('Label', axis=1)\n",
        "b = df15['Label']"
      ],
      "execution_count": null,
      "outputs": []
    },
    {
      "cell_type": "code",
      "metadata": {
        "id": "Vq4N0-AxnQG3"
      },
      "source": [
        "from sklearn.feature_selection import SelectKBest\n",
        "from sklearn.feature_selection import f_classif\n"
      ],
      "execution_count": null,
      "outputs": []
    },
    {
      "cell_type": "code",
      "metadata": {
        "colab": {
          "base_uri": "https://localhost:8080/"
        },
        "id": "QXLxnFhanRR4",
        "outputId": "0138968a-2814-49ae-8003-cdc3a142457c"
      },
      "source": [
        "bestfeatures = SelectKBest(score_func=f_classif, k=10)\n",
        "fit = bestfeatures.fit(a,b)"
      ],
      "execution_count": null,
      "outputs": [
        {
          "output_type": "stream",
          "text": [
            "/usr/local/lib/python3.7/dist-packages/sklearn/feature_selection/_univariate_selection.py:114: UserWarning: Features [38 39 40 50 53 57 63 64 65 66 67 68] are constant.\n",
            "  UserWarning)\n",
            "/usr/local/lib/python3.7/dist-packages/sklearn/feature_selection/_univariate_selection.py:115: RuntimeWarning: invalid value encountered in true_divide\n",
            "  f = msb / msw\n"
          ],
          "name": "stderr"
        }
      ]
    },
    {
      "cell_type": "code",
      "metadata": {
        "id": "YpoAKjzrnXEy"
      },
      "source": [
        "dfscores = pd.DataFrame(fit.scores_)\n",
        "dfcolumns = pd.DataFrame(a.columns)"
      ],
      "execution_count": null,
      "outputs": []
    },
    {
      "cell_type": "code",
      "metadata": {
        "id": "bNtTHp34ngEp"
      },
      "source": [
        "#concat two dataframes for better visualization \n",
        "featureScores = pd.concat([dfcolumns,dfscores],axis=1)\n",
        "featureScores.columns = ['Specs','Score']  #naming the dataframe columns"
      ],
      "execution_count": null,
      "outputs": []
    },
    {
      "cell_type": "code",
      "metadata": {
        "colab": {
          "base_uri": "https://localhost:8080/",
          "height": 415
        },
        "id": "Y6OzAFotngjJ",
        "outputId": "0b583271-c386-4229-f88b-a3895cc838da"
      },
      "source": [
        "featureScores"
      ],
      "execution_count": null,
      "outputs": [
        {
          "output_type": "execute_result",
          "data": {
            "text/html": [
              "<div>\n",
              "<style scoped>\n",
              "    .dataframe tbody tr th:only-of-type {\n",
              "        vertical-align: middle;\n",
              "    }\n",
              "\n",
              "    .dataframe tbody tr th {\n",
              "        vertical-align: top;\n",
              "    }\n",
              "\n",
              "    .dataframe thead th {\n",
              "        text-align: right;\n",
              "    }\n",
              "</style>\n",
              "<table border=\"1\" class=\"dataframe\">\n",
              "  <thead>\n",
              "    <tr style=\"text-align: right;\">\n",
              "      <th></th>\n",
              "      <th>Specs</th>\n",
              "      <th>Score</th>\n",
              "    </tr>\n",
              "  </thead>\n",
              "  <tbody>\n",
              "    <tr>\n",
              "      <th>0</th>\n",
              "      <td>Unnamed..0</td>\n",
              "      <td>51955.707092</td>\n",
              "    </tr>\n",
              "    <tr>\n",
              "      <th>1</th>\n",
              "      <td>Flow.ID</td>\n",
              "      <td>52.720401</td>\n",
              "    </tr>\n",
              "    <tr>\n",
              "      <th>2</th>\n",
              "      <td>Source.IP</td>\n",
              "      <td>1717.360103</td>\n",
              "    </tr>\n",
              "    <tr>\n",
              "      <th>3</th>\n",
              "      <td>Source.Port</td>\n",
              "      <td>79216.760878</td>\n",
              "    </tr>\n",
              "    <tr>\n",
              "      <th>4</th>\n",
              "      <td>Destination.IP</td>\n",
              "      <td>3533.308104</td>\n",
              "    </tr>\n",
              "    <tr>\n",
              "      <th>...</th>\n",
              "      <td>...</td>\n",
              "      <td>...</td>\n",
              "    </tr>\n",
              "    <tr>\n",
              "      <th>81</th>\n",
              "      <td>Idle.Mean</td>\n",
              "      <td>2475.944810</td>\n",
              "    </tr>\n",
              "    <tr>\n",
              "      <th>82</th>\n",
              "      <td>Idle.Std</td>\n",
              "      <td>1223.552055</td>\n",
              "    </tr>\n",
              "    <tr>\n",
              "      <th>83</th>\n",
              "      <td>Idle.Max</td>\n",
              "      <td>2454.288515</td>\n",
              "    </tr>\n",
              "    <tr>\n",
              "      <th>84</th>\n",
              "      <td>Idle.Min</td>\n",
              "      <td>2337.354451</td>\n",
              "    </tr>\n",
              "    <tr>\n",
              "      <th>85</th>\n",
              "      <td>Inbound</td>\n",
              "      <td>130658.003285</td>\n",
              "    </tr>\n",
              "  </tbody>\n",
              "</table>\n",
              "<p>86 rows × 2 columns</p>\n",
              "</div>"
            ],
            "text/plain": [
              "             Specs          Score\n",
              "0       Unnamed..0   51955.707092\n",
              "1          Flow.ID      52.720401\n",
              "2        Source.IP    1717.360103\n",
              "3      Source.Port   79216.760878\n",
              "4   Destination.IP    3533.308104\n",
              "..             ...            ...\n",
              "81       Idle.Mean    2475.944810\n",
              "82        Idle.Std    1223.552055\n",
              "83        Idle.Max    2454.288515\n",
              "84        Idle.Min    2337.354451\n",
              "85         Inbound  130658.003285\n",
              "\n",
              "[86 rows x 2 columns]"
            ]
          },
          "metadata": {
            "tags": []
          },
          "execution_count": 211
        }
      ]
    },
    {
      "cell_type": "code",
      "metadata": {
        "colab": {
          "base_uri": "https://localhost:8080/"
        },
        "id": "-LTUM1P9o5AI",
        "outputId": "8a143c92-230e-405a-a01b-6ff6dbd2ecd6"
      },
      "source": [
        "print(featureScores.nlargest(15,'Score'))  #print 10 best features"
      ],
      "execution_count": null,
      "outputs": [
        {
          "output_type": "stream",
          "text": [
            "                     Specs          Score\n",
            "59     Average.Packet.Size  325735.207411\n",
            "45       Min.Packet.Length  318628.599899\n",
            "14   Fwd.Packet.Length.Min  316318.509561\n",
            "15  Fwd.Packet.Length.Mean  316218.336716\n",
            "60    Avg.Fwd.Segment.Size  316218.336716\n",
            "47      Packet.Length.Mean  298842.410780\n",
            "13   Fwd.Packet.Length.Max  186568.966365\n",
            "85                 Inbound  130658.003285\n",
            "54          ACK.Flag.Count  118559.688229\n",
            "6                 Protocol  109661.807224\n",
            "3              Source.Port   79216.760878\n",
            "21            Flow.Bytes.s   67861.143626\n",
            "46       Max.Packet.Length   58679.169921\n",
            "0               Unnamed..0   51955.707092\n",
            "7                Timestamp   38137.974438\n"
          ],
          "name": "stdout"
        }
      ]
    },
    {
      "cell_type": "code",
      "metadata": {
        "id": "Wp1UA7GWpONF"
      },
      "source": [
        "myl = featureScores.nlargest(20,'Score')['Specs']"
      ],
      "execution_count": null,
      "outputs": []
    },
    {
      "cell_type": "code",
      "metadata": {
        "id": "p8ebFROssD7l"
      },
      "source": [
        "X = df15[myl]\n",
        "y = df15['Label']"
      ],
      "execution_count": null,
      "outputs": []
    },
    {
      "cell_type": "code",
      "metadata": {
        "id": "-XMb3Z60ub2n"
      },
      "source": [
        "from sklearn.model_selection import train_test_split\n",
        "X_train, X_test, y_train, y_test = train_test_split(X, y, test_size=0.20)"
      ],
      "execution_count": null,
      "outputs": []
    },
    {
      "cell_type": "code",
      "metadata": {
        "colab": {
          "base_uri": "https://localhost:8080/"
        },
        "id": "naHfRDcLuk37",
        "outputId": "e4437786-c5cf-4e0c-cd5f-cf6e96a05608"
      },
      "source": [
        "from sklearn.tree import DecisionTreeClassifier\n",
        "classifier = DecisionTreeClassifier()\n",
        "classifier.fit(X_train, y_train)"
      ],
      "execution_count": null,
      "outputs": [
        {
          "output_type": "execute_result",
          "data": {
            "text/plain": [
              "DecisionTreeClassifier(ccp_alpha=0.0, class_weight=None, criterion='gini',\n",
              "                       max_depth=None, max_features=None, max_leaf_nodes=None,\n",
              "                       min_impurity_decrease=0.0, min_impurity_split=None,\n",
              "                       min_samples_leaf=1, min_samples_split=2,\n",
              "                       min_weight_fraction_leaf=0.0, presort='deprecated',\n",
              "                       random_state=None, splitter='best')"
            ]
          },
          "metadata": {
            "tags": []
          },
          "execution_count": 216
        }
      ]
    },
    {
      "cell_type": "code",
      "metadata": {
        "id": "Myw5_3cMunye"
      },
      "source": [
        "y_pred = classifier.predict(X_test)"
      ],
      "execution_count": null,
      "outputs": []
    },
    {
      "cell_type": "code",
      "metadata": {
        "colab": {
          "base_uri": "https://localhost:8080/"
        },
        "id": "NTHsXWZ0uqk8",
        "outputId": "ccc111fc-d665-4c57-9567-c6f244d5882d"
      },
      "source": [
        "from sklearn.metrics import classification_report, confusion_matrix\n",
        "print(confusion_matrix(y_test, y_pred))\n",
        "print(classification_report(y_test, y_pred))"
      ],
      "execution_count": null,
      "outputs": [
        {
          "output_type": "stream",
          "text": [
            "[[6009    0    0    0    1    0    0    0    0    0    0    1]\n",
            " [   0 5935    0    0    1    0    0    0   11   34    0    0]\n",
            " [   0    0 5767    0    0    0    0    4    0  201    1    0]\n",
            " [   0    0    0 5978    0    0    0    0    0    0    1    0]\n",
            " [   0    0    1    2 5950    1    0    0    0    0    0    0]\n",
            " [   0    0    0    1    1 5993    0    0    0    0    0    1]\n",
            " [   0    0    0    0    0    0 5979    0    1    0    0    0]\n",
            " [   0    0    1    0    1    0    0 6038    0    4    1    0]\n",
            " [   0   15    0    2    0    0    0    0 5962    0    0    0]\n",
            " [   1   39  164    0    1    0    0    4    1 5852    0    0]\n",
            " [   1    2    1    0    0    0    0    0    0    0 5953    0]\n",
            " [   2    0    0    5    0    0    0    0    0    0    1 6075]]\n",
            "              precision    recall  f1-score   support\n",
            "\n",
            "         0.0       1.00      1.00      1.00      6011\n",
            "         1.0       0.99      0.99      0.99      5981\n",
            "         2.0       0.97      0.97      0.97      5973\n",
            "         3.0       1.00      1.00      1.00      5979\n",
            "         4.0       1.00      1.00      1.00      5954\n",
            "         5.0       1.00      1.00      1.00      5996\n",
            "         6.0       1.00      1.00      1.00      5980\n",
            "         7.0       1.00      1.00      1.00      6045\n",
            "         8.0       1.00      1.00      1.00      5979\n",
            "         9.0       0.96      0.97      0.96      6062\n",
            "        10.0       1.00      1.00      1.00      5957\n",
            "        11.0       1.00      1.00      1.00      6083\n",
            "\n",
            "    accuracy                           0.99     72000\n",
            "   macro avg       0.99      0.99      0.99     72000\n",
            "weighted avg       0.99      0.99      0.99     72000\n",
            "\n"
          ],
          "name": "stdout"
        }
      ]
    }
  ]
}