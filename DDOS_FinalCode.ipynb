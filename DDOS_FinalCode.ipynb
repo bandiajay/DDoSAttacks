{
  "nbformat": 4,
  "nbformat_minor": 0,
  "metadata": {
    "colab": {
      "name": "ddos-withoutCorrelation.ipynb",
      "provenance": [],
      "collapsed_sections": []
    },
    "kernelspec": {
      "name": "python3",
      "display_name": "Python 3"
    },
    "language_info": {
      "name": "python"
    }
  },
  "cells": [
    {
      "cell_type": "code",
      "metadata": {
        "id": "u-hZN36fmyho"
      },
      "source": [
        "# Load libraries\n",
        "import pandas as pd\n",
        "import numpy as np\n",
        "from sklearn.tree import DecisionTreeClassifier # Import Decision Tree Classifier\n",
        "from sklearn.model_selection import train_test_split # Import train_test_split function\n",
        "from sklearn import metrics #Import scikit-learn metrics module for accuracy calculation\n",
        "import matplotlib.pyplot as plt"
      ],
      "execution_count": null,
      "outputs": []
    },
    {
      "cell_type": "code",
      "metadata": {
        "colab": {
          "base_uri": "https://localhost:8080/"
        },
        "id": "02pBKNxLm211",
        "outputId": "b78ecaae-7703-4261-fbb7-12252ebb9348"
      },
      "source": [
        "df= pd.read_csv(\"/content/Train.csv\")"
      ],
      "execution_count": null,
      "outputs": [
        {
          "output_type": "stream",
          "text": [
            "/usr/local/lib/python3.7/dist-packages/IPython/core/interactiveshell.py:2718: DtypeWarning: Columns (85) have mixed types.Specify dtype option on import or set low_memory=False.\n",
            "  interactivity=interactivity, compiler=compiler, result=result)\n"
          ],
          "name": "stderr"
        }
      ]
    },
    {
      "cell_type": "code",
      "metadata": {
        "colab": {
          "base_uri": "https://localhost:8080/",
          "height": 486
        },
        "id": "IqqT61Fpm3Qk",
        "outputId": "ad822ba4-5ad7-4f25-8fae-3e750f3203f7"
      },
      "source": [
        "df.head()"
      ],
      "execution_count": null,
      "outputs": [
        {
          "output_type": "execute_result",
          "data": {
            "text/html": [
              "<div>\n",
              "<style scoped>\n",
              "    .dataframe tbody tr th:only-of-type {\n",
              "        vertical-align: middle;\n",
              "    }\n",
              "\n",
              "    .dataframe tbody tr th {\n",
              "        vertical-align: top;\n",
              "    }\n",
              "\n",
              "    .dataframe thead th {\n",
              "        text-align: right;\n",
              "    }\n",
              "</style>\n",
              "<table border=\"1\" class=\"dataframe\">\n",
              "  <thead>\n",
              "    <tr style=\"text-align: right;\">\n",
              "      <th></th>\n",
              "      <th>Unnamed..0</th>\n",
              "      <th>Flow.ID</th>\n",
              "      <th>Source.IP</th>\n",
              "      <th>Source.Port</th>\n",
              "      <th>Destination.IP</th>\n",
              "      <th>Destination.Port</th>\n",
              "      <th>Protocol</th>\n",
              "      <th>Timestamp</th>\n",
              "      <th>Flow.Duration</th>\n",
              "      <th>Total.Fwd.Packets</th>\n",
              "      <th>Total.Backward.Packets</th>\n",
              "      <th>Total.Length.of.Fwd.Packets</th>\n",
              "      <th>Total.Length.of.Bwd.Packets</th>\n",
              "      <th>Fwd.Packet.Length.Max</th>\n",
              "      <th>Fwd.Packet.Length.Min</th>\n",
              "      <th>Fwd.Packet.Length.Mean</th>\n",
              "      <th>Fwd.Packet.Length.Std</th>\n",
              "      <th>Bwd.Packet.Length.Max</th>\n",
              "      <th>Bwd.Packet.Length.Min</th>\n",
              "      <th>Bwd.Packet.Length.Mean</th>\n",
              "      <th>Bwd.Packet.Length.Std</th>\n",
              "      <th>Flow.Bytes.s</th>\n",
              "      <th>Flow.Packets.s</th>\n",
              "      <th>Flow.IAT.Mean</th>\n",
              "      <th>Flow.IAT.Std</th>\n",
              "      <th>Flow.IAT.Max</th>\n",
              "      <th>Flow.IAT.Min</th>\n",
              "      <th>Fwd.IAT.Total</th>\n",
              "      <th>Fwd.IAT.Mean</th>\n",
              "      <th>Fwd.IAT.Std</th>\n",
              "      <th>Fwd.IAT.Max</th>\n",
              "      <th>Fwd.IAT.Min</th>\n",
              "      <th>Bwd.IAT.Total</th>\n",
              "      <th>Bwd.IAT.Mean</th>\n",
              "      <th>Bwd.IAT.Std</th>\n",
              "      <th>Bwd.IAT.Max</th>\n",
              "      <th>Bwd.IAT.Min</th>\n",
              "      <th>Fwd.PSH.Flags</th>\n",
              "      <th>Bwd.PSH.Flags</th>\n",
              "      <th>Fwd.URG.Flags</th>\n",
              "      <th>...</th>\n",
              "      <th>Packet.Length.Std</th>\n",
              "      <th>Packet.Length.Variance</th>\n",
              "      <th>FIN.Flag.Count</th>\n",
              "      <th>SYN.Flag.Count</th>\n",
              "      <th>RST.Flag.Count</th>\n",
              "      <th>PSH.Flag.Count</th>\n",
              "      <th>ACK.Flag.Count</th>\n",
              "      <th>URG.Flag.Count</th>\n",
              "      <th>CWE.Flag.Count</th>\n",
              "      <th>ECE.Flag.Count</th>\n",
              "      <th>Down.Up.Ratio</th>\n",
              "      <th>Average.Packet.Size</th>\n",
              "      <th>Avg.Fwd.Segment.Size</th>\n",
              "      <th>Avg.Bwd.Segment.Size</th>\n",
              "      <th>Fwd.Header.Length.1</th>\n",
              "      <th>Fwd.Avg.Bytes.Bulk</th>\n",
              "      <th>Fwd.Avg.Packets.Bulk</th>\n",
              "      <th>Fwd.Avg.Bulk.Rate</th>\n",
              "      <th>Bwd.Avg.Bytes.Bulk</th>\n",
              "      <th>Bwd.Avg.Packets.Bulk</th>\n",
              "      <th>Bwd.Avg.Bulk.Rate</th>\n",
              "      <th>Subflow.Fwd.Packets</th>\n",
              "      <th>Subflow.Fwd.Bytes</th>\n",
              "      <th>Subflow.Bwd.Packets</th>\n",
              "      <th>Subflow.Bwd.Bytes</th>\n",
              "      <th>Init_Win_bytes_forward</th>\n",
              "      <th>Init_Win_bytes_backward</th>\n",
              "      <th>act_data_pkt_fwd</th>\n",
              "      <th>min_seg_size_forward</th>\n",
              "      <th>Active.Mean</th>\n",
              "      <th>Active.Std</th>\n",
              "      <th>Active.Max</th>\n",
              "      <th>Active.Min</th>\n",
              "      <th>Idle.Mean</th>\n",
              "      <th>Idle.Std</th>\n",
              "      <th>Idle.Max</th>\n",
              "      <th>Idle.Min</th>\n",
              "      <th>SimillarHTTP</th>\n",
              "      <th>Inbound</th>\n",
              "      <th>Label</th>\n",
              "    </tr>\n",
              "  </thead>\n",
              "  <tbody>\n",
              "    <tr>\n",
              "      <th>0</th>\n",
              "      <td>1110</td>\n",
              "      <td>172.16.0.5-192.168.50.1-872-45984-17</td>\n",
              "      <td>172.16.0.5</td>\n",
              "      <td>872</td>\n",
              "      <td>192.168.50.1</td>\n",
              "      <td>45984</td>\n",
              "      <td>17</td>\n",
              "      <td>29:44.0</td>\n",
              "      <td>2</td>\n",
              "      <td>2</td>\n",
              "      <td>0</td>\n",
              "      <td>2944</td>\n",
              "      <td>0</td>\n",
              "      <td>1472</td>\n",
              "      <td>1472</td>\n",
              "      <td>1472.0</td>\n",
              "      <td>0.0</td>\n",
              "      <td>0</td>\n",
              "      <td>0</td>\n",
              "      <td>0.0</td>\n",
              "      <td>0.0</td>\n",
              "      <td>1.470000e+09</td>\n",
              "      <td>1.000000e+06</td>\n",
              "      <td>2.0</td>\n",
              "      <td>0.0</td>\n",
              "      <td>2.0</td>\n",
              "      <td>2</td>\n",
              "      <td>2</td>\n",
              "      <td>2.0</td>\n",
              "      <td>0.0</td>\n",
              "      <td>2</td>\n",
              "      <td>2</td>\n",
              "      <td>0</td>\n",
              "      <td>0.0</td>\n",
              "      <td>0.0</td>\n",
              "      <td>0.0</td>\n",
              "      <td>0</td>\n",
              "      <td>0</td>\n",
              "      <td>0</td>\n",
              "      <td>0</td>\n",
              "      <td>...</td>\n",
              "      <td>0.0</td>\n",
              "      <td>0.0</td>\n",
              "      <td>0</td>\n",
              "      <td>0</td>\n",
              "      <td>0</td>\n",
              "      <td>0</td>\n",
              "      <td>0</td>\n",
              "      <td>0</td>\n",
              "      <td>0</td>\n",
              "      <td>0</td>\n",
              "      <td>0</td>\n",
              "      <td>2208.0</td>\n",
              "      <td>1472.0</td>\n",
              "      <td>0.0</td>\n",
              "      <td>0.0</td>\n",
              "      <td>0</td>\n",
              "      <td>0</td>\n",
              "      <td>0</td>\n",
              "      <td>0</td>\n",
              "      <td>0</td>\n",
              "      <td>0</td>\n",
              "      <td>2</td>\n",
              "      <td>2944</td>\n",
              "      <td>0</td>\n",
              "      <td>0</td>\n",
              "      <td>-1</td>\n",
              "      <td>-1</td>\n",
              "      <td>1</td>\n",
              "      <td>0</td>\n",
              "      <td>0.0</td>\n",
              "      <td>0.0</td>\n",
              "      <td>0</td>\n",
              "      <td>0</td>\n",
              "      <td>0.0</td>\n",
              "      <td>0.0</td>\n",
              "      <td>0.0</td>\n",
              "      <td>0.0</td>\n",
              "      <td>0</td>\n",
              "      <td>1</td>\n",
              "      <td>DrDoS_LDAP</td>\n",
              "    </tr>\n",
              "    <tr>\n",
              "      <th>1</th>\n",
              "      <td>25998</td>\n",
              "      <td>172.16.0.5-192.168.50.1-867-39632-17</td>\n",
              "      <td>172.16.0.5</td>\n",
              "      <td>867</td>\n",
              "      <td>192.168.50.1</td>\n",
              "      <td>39632</td>\n",
              "      <td>17</td>\n",
              "      <td>31:01.1</td>\n",
              "      <td>43</td>\n",
              "      <td>2</td>\n",
              "      <td>0</td>\n",
              "      <td>2944</td>\n",
              "      <td>0</td>\n",
              "      <td>1472</td>\n",
              "      <td>1472</td>\n",
              "      <td>1472.0</td>\n",
              "      <td>0.0</td>\n",
              "      <td>0</td>\n",
              "      <td>0</td>\n",
              "      <td>0.0</td>\n",
              "      <td>0.0</td>\n",
              "      <td>6.846512e+07</td>\n",
              "      <td>4.651163e+04</td>\n",
              "      <td>43.0</td>\n",
              "      <td>0.0</td>\n",
              "      <td>43.0</td>\n",
              "      <td>43</td>\n",
              "      <td>43</td>\n",
              "      <td>43.0</td>\n",
              "      <td>0.0</td>\n",
              "      <td>43</td>\n",
              "      <td>43</td>\n",
              "      <td>0</td>\n",
              "      <td>0.0</td>\n",
              "      <td>0.0</td>\n",
              "      <td>0.0</td>\n",
              "      <td>0</td>\n",
              "      <td>0</td>\n",
              "      <td>0</td>\n",
              "      <td>0</td>\n",
              "      <td>...</td>\n",
              "      <td>0.0</td>\n",
              "      <td>0.0</td>\n",
              "      <td>0</td>\n",
              "      <td>0</td>\n",
              "      <td>0</td>\n",
              "      <td>0</td>\n",
              "      <td>0</td>\n",
              "      <td>0</td>\n",
              "      <td>0</td>\n",
              "      <td>0</td>\n",
              "      <td>0</td>\n",
              "      <td>2208.0</td>\n",
              "      <td>1472.0</td>\n",
              "      <td>0.0</td>\n",
              "      <td>0.0</td>\n",
              "      <td>0</td>\n",
              "      <td>0</td>\n",
              "      <td>0</td>\n",
              "      <td>0</td>\n",
              "      <td>0</td>\n",
              "      <td>0</td>\n",
              "      <td>2</td>\n",
              "      <td>2944</td>\n",
              "      <td>0</td>\n",
              "      <td>0</td>\n",
              "      <td>-1</td>\n",
              "      <td>-1</td>\n",
              "      <td>1</td>\n",
              "      <td>0</td>\n",
              "      <td>0.0</td>\n",
              "      <td>0.0</td>\n",
              "      <td>0</td>\n",
              "      <td>0</td>\n",
              "      <td>0.0</td>\n",
              "      <td>0.0</td>\n",
              "      <td>0.0</td>\n",
              "      <td>0.0</td>\n",
              "      <td>0</td>\n",
              "      <td>1</td>\n",
              "      <td>DrDoS_LDAP</td>\n",
              "    </tr>\n",
              "    <tr>\n",
              "      <th>2</th>\n",
              "      <td>10751</td>\n",
              "      <td>172.16.0.5-192.168.50.1-818-826-17</td>\n",
              "      <td>172.16.0.5</td>\n",
              "      <td>818</td>\n",
              "      <td>192.168.50.1</td>\n",
              "      <td>826</td>\n",
              "      <td>17</td>\n",
              "      <td>24:38.4</td>\n",
              "      <td>1</td>\n",
              "      <td>2</td>\n",
              "      <td>0</td>\n",
              "      <td>2944</td>\n",
              "      <td>0</td>\n",
              "      <td>1472</td>\n",
              "      <td>1472</td>\n",
              "      <td>1472.0</td>\n",
              "      <td>0.0</td>\n",
              "      <td>0</td>\n",
              "      <td>0</td>\n",
              "      <td>0.0</td>\n",
              "      <td>0.0</td>\n",
              "      <td>2.940000e+09</td>\n",
              "      <td>2.000000e+06</td>\n",
              "      <td>1.0</td>\n",
              "      <td>0.0</td>\n",
              "      <td>1.0</td>\n",
              "      <td>1</td>\n",
              "      <td>1</td>\n",
              "      <td>1.0</td>\n",
              "      <td>0.0</td>\n",
              "      <td>1</td>\n",
              "      <td>1</td>\n",
              "      <td>0</td>\n",
              "      <td>0.0</td>\n",
              "      <td>0.0</td>\n",
              "      <td>0.0</td>\n",
              "      <td>0</td>\n",
              "      <td>0</td>\n",
              "      <td>0</td>\n",
              "      <td>0</td>\n",
              "      <td>...</td>\n",
              "      <td>0.0</td>\n",
              "      <td>0.0</td>\n",
              "      <td>0</td>\n",
              "      <td>0</td>\n",
              "      <td>0</td>\n",
              "      <td>0</td>\n",
              "      <td>0</td>\n",
              "      <td>0</td>\n",
              "      <td>0</td>\n",
              "      <td>0</td>\n",
              "      <td>0</td>\n",
              "      <td>2208.0</td>\n",
              "      <td>1472.0</td>\n",
              "      <td>0.0</td>\n",
              "      <td>40.0</td>\n",
              "      <td>0</td>\n",
              "      <td>0</td>\n",
              "      <td>0</td>\n",
              "      <td>0</td>\n",
              "      <td>0</td>\n",
              "      <td>0</td>\n",
              "      <td>2</td>\n",
              "      <td>2944</td>\n",
              "      <td>0</td>\n",
              "      <td>0</td>\n",
              "      <td>-1</td>\n",
              "      <td>-1</td>\n",
              "      <td>1</td>\n",
              "      <td>20</td>\n",
              "      <td>0.0</td>\n",
              "      <td>0.0</td>\n",
              "      <td>0</td>\n",
              "      <td>0</td>\n",
              "      <td>0.0</td>\n",
              "      <td>0.0</td>\n",
              "      <td>0.0</td>\n",
              "      <td>0.0</td>\n",
              "      <td>0</td>\n",
              "      <td>1</td>\n",
              "      <td>DrDoS_LDAP</td>\n",
              "    </tr>\n",
              "    <tr>\n",
              "      <th>3</th>\n",
              "      <td>15983</td>\n",
              "      <td>172.16.0.5-192.168.50.1-894-32984-17</td>\n",
              "      <td>172.16.0.5</td>\n",
              "      <td>894</td>\n",
              "      <td>192.168.50.1</td>\n",
              "      <td>32984</td>\n",
              "      <td>17</td>\n",
              "      <td>27:01.5</td>\n",
              "      <td>1</td>\n",
              "      <td>2</td>\n",
              "      <td>0</td>\n",
              "      <td>2944</td>\n",
              "      <td>0</td>\n",
              "      <td>1472</td>\n",
              "      <td>1472</td>\n",
              "      <td>1472.0</td>\n",
              "      <td>0.0</td>\n",
              "      <td>0</td>\n",
              "      <td>0</td>\n",
              "      <td>0.0</td>\n",
              "      <td>0.0</td>\n",
              "      <td>2.940000e+09</td>\n",
              "      <td>2.000000e+06</td>\n",
              "      <td>1.0</td>\n",
              "      <td>0.0</td>\n",
              "      <td>1.0</td>\n",
              "      <td>1</td>\n",
              "      <td>1</td>\n",
              "      <td>1.0</td>\n",
              "      <td>0.0</td>\n",
              "      <td>1</td>\n",
              "      <td>1</td>\n",
              "      <td>0</td>\n",
              "      <td>0.0</td>\n",
              "      <td>0.0</td>\n",
              "      <td>0.0</td>\n",
              "      <td>0</td>\n",
              "      <td>0</td>\n",
              "      <td>0</td>\n",
              "      <td>0</td>\n",
              "      <td>...</td>\n",
              "      <td>0.0</td>\n",
              "      <td>0.0</td>\n",
              "      <td>0</td>\n",
              "      <td>0</td>\n",
              "      <td>0</td>\n",
              "      <td>0</td>\n",
              "      <td>0</td>\n",
              "      <td>0</td>\n",
              "      <td>0</td>\n",
              "      <td>0</td>\n",
              "      <td>0</td>\n",
              "      <td>2208.0</td>\n",
              "      <td>1472.0</td>\n",
              "      <td>0.0</td>\n",
              "      <td>-2.0</td>\n",
              "      <td>0</td>\n",
              "      <td>0</td>\n",
              "      <td>0</td>\n",
              "      <td>0</td>\n",
              "      <td>0</td>\n",
              "      <td>0</td>\n",
              "      <td>2</td>\n",
              "      <td>2944</td>\n",
              "      <td>0</td>\n",
              "      <td>0</td>\n",
              "      <td>-1</td>\n",
              "      <td>-1</td>\n",
              "      <td>1</td>\n",
              "      <td>-1</td>\n",
              "      <td>0.0</td>\n",
              "      <td>0.0</td>\n",
              "      <td>0</td>\n",
              "      <td>0</td>\n",
              "      <td>0.0</td>\n",
              "      <td>0.0</td>\n",
              "      <td>0.0</td>\n",
              "      <td>0.0</td>\n",
              "      <td>0</td>\n",
              "      <td>1</td>\n",
              "      <td>DrDoS_LDAP</td>\n",
              "    </tr>\n",
              "    <tr>\n",
              "      <th>4</th>\n",
              "      <td>29733</td>\n",
              "      <td>172.16.0.5-192.168.50.1-877-12571-17</td>\n",
              "      <td>172.16.0.5</td>\n",
              "      <td>877</td>\n",
              "      <td>192.168.50.1</td>\n",
              "      <td>12571</td>\n",
              "      <td>17</td>\n",
              "      <td>26:58.1</td>\n",
              "      <td>3</td>\n",
              "      <td>2</td>\n",
              "      <td>0</td>\n",
              "      <td>2944</td>\n",
              "      <td>0</td>\n",
              "      <td>1472</td>\n",
              "      <td>1472</td>\n",
              "      <td>1472.0</td>\n",
              "      <td>0.0</td>\n",
              "      <td>0</td>\n",
              "      <td>0</td>\n",
              "      <td>0.0</td>\n",
              "      <td>0.0</td>\n",
              "      <td>9.813333e+08</td>\n",
              "      <td>6.666667e+05</td>\n",
              "      <td>3.0</td>\n",
              "      <td>0.0</td>\n",
              "      <td>3.0</td>\n",
              "      <td>3</td>\n",
              "      <td>3</td>\n",
              "      <td>3.0</td>\n",
              "      <td>0.0</td>\n",
              "      <td>3</td>\n",
              "      <td>3</td>\n",
              "      <td>0</td>\n",
              "      <td>0.0</td>\n",
              "      <td>0.0</td>\n",
              "      <td>0.0</td>\n",
              "      <td>0</td>\n",
              "      <td>0</td>\n",
              "      <td>0</td>\n",
              "      <td>0</td>\n",
              "      <td>...</td>\n",
              "      <td>0.0</td>\n",
              "      <td>0.0</td>\n",
              "      <td>0</td>\n",
              "      <td>0</td>\n",
              "      <td>0</td>\n",
              "      <td>0</td>\n",
              "      <td>0</td>\n",
              "      <td>0</td>\n",
              "      <td>0</td>\n",
              "      <td>0</td>\n",
              "      <td>0</td>\n",
              "      <td>2208.0</td>\n",
              "      <td>1472.0</td>\n",
              "      <td>0.0</td>\n",
              "      <td>0.0</td>\n",
              "      <td>0</td>\n",
              "      <td>0</td>\n",
              "      <td>0</td>\n",
              "      <td>0</td>\n",
              "      <td>0</td>\n",
              "      <td>0</td>\n",
              "      <td>2</td>\n",
              "      <td>2944</td>\n",
              "      <td>0</td>\n",
              "      <td>0</td>\n",
              "      <td>-1</td>\n",
              "      <td>-1</td>\n",
              "      <td>1</td>\n",
              "      <td>0</td>\n",
              "      <td>0.0</td>\n",
              "      <td>0.0</td>\n",
              "      <td>0</td>\n",
              "      <td>0</td>\n",
              "      <td>0.0</td>\n",
              "      <td>0.0</td>\n",
              "      <td>0.0</td>\n",
              "      <td>0.0</td>\n",
              "      <td>0</td>\n",
              "      <td>1</td>\n",
              "      <td>DrDoS_LDAP</td>\n",
              "    </tr>\n",
              "  </tbody>\n",
              "</table>\n",
              "<p>5 rows × 88 columns</p>\n",
              "</div>"
            ],
            "text/plain": [
              "   Unnamed..0                               Flow.ID  ... Inbound       Label\n",
              "0        1110  172.16.0.5-192.168.50.1-872-45984-17  ...       1  DrDoS_LDAP\n",
              "1       25998  172.16.0.5-192.168.50.1-867-39632-17  ...       1  DrDoS_LDAP\n",
              "2       10751    172.16.0.5-192.168.50.1-818-826-17  ...       1  DrDoS_LDAP\n",
              "3       15983  172.16.0.5-192.168.50.1-894-32984-17  ...       1  DrDoS_LDAP\n",
              "4       29733  172.16.0.5-192.168.50.1-877-12571-17  ...       1  DrDoS_LDAP\n",
              "\n",
              "[5 rows x 88 columns]"
            ]
          },
          "metadata": {
            "tags": []
          },
          "execution_count": 5
        }
      ]
    },
    {
      "cell_type": "code",
      "metadata": {
        "colab": {
          "base_uri": "https://localhost:8080/"
        },
        "id": "JtnabgYfm5PB",
        "outputId": "43f4222b-253d-493f-9df1-d949ab431ef0"
      },
      "source": [
        "df.Label.unique()"
      ],
      "execution_count": null,
      "outputs": [
        {
          "output_type": "execute_result",
          "data": {
            "text/plain": [
              "array(['DrDoS_LDAP', 'DrDoS_DNS', 'DrDoS_MSSQL', 'DrDoS_UDP',\n",
              "       'DrDoS_NetBIOS', 'Syn', 'UDP-lag', 'DrDoS_SSDP', 'DrDoS_SNMP',\n",
              "       'DrDoS_NTP', 'TFTP', 'BENIGN'], dtype=object)"
            ]
          },
          "metadata": {
            "tags": []
          },
          "execution_count": 6
        }
      ]
    },
    {
      "cell_type": "code",
      "metadata": {
        "id": "pD31AOBYnExt"
      },
      "source": [
        "df1 = df.replace(to_replace =\"DrDoS_LDAP\", \n",
        "                 value =1.0) \n",
        "df2 = df1.replace(to_replace =\"DrDoS_DNS\", \n",
        "                 value =2.0)\n",
        "df3 = df2.replace(to_replace =\"DrDoS_MSSQL\", \n",
        "                 value =3.0)\n",
        "df4 = df3.replace(to_replace =\"DrDoS_UDP\", \n",
        "                 value =4.0)\n",
        "df5 = df4.replace(to_replace =\"DrDoS_NetBIOS\", \n",
        "                 value =5.0)\n",
        "df6 = df5.replace(to_replace =\"Syn\", \n",
        "                 value =6.0)\n",
        "df7 = df6.replace(to_replace =\"UDP-lag\", \n",
        "                 value =7.0)\n",
        "df8 = df7.replace(to_replace =\"DrDoS_SSDP\", \n",
        "                 value =8.0)\n",
        "df9 = df8.replace(to_replace =\"DrDoS_SNMP\", \n",
        "                 value =9.0)\n",
        "df10 = df9.replace(to_replace =\"DrDoS_NTP\", \n",
        "                 value =10.0)\n",
        "df11 = df10.replace(to_replace =\"TFTP\", \n",
        "                 value =11.0)\n",
        "df12 = df11.replace(to_replace =\"BENIGN\", \n",
        "                 value =0.0)"
      ],
      "execution_count": null,
      "outputs": []
    },
    {
      "cell_type": "code",
      "metadata": {
        "colab": {
          "base_uri": "https://localhost:8080/"
        },
        "id": "DvDEpQHjnFOf",
        "outputId": "5b8986e8-a251-4d38-cb3a-79ee2a357823"
      },
      "source": [
        "df12.Label.unique()"
      ],
      "execution_count": null,
      "outputs": [
        {
          "output_type": "execute_result",
          "data": {
            "text/plain": [
              "array([ 1.,  2.,  3.,  4.,  5.,  6.,  7.,  8.,  9., 10., 11.,  0.])"
            ]
          },
          "metadata": {
            "tags": []
          },
          "execution_count": 8
        }
      ]
    },
    {
      "cell_type": "code",
      "metadata": {
        "id": "U3_dDhLHnHE0"
      },
      "source": [
        "df12[\"Flow.ID\"] = df12[\"Flow.ID\"].str.replace(r'\\D', '')\n",
        "df12[\"Source.IP\"] = df12[\"Source.IP\"].str.replace(r'\\D', '')\n",
        "df12[\"Destination.IP\"] = df12[\"Destination.IP\"].str.replace(r'\\D', '')\n",
        "df12[\"Timestamp\"] = df12[\"Timestamp\"].str.replace(r'\\D', '')\n",
        "df13 = df12.drop(columns=['SimillarHTTP'])\n",
        "df14 =  df13.replace([np.inf, -np.inf], np.nan)\n",
        "df15 = df14.fillna(0)\n"
      ],
      "execution_count": null,
      "outputs": []
    },
    {
      "cell_type": "code",
      "metadata": {
        "colab": {
          "base_uri": "https://localhost:8080/"
        },
        "id": "waJXa4yhnIxI",
        "outputId": "80d29afd-a153-44c7-ae65-c4d6dd4b4eb6"
      },
      "source": [
        "print(df15.dtypes)"
      ],
      "execution_count": null,
      "outputs": [
        {
          "output_type": "stream",
          "text": [
            "Unnamed..0          int64\n",
            "Flow.ID            object\n",
            "Source.IP          object\n",
            "Source.Port         int64\n",
            "Destination.IP     object\n",
            "                   ...   \n",
            "Idle.Std          float64\n",
            "Idle.Max          float64\n",
            "Idle.Min          float64\n",
            "Inbound             int64\n",
            "Label             float64\n",
            "Length: 87, dtype: object\n"
          ],
          "name": "stdout"
        }
      ]
    },
    {
      "cell_type": "code",
      "metadata": {
        "id": "2XwhCTaWH09B"
      },
      "source": [
        "df16 = df15.astype(float)"
      ],
      "execution_count": null,
      "outputs": []
    },
    {
      "cell_type": "code",
      "metadata": {
        "colab": {
          "base_uri": "https://localhost:8080/"
        },
        "id": "-mqmdRwLIG6V",
        "outputId": "64988755-d4f1-424d-c6b7-e146a66f37dc"
      },
      "source": [
        "print(df16.dtypes)"
      ],
      "execution_count": null,
      "outputs": [
        {
          "output_type": "stream",
          "text": [
            "Unnamed..0        float64\n",
            "Flow.ID           float64\n",
            "Source.IP         float64\n",
            "Source.Port       float64\n",
            "Destination.IP    float64\n",
            "                   ...   \n",
            "Idle.Std          float64\n",
            "Idle.Max          float64\n",
            "Idle.Min          float64\n",
            "Inbound           float64\n",
            "Label             float64\n",
            "Length: 87, dtype: object\n"
          ],
          "name": "stdout"
        }
      ]
    },
    {
      "cell_type": "code",
      "metadata": {
        "colab": {
          "base_uri": "https://localhost:8080/"
        },
        "id": "P_QfyKLWnKMJ",
        "outputId": "dbafc4c9-5ef2-4ae8-dfca-947287682256"
      },
      "source": [
        "df16.isnull().values.any()"
      ],
      "execution_count": null,
      "outputs": [
        {
          "output_type": "execute_result",
          "data": {
            "text/plain": [
              "False"
            ]
          },
          "metadata": {
            "tags": []
          },
          "execution_count": 13
        }
      ]
    },
    {
      "cell_type": "code",
      "metadata": {
        "id": "4T2ulL_jnLt5"
      },
      "source": [
        "a = df16.drop('Label', axis=1)\n",
        "b = df16['Label']"
      ],
      "execution_count": null,
      "outputs": []
    },
    {
      "cell_type": "code",
      "metadata": {
        "id": "Vq4N0-AxnQG3"
      },
      "source": [
        "#Univariate feature selection\n",
        "from sklearn.feature_selection import SelectKBest\n",
        "from sklearn.feature_selection import f_classif\n"
      ],
      "execution_count": null,
      "outputs": []
    },
    {
      "cell_type": "code",
      "metadata": {
        "colab": {
          "base_uri": "https://localhost:8080/"
        },
        "id": "QXLxnFhanRR4",
        "outputId": "8aa97867-3984-4e20-c612-88f09a7bcf4c"
      },
      "source": [
        "bestfeatures = SelectKBest(score_func=f_classif, k=10)\n",
        "fit = bestfeatures.fit(a,b)"
      ],
      "execution_count": null,
      "outputs": [
        {
          "output_type": "stream",
          "text": [
            "/usr/local/lib/python3.7/dist-packages/sklearn/feature_selection/_univariate_selection.py:114: UserWarning: Features [38 39 40 50 53 57 63 64 65 66 67 68] are constant.\n",
            "  UserWarning)\n",
            "/usr/local/lib/python3.7/dist-packages/sklearn/feature_selection/_univariate_selection.py:115: RuntimeWarning: invalid value encountered in true_divide\n",
            "  f = msb / msw\n"
          ],
          "name": "stderr"
        }
      ]
    },
    {
      "cell_type": "code",
      "metadata": {
        "id": "YpoAKjzrnXEy"
      },
      "source": [
        "dfscores = pd.DataFrame(fit.scores_)\n",
        "dfcolumns = pd.DataFrame(a.columns)"
      ],
      "execution_count": null,
      "outputs": []
    },
    {
      "cell_type": "code",
      "metadata": {
        "id": "bNtTHp34ngEp"
      },
      "source": [
        "#concat two dataframes for better visualization \n",
        "featureScores = pd.concat([dfcolumns,dfscores],axis=1)\n",
        "featureScores.columns = ['Specs','Score']  #naming the dataframe columns"
      ],
      "execution_count": null,
      "outputs": []
    },
    {
      "cell_type": "code",
      "metadata": {
        "colab": {
          "base_uri": "https://localhost:8080/",
          "height": 410
        },
        "id": "Y6OzAFotngjJ",
        "outputId": "dc164739-25e2-42e4-e262-ff8d5d908748"
      },
      "source": [
        "featureScores"
      ],
      "execution_count": null,
      "outputs": [
        {
          "output_type": "execute_result",
          "data": {
            "text/html": [
              "<div>\n",
              "<style scoped>\n",
              "    .dataframe tbody tr th:only-of-type {\n",
              "        vertical-align: middle;\n",
              "    }\n",
              "\n",
              "    .dataframe tbody tr th {\n",
              "        vertical-align: top;\n",
              "    }\n",
              "\n",
              "    .dataframe thead th {\n",
              "        text-align: right;\n",
              "    }\n",
              "</style>\n",
              "<table border=\"1\" class=\"dataframe\">\n",
              "  <thead>\n",
              "    <tr style=\"text-align: right;\">\n",
              "      <th></th>\n",
              "      <th>Specs</th>\n",
              "      <th>Score</th>\n",
              "    </tr>\n",
              "  </thead>\n",
              "  <tbody>\n",
              "    <tr>\n",
              "      <th>0</th>\n",
              "      <td>Unnamed..0</td>\n",
              "      <td>51955.707092</td>\n",
              "    </tr>\n",
              "    <tr>\n",
              "      <th>1</th>\n",
              "      <td>Flow.ID</td>\n",
              "      <td>52.720401</td>\n",
              "    </tr>\n",
              "    <tr>\n",
              "      <th>2</th>\n",
              "      <td>Source.IP</td>\n",
              "      <td>1717.360103</td>\n",
              "    </tr>\n",
              "    <tr>\n",
              "      <th>3</th>\n",
              "      <td>Source.Port</td>\n",
              "      <td>79216.760878</td>\n",
              "    </tr>\n",
              "    <tr>\n",
              "      <th>4</th>\n",
              "      <td>Destination.IP</td>\n",
              "      <td>3533.308104</td>\n",
              "    </tr>\n",
              "    <tr>\n",
              "      <th>...</th>\n",
              "      <td>...</td>\n",
              "      <td>...</td>\n",
              "    </tr>\n",
              "    <tr>\n",
              "      <th>81</th>\n",
              "      <td>Idle.Mean</td>\n",
              "      <td>2475.944810</td>\n",
              "    </tr>\n",
              "    <tr>\n",
              "      <th>82</th>\n",
              "      <td>Idle.Std</td>\n",
              "      <td>1223.552055</td>\n",
              "    </tr>\n",
              "    <tr>\n",
              "      <th>83</th>\n",
              "      <td>Idle.Max</td>\n",
              "      <td>2454.288515</td>\n",
              "    </tr>\n",
              "    <tr>\n",
              "      <th>84</th>\n",
              "      <td>Idle.Min</td>\n",
              "      <td>2337.354451</td>\n",
              "    </tr>\n",
              "    <tr>\n",
              "      <th>85</th>\n",
              "      <td>Inbound</td>\n",
              "      <td>130658.003285</td>\n",
              "    </tr>\n",
              "  </tbody>\n",
              "</table>\n",
              "<p>86 rows × 2 columns</p>\n",
              "</div>"
            ],
            "text/plain": [
              "             Specs          Score\n",
              "0       Unnamed..0   51955.707092\n",
              "1          Flow.ID      52.720401\n",
              "2        Source.IP    1717.360103\n",
              "3      Source.Port   79216.760878\n",
              "4   Destination.IP    3533.308104\n",
              "..             ...            ...\n",
              "81       Idle.Mean    2475.944810\n",
              "82        Idle.Std    1223.552055\n",
              "83        Idle.Max    2454.288515\n",
              "84        Idle.Min    2337.354451\n",
              "85         Inbound  130658.003285\n",
              "\n",
              "[86 rows x 2 columns]"
            ]
          },
          "metadata": {
            "tags": []
          },
          "execution_count": 19
        }
      ]
    },
    {
      "cell_type": "code",
      "metadata": {
        "colab": {
          "base_uri": "https://localhost:8080/"
        },
        "id": "-LTUM1P9o5AI",
        "outputId": "ac90a969-84a2-4d37-f6b4-4568b9937e15"
      },
      "source": [
        "print(featureScores.nlargest(15,'Score'))  #print 15 best features"
      ],
      "execution_count": null,
      "outputs": [
        {
          "output_type": "stream",
          "text": [
            "                     Specs          Score\n",
            "59     Average.Packet.Size  325735.207411\n",
            "45       Min.Packet.Length  318628.599899\n",
            "14   Fwd.Packet.Length.Min  316318.509561\n",
            "15  Fwd.Packet.Length.Mean  316218.336716\n",
            "60    Avg.Fwd.Segment.Size  316218.336716\n",
            "47      Packet.Length.Mean  298842.410780\n",
            "13   Fwd.Packet.Length.Max  186568.966365\n",
            "85                 Inbound  130658.003285\n",
            "54          ACK.Flag.Count  118559.688229\n",
            "6                 Protocol  109661.807224\n",
            "3              Source.Port   79216.760878\n",
            "21            Flow.Bytes.s   67861.143626\n",
            "46       Max.Packet.Length   58679.169921\n",
            "0               Unnamed..0   51955.707092\n",
            "7                Timestamp   38137.974438\n"
          ],
          "name": "stdout"
        }
      ]
    },
    {
      "cell_type": "code",
      "metadata": {
        "id": "83qnlz2rulBT"
      },
      "source": [
        "c = df16.drop('Label', axis=1)\n",
        "d = df16['Label']"
      ],
      "execution_count": null,
      "outputs": []
    },
    {
      "cell_type": "code",
      "metadata": {
        "colab": {
          "base_uri": "https://localhost:8080/"
        },
        "id": "T1Vy12HwujUL",
        "outputId": "746cf328-73e3-4d48-d2b6-8fc660ed87b0"
      },
      "source": [
        "#Feature_Importance \n",
        "from sklearn.ensemble import ExtraTreesClassifier\n",
        "import matplotlib.pyplot as plt\n",
        "model = ExtraTreesClassifier()\n",
        "model.fit(c,d)"
      ],
      "execution_count": null,
      "outputs": [
        {
          "output_type": "execute_result",
          "data": {
            "text/plain": [
              "ExtraTreesClassifier(bootstrap=False, ccp_alpha=0.0, class_weight=None,\n",
              "                     criterion='gini', max_depth=None, max_features='auto',\n",
              "                     max_leaf_nodes=None, max_samples=None,\n",
              "                     min_impurity_decrease=0.0, min_impurity_split=None,\n",
              "                     min_samples_leaf=1, min_samples_split=2,\n",
              "                     min_weight_fraction_leaf=0.0, n_estimators=100,\n",
              "                     n_jobs=None, oob_score=False, random_state=None, verbose=0,\n",
              "                     warm_start=False)"
            ]
          },
          "metadata": {
            "tags": []
          },
          "execution_count": 22
        }
      ]
    },
    {
      "cell_type": "code",
      "metadata": {
        "colab": {
          "base_uri": "https://localhost:8080/"
        },
        "id": "W6Sq0YQLursQ",
        "outputId": "c400b4ea-120d-4d58-ac36-7386418ace70"
      },
      "source": [
        "print(model.feature_importances_) #use inbuilt class feature_importances of tree based classifiers"
      ],
      "execution_count": null,
      "outputs": [
        {
          "output_type": "stream",
          "text": [
            "[5.58492478e-02 1.46351007e-02 5.19944674e-03 6.22813106e-02\n",
            " 9.11488219e-04 1.64521152e-02 1.84682865e-02 2.59767049e-01\n",
            " 7.79132036e-03 4.30957268e-03 5.70644978e-04 1.18157252e-02\n",
            " 4.93668874e-05 2.85666318e-02 4.21485980e-02 4.03612877e-02\n",
            " 4.02170995e-03 4.08772983e-04 7.07454868e-04 1.53017318e-03\n",
            " 2.11480458e-04 2.74846404e-02 1.86635511e-02 8.15281474e-03\n",
            " 5.49512925e-03 5.20683534e-03 2.52781051e-03 8.73437188e-03\n",
            " 7.83873172e-03 6.35906158e-03 5.91337307e-03 2.49250032e-03\n",
            " 4.65445193e-04 1.27629894e-04 9.75963797e-05 3.81520893e-04\n",
            " 6.49936108e-04 1.21294898e-03 0.00000000e+00 0.00000000e+00\n",
            " 0.00000000e+00 5.74273040e-03 1.27371460e-04 1.58287687e-02\n",
            " 8.03754414e-04 4.65044762e-02 2.61820237e-02 3.39506254e-02\n",
            " 3.54933414e-03 1.36517665e-03 0.00000000e+00 2.23219919e-05\n",
            " 9.52057437e-04 0.00000000e+00 2.47075582e-02 1.26928406e-02\n",
            " 3.56852630e-03 0.00000000e+00 2.83766520e-03 3.47213806e-02\n",
            " 3.87253553e-02 6.84308728e-04 5.55612173e-03 0.00000000e+00\n",
            " 0.00000000e+00 0.00000000e+00 0.00000000e+00 0.00000000e+00\n",
            " 0.00000000e+00 4.50702975e-03 1.21480702e-02 1.59414764e-04\n",
            " 2.25685628e-05 2.47360374e-03 7.78517468e-04 8.18123701e-03\n",
            " 5.71613960e-03 6.68795977e-05 9.51471859e-06 4.36519264e-05\n",
            " 6.93564693e-05 7.46289775e-04 1.00301218e-04 2.97132269e-04\n",
            " 4.43939674e-04 2.78532745e-02]\n"
          ],
          "name": "stdout"
        }
      ]
    },
    {
      "cell_type": "code",
      "metadata": {
        "colab": {
          "base_uri": "https://localhost:8080/",
          "height": 265
        },
        "id": "47xV5PapusRr",
        "outputId": "7a85f3be-aa19-425a-d5f5-b2dd81f11d6c"
      },
      "source": [
        "#plot graph of feature importances for better visualization\n",
        "feat_importances = pd.Series(model.feature_importances_, index=c.columns)\n",
        "feat_importances.nlargest(15).plot(kind='barh')\n",
        "\n",
        "plt.show()"
      ],
      "execution_count": null,
      "outputs": [
        {
          "output_type": "display_data",
          "data": {
            "image/png": "[encoded data removed]",
            "text/plain": [
              "<Figure size 432x288 with 1 Axes>"
            ]
          },
          "metadata": {
            "tags": [],
            "needs_background": "light"
          }
        }
      ]
    },
    {
      "cell_type": "code",
      "metadata": {
        "colab": {
          "base_uri": "https://localhost:8080/",
          "height": 502
        },
        "id": "21MLysituuWU",
        "outputId": "759f1e52-41a6-407d-e277-eb75a2721fee"
      },
      "source": [
        "feat_importances.nlargest(15).to_frame()\n",
        "ft = feat_importances.nlargest(15).to_frame()\n",
        "ft"
      ],
      "execution_count": null,
      "outputs": [
        {
          "output_type": "execute_result",
          "data": {
            "text/html": [
              "<div>\n",
              "<style scoped>\n",
              "    .dataframe tbody tr th:only-of-type {\n",
              "        vertical-align: middle;\n",
              "    }\n",
              "\n",
              "    .dataframe tbody tr th {\n",
              "        vertical-align: top;\n",
              "    }\n",
              "\n",
              "    .dataframe thead th {\n",
              "        text-align: right;\n",
              "    }\n",
              "</style>\n",
              "<table border=\"1\" class=\"dataframe\">\n",
              "  <thead>\n",
              "    <tr style=\"text-align: right;\">\n",
              "      <th></th>\n",
              "      <th>0</th>\n",
              "    </tr>\n",
              "  </thead>\n",
              "  <tbody>\n",
              "    <tr>\n",
              "      <th>Timestamp</th>\n",
              "      <td>0.259767</td>\n",
              "    </tr>\n",
              "    <tr>\n",
              "      <th>Source.Port</th>\n",
              "      <td>0.062281</td>\n",
              "    </tr>\n",
              "    <tr>\n",
              "      <th>Unnamed..0</th>\n",
              "      <td>0.055849</td>\n",
              "    </tr>\n",
              "    <tr>\n",
              "      <th>Min.Packet.Length</th>\n",
              "      <td>0.046504</td>\n",
              "    </tr>\n",
              "    <tr>\n",
              "      <th>Fwd.Packet.Length.Min</th>\n",
              "      <td>0.042149</td>\n",
              "    </tr>\n",
              "    <tr>\n",
              "      <th>Fwd.Packet.Length.Mean</th>\n",
              "      <td>0.040361</td>\n",
              "    </tr>\n",
              "    <tr>\n",
              "      <th>Avg.Fwd.Segment.Size</th>\n",
              "      <td>0.038725</td>\n",
              "    </tr>\n",
              "    <tr>\n",
              "      <th>Average.Packet.Size</th>\n",
              "      <td>0.034721</td>\n",
              "    </tr>\n",
              "    <tr>\n",
              "      <th>Packet.Length.Mean</th>\n",
              "      <td>0.033951</td>\n",
              "    </tr>\n",
              "    <tr>\n",
              "      <th>Fwd.Packet.Length.Max</th>\n",
              "      <td>0.028567</td>\n",
              "    </tr>\n",
              "    <tr>\n",
              "      <th>Inbound</th>\n",
              "      <td>0.027853</td>\n",
              "    </tr>\n",
              "    <tr>\n",
              "      <th>Flow.Bytes.s</th>\n",
              "      <td>0.027485</td>\n",
              "    </tr>\n",
              "    <tr>\n",
              "      <th>Max.Packet.Length</th>\n",
              "      <td>0.026182</td>\n",
              "    </tr>\n",
              "    <tr>\n",
              "      <th>ACK.Flag.Count</th>\n",
              "      <td>0.024708</td>\n",
              "    </tr>\n",
              "    <tr>\n",
              "      <th>Flow.Packets.s</th>\n",
              "      <td>0.018664</td>\n",
              "    </tr>\n",
              "  </tbody>\n",
              "</table>\n",
              "</div>"
            ],
            "text/plain": [
              "                               0\n",
              "Timestamp               0.259767\n",
              "Source.Port             0.062281\n",
              "Unnamed..0              0.055849\n",
              "Min.Packet.Length       0.046504\n",
              "Fwd.Packet.Length.Min   0.042149\n",
              "Fwd.Packet.Length.Mean  0.040361\n",
              "Avg.Fwd.Segment.Size    0.038725\n",
              "Average.Packet.Size     0.034721\n",
              "Packet.Length.Mean      0.033951\n",
              "Fwd.Packet.Length.Max   0.028567\n",
              "Inbound                 0.027853\n",
              "Flow.Bytes.s            0.027485\n",
              "Max.Packet.Length       0.026182\n",
              "ACK.Flag.Count          0.024708\n",
              "Flow.Packets.s          0.018664"
            ]
          },
          "metadata": {
            "tags": []
          },
          "execution_count": 25
        }
      ]
    },
    {
      "cell_type": "code",
      "metadata": {
        "id": "Wp1UA7GWpONF"
      },
      "source": [
        "myl = featureScores.nlargest(15,'Score')['Specs']\n",
        "#myl = list(ft.index)\n"
      ],
      "execution_count": null,
      "outputs": []
    },
    {
      "cell_type": "code",
      "metadata": {
        "id": "p8ebFROssD7l"
      },
      "source": [
        "X = df16[myl]\n",
        "y = df16['Label']"
      ],
      "execution_count": null,
      "outputs": []
    },
    {
      "cell_type": "code",
      "metadata": {
        "id": "-XMb3Z60ub2n"
      },
      "source": [
        "from sklearn.model_selection import train_test_split\n",
        "X_train, X_test, y_train, y_test = train_test_split(X, y, test_size=0.20)"
      ],
      "execution_count": null,
      "outputs": []
    },
    {
      "cell_type": "code",
      "metadata": {
        "id": "naHfRDcLuk37",
        "colab": {
          "base_uri": "https://localhost:8080/"
        },
        "outputId": "4aa508ea-ccd2-49d3-8ce1-3a09eb3b88c2"
      },
      "source": [
        "from sklearn.tree import DecisionTreeClassifier\n",
        "classifier = DecisionTreeClassifier()\n",
        "classifier.fit(X_train, y_train)"
      ],
      "execution_count": null,
      "outputs": [
        {
          "output_type": "execute_result",
          "data": {
            "text/plain": [
              "DecisionTreeClassifier(ccp_alpha=0.0, class_weight=None, criterion='gini',\n",
              "                       max_depth=None, max_features=None, max_leaf_nodes=None,\n",
              "                       min_impurity_decrease=0.0, min_impurity_split=None,\n",
              "                       min_samples_leaf=1, min_samples_split=2,\n",
              "                       min_weight_fraction_leaf=0.0, presort='deprecated',\n",
              "                       random_state=None, splitter='best')"
            ]
          },
          "metadata": {
            "tags": []
          },
          "execution_count": 29
        }
      ]
    },
    {
      "cell_type": "code",
      "metadata": {
        "id": "Myw5_3cMunye"
      },
      "source": [
        "y_pred = classifier.predict(X_test)"
      ],
      "execution_count": null,
      "outputs": []
    },
    {
      "cell_type": "code",
      "metadata": {
        "id": "NTHsXWZ0uqk8",
        "colab": {
          "base_uri": "https://localhost:8080/"
        },
        "outputId": "230005b3-895c-4b61-9f9c-ef04afef7280"
      },
      "source": [
        "from sklearn.metrics import classification_report, confusion_matrix\n",
        "print(confusion_matrix(y_test, y_pred))\n",
        "print(classification_report(y_test, y_pred))"
      ],
      "execution_count": null,
      "outputs": [
        {
          "output_type": "stream",
          "text": [
            "[[5962    1    1    0    0    1    5    2    0    1    1    0]\n",
            " [   1 5968    0    0    0    0    0    0   11   41    4    0]\n",
            " [   0    1 5884    0    1    1    0    1    0  185    0    0]\n",
            " [   1    0    0 5954    0    1    0    0    0    0    0    0]\n",
            " [   0    0    1    2 6013    1    0    1    0    0    0    0]\n",
            " [   0    0    0    0    1 5967    0    1    0    0    0    0]\n",
            " [   2    0    0    0    0    0 5958    0    0    0    1    1]\n",
            " [   1    0    1    0    3    0    0 5947    0    4    2    0]\n",
            " [   0    8    0    0    2    0    0    0 6101    0    0    0]\n",
            " [   0   41  209    0    0    2    0    1    0 5811    0    0]\n",
            " [   1    0    0    1    0    0    0    2    0    0 5968    1]\n",
            " [   1    0    0    5    0    0    0    0    0    0    1 5910]]\n",
            "              precision    recall  f1-score   support\n",
            "\n",
            "         0.0       1.00      1.00      1.00      5974\n",
            "         1.0       0.99      0.99      0.99      6025\n",
            "         2.0       0.97      0.97      0.97      6073\n",
            "         3.0       1.00      1.00      1.00      5956\n",
            "         4.0       1.00      1.00      1.00      6018\n",
            "         5.0       1.00      1.00      1.00      5969\n",
            "         6.0       1.00      1.00      1.00      5962\n",
            "         7.0       1.00      1.00      1.00      5958\n",
            "         8.0       1.00      1.00      1.00      6111\n",
            "         9.0       0.96      0.96      0.96      6064\n",
            "        10.0       1.00      1.00      1.00      5973\n",
            "        11.0       1.00      1.00      1.00      5917\n",
            "\n",
            "    accuracy                           0.99     72000\n",
            "   macro avg       0.99      0.99      0.99     72000\n",
            "weighted avg       0.99      0.99      0.99     72000\n",
            "\n"
          ],
          "name": "stdout"
        }
      ]
    },
    {
      "cell_type": "code",
      "metadata": {
        "colab": {
          "base_uri": "https://localhost:8080/"
        },
        "id": "UbyEmXBAluMW",
        "outputId": "c2bb4998-7deb-48fe-9835-242719215d38"
      },
      "source": [
        "#Import scikit-learn metrics module for accuracy calculation\n",
        "from sklearn import metrics\n",
        "\n",
        "# Model Accuracy, how often is the classifier correct?\n",
        "print(\"Accuracy:\",metrics.accuracy_score(y_test, y_pred))\n",
        "print(\"precision:\",metrics.precision_score(y_test, y_pred,average='micro'))\n",
        "print(\"Recall:\",metrics.recall_score(y_test, y_pred,average='micro'))\n",
        "print(\"F1-Score:\",metrics.f1_score(y_test, y_pred,average='micro'))"
      ],
      "execution_count": null,
      "outputs": [
        {
          "output_type": "stream",
          "text": [
            "Accuracy: 0.9922638888888888\n",
            "precision: 0.9922638888888888\n",
            "Recall: 0.9922638888888888\n",
            "F1-Score: 0.9922638888888888\n"
          ],
          "name": "stdout"
        }
      ]
    },
    {
      "cell_type": "code",
      "metadata": {
        "id": "XuOgKbmqqLrl",
        "colab": {
          "base_uri": "https://localhost:8080/"
        },
        "outputId": "da70f2af-1600-43b4-9f35-f77b78b0a0be"
      },
      "source": [
        "from sklearn.model_selection import KFold\n",
        "from sklearn.metrics import accuracy_score, precision_score, recall_score, f1_score\n",
        "validation_accuracy = []\n",
        "validation_f1 =[]\n",
        "fold_and_validate = KFold(n_splits=10, shuffle=True, random_state=145)\n",
        "for train_set_indices, validation_set_indices in fold_and_validate.split(X_train):\n",
        "    cv_train_set = X_train.iloc[train_set_indices]\n",
        "    cv_train_target = y_train.iloc[train_set_indices]\n",
        "    \n",
        "    cv_xvalidation = X_train.iloc[validation_set_indices]\n",
        "    cv_y_true = y_train.iloc[validation_set_indices]\n",
        "    cv_y_predicted = classifier.predict(cv_xvalidation)\n",
        "    \n",
        "    cv_accuracy_score = accuracy_score(cv_y_true, cv_y_predicted)\n",
        "    cv_f1_score = f1_score(cv_y_true, cv_y_predicted,  average=\"weighted\")\n",
        "    validation_accuracy.append(cv_accuracy_score)\n",
        "    validation_f1.append(cv_f1_score)\n",
        "    \n",
        "print(\"Cross validation accuracies are: \", validation_accuracy)\n",
        "print(\"Cross validation f1 scores  are: \", validation_f1)"
      ],
      "execution_count": null,
      "outputs": [
        {
          "output_type": "stream",
          "text": [
            "Cross validation accuracies are:  [1.0, 1.0, 1.0, 1.0, 1.0, 1.0, 1.0, 1.0, 1.0, 1.0]\n",
            "Cross validation f1 scores  are:  [1.0, 1.0, 1.0, 1.0, 1.0, 1.0, 1.0, 1.0, 1.0, 1.0]\n"
          ],
          "name": "stdout"
        }
      ]
    },
    {
      "cell_type": "code",
      "metadata": {
        "id": "hbCJhc73At8K"
      },
      "source": [
        "#Import Random Forest Model\n",
        "from sklearn.ensemble import RandomForestClassifier\n",
        "\n",
        "#Create a Gaussian Classifier\n",
        "clf=RandomForestClassifier(n_estimators=100)\n",
        "\n",
        "#Train the model using the training sets y_pred=clf.predict(X_test)\n",
        "clf.fit(X_train,y_train)\n",
        "\n",
        "y_pred=clf.predict(X_test)"
      ],
      "execution_count": null,
      "outputs": []
    },
    {
      "cell_type": "code",
      "metadata": {
        "colab": {
          "base_uri": "https://localhost:8080/"
        },
        "id": "uNvi9eT0mCae",
        "outputId": "1547c7ed-34d4-4120-f9ab-69a09a557bc5"
      },
      "source": [
        "from sklearn.metrics import classification_report, confusion_matrix\n",
        "print(confusion_matrix(y_test, y_pred))\n",
        "print(classification_report(y_test, y_pred))"
      ],
      "execution_count": null,
      "outputs": [
        {
          "output_type": "stream",
          "text": [
            "[[5964    0    2    0    0    0    6    2    0    0    0    0]\n",
            " [   2 5979    0    0    0    0    0    1    3   38    2    0]\n",
            " [   0    0 5922    0    1    1    0    1    0  147    1    0]\n",
            " [   1    0    0 5952    0    1    0    0    0    1    0    1]\n",
            " [   0    0    1    2 6010    0    0    1    3    0    1    0]\n",
            " [   1    0    1    1    0 5963    0    0    0    3    0    0]\n",
            " [   0    0    0    0    0    0 5961    1    0    0    0    0]\n",
            " [   0    0    0    0    2    0    0 5947    0    5    4    0]\n",
            " [   0    9    1    1    1    0    0    0 6096    2    0    1]\n",
            " [   1   27  104    0    0    2    0    0    1 5928    1    0]\n",
            " [   4    0    0    0    0    0    0    2    0    0 5966    1]\n",
            " [   0    0    0    0    0    0    0    0    0    0    1 5916]]\n",
            "              precision    recall  f1-score   support\n",
            "\n",
            "         0.0       1.00      1.00      1.00      5974\n",
            "         1.0       0.99      0.99      0.99      6025\n",
            "         2.0       0.98      0.98      0.98      6073\n",
            "         3.0       1.00      1.00      1.00      5956\n",
            "         4.0       1.00      1.00      1.00      6018\n",
            "         5.0       1.00      1.00      1.00      5969\n",
            "         6.0       1.00      1.00      1.00      5962\n",
            "         7.0       1.00      1.00      1.00      5958\n",
            "         8.0       1.00      1.00      1.00      6111\n",
            "         9.0       0.97      0.98      0.97      6064\n",
            "        10.0       1.00      1.00      1.00      5973\n",
            "        11.0       1.00      1.00      1.00      5917\n",
            "\n",
            "    accuracy                           0.99     72000\n",
            "   macro avg       0.99      0.99      0.99     72000\n",
            "weighted avg       0.99      0.99      0.99     72000\n",
            "\n"
          ],
          "name": "stdout"
        }
      ]
    },
    {
      "cell_type": "code",
      "metadata": {
        "id": "lL3al5onAxPV",
        "colab": {
          "base_uri": "https://localhost:8080/"
        },
        "outputId": "0860015c-d31e-4d44-e47b-6c2d3360db78"
      },
      "source": [
        "#Import scikit-learn metrics module for accuracy calculation\n",
        "from sklearn import metrics\n",
        "\n",
        "# Model Accuracy, how often is the classifier correct?\n",
        "print(\"Accuracy:\",metrics.accuracy_score(y_test, y_pred))\n",
        "print(\"precision:\",metrics.precision_score(y_test, y_pred,average='micro'))\n",
        "print(\"Recall:\",metrics.recall_score(y_test, y_pred,average='micro'))\n",
        "print(\"F1-Score:\",metrics.f1_score(y_test, y_pred,average='micro'))"
      ],
      "execution_count": null,
      "outputs": [
        {
          "output_type": "stream",
          "text": [
            "Accuracy: 0.9945\n",
            "precision: 0.9945\n",
            "Recall: 0.9945\n",
            "F1-Score: 0.9945\n"
          ],
          "name": "stdout"
        }
      ]
    },
    {
      "cell_type": "code",
      "metadata": {
        "colab": {
          "base_uri": "https://localhost:8080/"
        },
        "id": "7HqEarPvWQyb",
        "outputId": "b0f7e77b-1eec-4164-a7ea-bd14460b7c7b"
      },
      "source": [
        "from sklearn.model_selection import KFold\n",
        "from sklearn.metrics import accuracy_score, precision_score, recall_score, f1_score\n",
        "validation_accuracy = []\n",
        "validation_f1 =[]\n",
        "fold_and_validate = KFold(n_splits=10, shuffle=True, random_state=145)\n",
        "for train_set_indices, validation_set_indices in fold_and_validate.split(X_train):\n",
        "    cv_train_set = X_train.iloc[train_set_indices]\n",
        "    cv_train_target = y_train.iloc[train_set_indices]\n",
        "    \n",
        "    cv_xvalidation = X_train.iloc[validation_set_indices]\n",
        "    cv_y_true = y_train.iloc[validation_set_indices]\n",
        "    cv_y_predicted = clf.predict(cv_xvalidation)\n",
        "    \n",
        "    cv_accuracy_score = accuracy_score(cv_y_true, cv_y_predicted)\n",
        "    cv_f1_score = f1_score(cv_y_true, cv_y_predicted,  average=\"weighted\")\n",
        "    validation_accuracy.append(cv_accuracy_score)\n",
        "    validation_f1.append(cv_f1_score)\n",
        "    \n",
        "print(\"Cross validation accuracies are: \", validation_accuracy)\n",
        "print(\"Cross validation f1 scores  are: \", validation_f1)"
      ],
      "execution_count": null,
      "outputs": [
        {
          "output_type": "stream",
          "text": [
            "Cross validation accuracies are:  [1.0, 1.0, 1.0, 1.0, 1.0, 1.0, 1.0, 1.0, 1.0, 1.0]\n",
            "Cross validation f1 scores  are:  [1.0, 1.0, 1.0, 1.0, 1.0, 1.0, 1.0, 1.0, 1.0, 1.0]\n"
          ],
          "name": "stdout"
        }
      ]
    },
    {
      "cell_type": "code",
      "metadata": {
        "id": "ubAsQZo3Azyi"
      },
      "source": [
        "from sklearn.neighbors import KNeighborsClassifier\n",
        "\n",
        "#Create KNN Classifier\n",
        "knn = KNeighborsClassifier(n_neighbors=10)\n",
        "\n",
        "#Train the model using the training sets\n",
        "knn.fit(X_train, y_train)\n",
        "\n",
        "#Predict the response for test dataset\n",
        "y_pred = knn.predict(X_test)"
      ],
      "execution_count": null,
      "outputs": []
    },
    {
      "cell_type": "code",
      "metadata": {
        "colab": {
          "base_uri": "https://localhost:8080/"
        },
        "id": "J2rSm2RYmDhN",
        "outputId": "6d411efa-6320-446f-a9bf-f27934af8767"
      },
      "source": [
        "from sklearn.metrics import classification_report, confusion_matrix\n",
        "print(confusion_matrix(y_test, y_pred))\n",
        "print(classification_report(y_test, y_pred))"
      ],
      "execution_count": null,
      "outputs": [
        {
          "output_type": "stream",
          "text": [
            "[[5193    0   11    9  158   35   61   88  194    0  113  112]\n",
            " [   2 5828   22   14    0    1    0    4    0   90   64    0]\n",
            " [  20   36 5576   80    9    2    0    2    9  218  119    2]\n",
            " [  24   38   25 5501   21   19    0    3   57   14   88  166]\n",
            " [  84    3    7   74 5613    3    0    9  193    1   29    2]\n",
            " [  31    1    1   71    2 5746    0    1    2   92   22    0]\n",
            " [  32    0    0    0    0    0 4925  840    0    0    1  164]\n",
            " [  35    3    2   14  231    1   37 5615   11    6    3    0]\n",
            " [  80   19    7  132   25    9    8   44 5643   51   56   37]\n",
            " [   4  143  185   22    0   46    0    4    3 5608   49    0]\n",
            " [  30   66   31   23    1    7    0    2    2    1 5803    7]\n",
            " [  53    0    3   10    0    0  293    0    1    1    8 5548]]\n",
            "              precision    recall  f1-score   support\n",
            "\n",
            "         0.0       0.93      0.87      0.90      5974\n",
            "         1.0       0.95      0.97      0.96      6025\n",
            "         2.0       0.95      0.92      0.93      6073\n",
            "         3.0       0.92      0.92      0.92      5956\n",
            "         4.0       0.93      0.93      0.93      6018\n",
            "         5.0       0.98      0.96      0.97      5969\n",
            "         6.0       0.93      0.83      0.87      5962\n",
            "         7.0       0.85      0.94      0.89      5958\n",
            "         8.0       0.92      0.92      0.92      6111\n",
            "         9.0       0.92      0.92      0.92      6064\n",
            "        10.0       0.91      0.97      0.94      5973\n",
            "        11.0       0.92      0.94      0.93      5917\n",
            "\n",
            "    accuracy                           0.92     72000\n",
            "   macro avg       0.93      0.92      0.92     72000\n",
            "weighted avg       0.93      0.92      0.92     72000\n",
            "\n"
          ],
          "name": "stdout"
        }
      ]
    },
    {
      "cell_type": "code",
      "metadata": {
        "id": "dXZHc2g8A5V6",
        "colab": {
          "base_uri": "https://localhost:8080/"
        },
        "outputId": "ffe98d82-bbaa-4194-c391-0bb483147bf2"
      },
      "source": [
        "#Import scikit-learn metrics module for accuracy calculation\n",
        "from sklearn import metrics\n",
        "\n",
        "# Model Accuracy, how often is the classifier correct?\n",
        "print(\"Accuracy:\",metrics.accuracy_score(y_test, y_pred))\n",
        "print(\"precision:\",metrics.precision_score(y_test, y_pred,average='micro'))\n",
        "print(\"Recall:\",metrics.recall_score(y_test, y_pred,average='micro'))\n",
        "print(\"F1-Score:\",metrics.f1_score(y_test, y_pred,average='micro'))"
      ],
      "execution_count": null,
      "outputs": [
        {
          "output_type": "stream",
          "text": [
            "Accuracy: 0.9249861111111111\n",
            "precision: 0.9249861111111111\n",
            "Recall: 0.9249861111111111\n",
            "F1-Score: 0.9249861111111111\n"
          ],
          "name": "stdout"
        }
      ]
    },
    {
      "cell_type": "code",
      "metadata": {
        "colab": {
          "base_uri": "https://localhost:8080/"
        },
        "id": "RC_R5JuHW1mg",
        "outputId": "44f1ea5e-bcaa-4ed4-f8bd-7fab44bb37a1"
      },
      "source": [
        "from sklearn.model_selection import KFold\n",
        "from sklearn.metrics import accuracy_score, precision_score, recall_score, f1_score\n",
        "validation_accuracy = []\n",
        "validation_f1 =[]\n",
        "fold_and_validate = KFold(n_splits=10, shuffle=True, random_state=145)\n",
        "for train_set_indices, validation_set_indices in fold_and_validate.split(X_train):\n",
        "    cv_train_set = X_train.iloc[train_set_indices]\n",
        "    cv_train_target = y_train.iloc[train_set_indices]\n",
        "    \n",
        "    cv_xvalidation = X_train.iloc[validation_set_indices]\n",
        "    cv_y_true = y_train.iloc[validation_set_indices]\n",
        "    cv_y_predicted = knn.predict(cv_xvalidation)\n",
        "    \n",
        "    cv_accuracy_score = accuracy_score(cv_y_true, cv_y_predicted)\n",
        "    cv_f1_score = f1_score(cv_y_true, cv_y_predicted,  average=\"weighted\")\n",
        "    validation_accuracy.append(cv_accuracy_score)\n",
        "    validation_f1.append(cv_f1_score)\n",
        "    \n",
        "print(\"Cross validation accuracies are: \", validation_accuracy)\n",
        "print(\"Cross validation f1 scores  are: \", validation_f1)"
      ],
      "execution_count": null,
      "outputs": [
        {
          "output_type": "stream",
          "text": [
            "Cross validation accuracies are:  [0.9366666666666666, 0.9337847222222222, 0.9365277777777777, 0.9341666666666667, 0.9365625, 0.9352430555555555, 0.9355902777777778, 0.9342013888888889, 0.9354861111111111, 0.9357291666666666]\n",
            "Cross validation f1 scores  are:  [0.9365579161527848, 0.93370610206828, 0.9364517725213284, 0.9340470753553237, 0.9364861712790419, 0.9351106863919904, 0.9354874750471673, 0.9340971239644652, 0.9353829933623077, 0.9356100693682589]\n"
          ],
          "name": "stdout"
        }
      ]
    },
    {
      "cell_type": "code",
      "metadata": {
        "id": "mOfsX0e7A8hS"
      },
      "source": [
        "#Import Gaussian Naive Bayes model\n",
        "from sklearn.naive_bayes import GaussianNB\n",
        "\n",
        "#Create a Gaussian Classifier\n",
        "gnb = GaussianNB()\n",
        "\n",
        "#Train the model using the training sets\n",
        "gnb.fit(X_train, y_train)\n",
        "\n",
        "#Predict the response for test dataset\n",
        "y_pred = gnb.predict(X_test)"
      ],
      "execution_count": null,
      "outputs": []
    },
    {
      "cell_type": "code",
      "metadata": {
        "colab": {
          "base_uri": "https://localhost:8080/"
        },
        "id": "m2EQnH4smExF",
        "outputId": "6d428d83-22a9-4593-9460-6876bbe176bc"
      },
      "source": [
        "from sklearn.metrics import classification_report, confusion_matrix\n",
        "print(confusion_matrix(y_test, y_pred))\n",
        "print(classification_report(y_test, y_pred))"
      ],
      "execution_count": null,
      "outputs": [
        {
          "output_type": "stream",
          "text": [
            "[[4396    0   12    0    0    0  577    0    0    4  983    2]\n",
            " [   3 3822   21    0    0    0    0    0   13 1530  636    0]\n",
            " [   1 2586 1391    1    0    0    0    0   11  883 1198    2]\n",
            " [ 520  194    0 4332    0   65   34    1  353  344   38   75]\n",
            " [3444    0    3 1080  178    7    9    0 1218    5    1   73]\n",
            " [ 241    1    8   55   23 4788  597   13    1    2  240    0]\n",
            " [ 833    0    0    0    0    0 5073    0    0    0   56    0]\n",
            " [1805    0    0   98   49  104 3670   66   68    6   92    0]\n",
            " [3382   12    3 1030    0    0   36    1 1486   77    4   80]\n",
            " [  34 1418   48    9   45  122   16   25   21 4204  122    0]\n",
            " [  13    2   18    0    0   30    0    0    1  164 5742    3]\n",
            " [4282    1    0  803    0    3  324    0   52   66  373   13]]\n",
            "              precision    recall  f1-score   support\n",
            "\n",
            "         0.0       0.23      0.74      0.35      5974\n",
            "         1.0       0.48      0.63      0.54      6025\n",
            "         2.0       0.92      0.23      0.37      6073\n",
            "         3.0       0.58      0.73      0.65      5956\n",
            "         4.0       0.60      0.03      0.06      6018\n",
            "         5.0       0.94      0.80      0.86      5969\n",
            "         6.0       0.49      0.85      0.62      5962\n",
            "         7.0       0.62      0.01      0.02      5958\n",
            "         8.0       0.46      0.24      0.32      6111\n",
            "         9.0       0.58      0.69      0.63      6064\n",
            "        10.0       0.61      0.96      0.74      5973\n",
            "        11.0       0.05      0.00      0.00      5917\n",
            "\n",
            "    accuracy                           0.49     72000\n",
            "   macro avg       0.55      0.49      0.43     72000\n",
            "weighted avg       0.55      0.49      0.43     72000\n",
            "\n"
          ],
          "name": "stdout"
        }
      ]
    },
    {
      "cell_type": "code",
      "metadata": {
        "id": "FG1vci5Aa_gX",
        "colab": {
          "base_uri": "https://localhost:8080/"
        },
        "outputId": "3d6fe17b-00d3-4fb3-b687-78bfb14ea767"
      },
      "source": [
        "#Import scikit-learn metrics module for accuracy calculation\n",
        "from sklearn import metrics\n",
        "\n",
        "# Model Accuracy, how often is the classifier correct?\n",
        "print(\"Accuracy:\",metrics.accuracy_score(y_test, y_pred))\n",
        "print(\"precision:\",metrics.precision_score(y_test, y_pred,average='micro'))\n",
        "print(\"Recall:\",metrics.recall_score(y_test, y_pred,average='micro'))\n",
        "print(\"F1-Score:\",metrics.f1_score(y_test, y_pred,average='micro'))"
      ],
      "execution_count": null,
      "outputs": [
        {
          "output_type": "stream",
          "text": [
            "Accuracy: 0.49293055555555554\n",
            "precision: 0.49293055555555554\n",
            "Recall: 0.49293055555555554\n",
            "F1-Score: 0.49293055555555554\n"
          ],
          "name": "stdout"
        }
      ]
    },
    {
      "cell_type": "code",
      "metadata": {
        "colab": {
          "base_uri": "https://localhost:8080/"
        },
        "id": "1ReaRM-_XGBm",
        "outputId": "c3ef360b-5049-4b6e-8792-0c1dac90ddba"
      },
      "source": [
        "from sklearn.model_selection import KFold\n",
        "from sklearn.metrics import accuracy_score, precision_score, recall_score, f1_score\n",
        "validation_accuracy = []\n",
        "validation_f1 =[]\n",
        "fold_and_validate = KFold(n_splits=10, shuffle=True, random_state=145)\n",
        "for train_set_indices, validation_set_indices in fold_and_validate.split(X_train):\n",
        "    cv_train_set = X_train.iloc[train_set_indices]\n",
        "    cv_train_target = y_train.iloc[train_set_indices]\n",
        "    \n",
        "    cv_xvalidation = X_train.iloc[validation_set_indices]\n",
        "    cv_y_true = y_train.iloc[validation_set_indices]\n",
        "    cv_y_predicted = gnb.predict(cv_xvalidation)\n",
        "    \n",
        "    cv_accuracy_score = accuracy_score(cv_y_true, cv_y_predicted)\n",
        "    cv_f1_score = f1_score(cv_y_true, cv_y_predicted,  average=\"weighted\")\n",
        "    validation_accuracy.append(cv_accuracy_score)\n",
        "    validation_f1.append(cv_f1_score)\n",
        "    \n",
        "print(\"Cross validation accuracies are: \", validation_accuracy)\n",
        "print(\"Cross validation f1 scores  are: \", validation_f1)"
      ],
      "execution_count": null,
      "outputs": [
        {
          "output_type": "stream",
          "text": [
            "Cross validation accuracies are:  [0.4910763888888889, 0.49517361111111113, 0.4948263888888889, 0.49291666666666667, 0.4945486111111111, 0.4900347222222222, 0.4901041666666667, 0.4953125, 0.4934722222222222, 0.4907986111111111]\n",
            "Cross validation f1 scores  are:  [0.4299467986794488, 0.43485946151710525, 0.4334148028006869, 0.4305435024011452, 0.4324984911956126, 0.42914710427121794, 0.4290944444536504, 0.4322312318159786, 0.4317065455323971, 0.42893758512531954]\n"
          ],
          "name": "stdout"
        }
      ]
    },
    {
      "cell_type": "code",
      "metadata": {
        "id": "spzHHcfbXL4A"
      },
      "source": [
        "from sklearn.ensemble import GradientBoostingClassifier\n",
        "from sklearn import model_selection\n",
        "\n",
        "model_sgb = GradientBoostingClassifier(n_estimators=100, random_state=10)\n",
        "model_sgb.fit(X_train,y_train)\n",
        "y_pred = model_sgb.predict(X_test)"
      ],
      "execution_count": null,
      "outputs": []
    },
    {
      "cell_type": "code",
      "metadata": {
        "colab": {
          "base_uri": "https://localhost:8080/"
        },
        "id": "p9W5m3ZxmGjL",
        "outputId": "27ad7efc-caa1-4474-cb3d-ef22b38184b5"
      },
      "source": [
        "from sklearn.metrics import classification_report, confusion_matrix\n",
        "print(confusion_matrix(y_test, y_pred))\n",
        "print(classification_report(y_test, y_pred))"
      ],
      "execution_count": null,
      "outputs": [
        {
          "output_type": "stream",
          "text": [
            "[[5965    0    0    0    1    1    4    3    0    0    0    0]\n",
            " [   1 5970    0    0    0    0    1    2    4   47    0    0]\n",
            " [   1    0 5913    0    0    0    0    1    0  157    1    0]\n",
            " [   2    0    0 5951    0    0    0    0    0    0    0    3]\n",
            " [   0    1    1    1 6013    0    0    1    0    0    1    0]\n",
            " [   1    0    1    0    1 5966    0    0    0    0    0    0]\n",
            " [   0    0    0    0    0    0 5961    0    0    0    0    1]\n",
            " [   2    0    0    0    0    0    0 5947    1    8    0    0]\n",
            " [   0    8    0    0    2    0    0    0 6101    0    0    0]\n",
            " [   0   15  100    0    1    2    0    1    0 5945    0    0]\n",
            " [   3    0    0    0    1    0    1    1    1    0 5965    1]\n",
            " [   2    0    0    1    0    0    0    0    1    0    2 5911]]\n",
            "              precision    recall  f1-score   support\n",
            "\n",
            "         0.0       1.00      1.00      1.00      5974\n",
            "         1.0       1.00      0.99      0.99      6025\n",
            "         2.0       0.98      0.97      0.98      6073\n",
            "         3.0       1.00      1.00      1.00      5956\n",
            "         4.0       1.00      1.00      1.00      6018\n",
            "         5.0       1.00      1.00      1.00      5969\n",
            "         6.0       1.00      1.00      1.00      5962\n",
            "         7.0       1.00      1.00      1.00      5958\n",
            "         8.0       1.00      1.00      1.00      6111\n",
            "         9.0       0.97      0.98      0.97      6064\n",
            "        10.0       1.00      1.00      1.00      5973\n",
            "        11.0       1.00      1.00      1.00      5917\n",
            "\n",
            "    accuracy                           0.99     72000\n",
            "   macro avg       0.99      0.99      0.99     72000\n",
            "weighted avg       0.99      0.99      0.99     72000\n",
            "\n"
          ],
          "name": "stdout"
        }
      ]
    },
    {
      "cell_type": "code",
      "metadata": {
        "colab": {
          "base_uri": "https://localhost:8080/"
        },
        "id": "3Khez0d0XZdB",
        "outputId": "bf69b88c-846f-42be-eb4f-2f3e70d1228f"
      },
      "source": [
        "#Import scikit-learn metrics module for accuracy calculation\n",
        "from sklearn import metrics\n",
        "\n",
        "# Model Accuracy, how often is the classifier correct?\n",
        "print(\"Accuracy:\",metrics.accuracy_score(y_test, y_pred))\n",
        "print(\"precision:\",metrics.precision_score(y_test, y_pred,average='micro'))\n",
        "print(\"Recall:\",metrics.recall_score(y_test, y_pred,average='micro'))\n",
        "print(\"F1-Score:\",metrics.f1_score(y_test, y_pred,average='micro'))"
      ],
      "execution_count": null,
      "outputs": [
        {
          "output_type": "stream",
          "text": [
            "Accuracy: 0.9945555555555555\n",
            "precision: 0.9945555555555555\n",
            "Recall: 0.9945555555555555\n",
            "F1-Score: 0.9945555555555555\n"
          ],
          "name": "stdout"
        }
      ]
    },
    {
      "cell_type": "code",
      "metadata": {
        "colab": {
          "base_uri": "https://localhost:8080/"
        },
        "id": "oMtZFlkLXZ9q",
        "outputId": "d29a7b21-c0b0-4e79-d36e-7566cf87cab9"
      },
      "source": [
        "from sklearn.model_selection import KFold\n",
        "validation_accuracy = []\n",
        "validation_f1 =[]\n",
        "fold_and_validate = KFold(n_splits=10, shuffle=True, random_state=145)\n",
        "for train_set_indices, validation_set_indices in fold_and_validate.split(X_train):\n",
        "    cv_train_set = X_train.iloc[train_set_indices]\n",
        "    cv_train_target = y_train.iloc[train_set_indices]\n",
        "    \n",
        "    cv_xvalidation = X_train.iloc[validation_set_indices]\n",
        "    cv_y_true = y_train.iloc[validation_set_indices]\n",
        "    cv_y_predicted = model_sgb.predict(cv_xvalidation)\n",
        "    \n",
        "    cv_accuracy_score = accuracy_score(cv_y_true, cv_y_predicted)\n",
        "    cv_f1_score = f1_score(cv_y_true, cv_y_predicted,  average=\"weighted\")\n",
        "    validation_accuracy.append(cv_accuracy_score)\n",
        "    validation_f1.append(cv_f1_score)\n",
        "    \n",
        "print(\"Cross validation accuracies are: \", validation_accuracy)\n",
        "print(\"Cross validation f1 scores  are: \", validation_f1)"
      ],
      "execution_count": null,
      "outputs": [
        {
          "output_type": "stream",
          "text": [
            "Cross validation accuracies are:  [0.9956944444444444, 0.9954513888888888, 0.9945833333333334, 0.9952777777777778, 0.9957291666666667, 0.9951041666666667, 0.9943402777777778, 0.9960763888888889, 0.9952083333333334, 0.9953819444444445]\n",
            "Cross validation f1 scores  are:  [0.9956969705751669, 0.9954547120317379, 0.9945936848543945, 0.9952843994528815, 0.9957339687968829, 0.9951186311350494, 0.9943521292234064, 0.9960775208769921, 0.9952161812219477, 0.9953872615002436]\n"
          ],
          "name": "stdout"
        }
      ]
    }
  ]
}